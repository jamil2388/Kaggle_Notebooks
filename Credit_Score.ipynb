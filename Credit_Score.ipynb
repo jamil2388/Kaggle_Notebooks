{
 "cells": [
  {
   "cell_type": "code",
   "execution_count": 46,
   "metadata": {
    "execution": {
     "iopub.execute_input": "2024-02-16T17:17:03.598654Z",
     "iopub.status.busy": "2024-02-16T17:17:03.597374Z",
     "iopub.status.idle": "2024-02-16T17:17:03.604927Z",
     "shell.execute_reply": "2024-02-16T17:17:03.603549Z",
     "shell.execute_reply.started": "2024-02-16T17:17:03.598611Z"
    }
   },
   "outputs": [],
   "source": [
    "import pandas as pd\n",
    "import numpy as np\n",
    "import matplotlib.pyplot as plt\n",
    "import seaborn as sns\n",
    "import os\n",
    "from copy import deepcopy"
   ]
  },
  {
   "cell_type": "markdown",
   "metadata": {},
   "source": [
    "### Global Variables"
   ]
  },
  {
   "cell_type": "code",
   "execution_count": 40,
   "metadata": {
    "execution": {
     "iopub.execute_input": "2024-02-16T17:17:03.607266Z",
     "iopub.status.busy": "2024-02-16T17:17:03.606847Z",
     "iopub.status.idle": "2024-02-16T17:17:03.620829Z",
     "shell.execute_reply": "2024-02-16T17:17:03.619907Z",
     "shell.execute_reply.started": "2024-02-16T17:17:03.607228Z"
    }
   },
   "outputs": [],
   "source": [
    "epochs = 100\n",
    "r_epochs = 2000 # num epochs for regularization\n",
    "folds = 5\n",
    "a = 0.25 # alpha for regularization\n",
    "n_features = 87 # number of selected features after regularization\n",
    "degree = 2 # polynomial degree\n",
    "\n",
    "# local setup\n",
    "dataset_path = '../../Datasets/Kaggle/Credit_Score'\n",
    "output_path = dataset_path\n",
    "\n",
    "# kaggle kernel setup\n",
    "# dataset_path = '/kaggle/input/uwindsor-ai-club-can-credit-score-be-predicted'\n",
    "# output_path = '/kaggle/working'"
   ]
  },
  {
   "cell_type": "code",
   "execution_count": 21,
   "metadata": {},
   "outputs": [],
   "source": [
    "def load_data(data):\n",
    "    df = pd.read_csv(data)\n",
    "    return df"
   ]
  },
  {
   "cell_type": "markdown",
   "metadata": {},
   "source": [
    "### Load Train and Test Data\n",
    "\n",
    "kaggle link of the data : <br>\n",
    "https://www.kaggle.com/competitions/uwindsor-ai-club-can-credit-score-be-predicted/data <br>\n",
    "then download the <span style = \"color : red\">train.csv, test.csv and sample_submission.csv </span>"
   ]
  },
  {
   "cell_type": "code",
   "execution_count": 22,
   "metadata": {},
   "outputs": [],
   "source": [
    "# read train and test data\n",
    "\n",
    "train_data = load_data(f'{dataset_path}/train.csv')\n",
    "test_data = load_data(f'{dataset_path}/test.csv')\n",
    "\n",
    "# sample_submission = load_data(f'{dataset_path}/sample_submission.csv')"
   ]
  },
  {
   "cell_type": "markdown",
   "metadata": {},
   "source": [
    "### Check Null values in Train and Test Data"
   ]
  },
  {
   "cell_type": "code",
   "execution_count": 23,
   "metadata": {},
   "outputs": [
    {
     "data": {
      "text/plain": [
       "CUST_ID                0\n",
       "INCOME                 0\n",
       "SAVINGS                0\n",
       "DEBT                   0\n",
       "R_SAVINGS_INCOME       0\n",
       "                      ..\n",
       "CAT_MORTGAGE           0\n",
       "CAT_SAVINGS_ACCOUNT    0\n",
       "CAT_DEPENDENTS         0\n",
       "CREDIT_SCORE           0\n",
       "DEFAULT                0\n",
       "Length: 87, dtype: int64"
      ]
     },
     "execution_count": 23,
     "metadata": {},
     "output_type": "execute_result"
    }
   ],
   "source": [
    "train_data.isnull().sum()"
   ]
  },
  {
   "cell_type": "code",
   "execution_count": 24,
   "metadata": {},
   "outputs": [
    {
     "name": "stdout",
     "output_type": "stream",
     "text": [
      "\n",
      "Train\n",
      "\n",
      "Test\n"
     ]
    }
   ],
   "source": [
    "# prints out the columns and the num of null values if any null value is found\n",
    "print(f'\\nTrain')\n",
    "for i, val in enumerate(train_data.isnull().sum()):\n",
    "    if(val > 0):\n",
    "        print(f'col : {train_data.columns[i]}, val : {val}')\n",
    "print(f'\\nTest')\n",
    "for i, val in enumerate(test_data.isnull().sum()):\n",
    "    if(val > 0):\n",
    "        print(f'col : {test_data.columns[i]}, val : {val}')"
   ]
  },
  {
   "cell_type": "markdown",
   "metadata": {},
   "source": [
    "### Train and Test Splits\n",
    "\n",
    "- Keeping the train_data for train and val\n",
    "- Keeping the test_data for X_test only (y_test = CREDIT_SCORE column is not given, it should be predicted by us)\n",
    "- Dropping **CUST_ID** from X_train and X_test \n",
    "- train_data -> X_train, y_train (90% of the train.csv) (After feature selection)\n",
    "- test_data -> X_test (10% of the train.csv) (After feature selection) (y_test is not given)\n",
    "- Check the shapes to verify correct formatting"
   ]
  },
  {
   "cell_type": "code",
   "execution_count": 25,
   "metadata": {},
   "outputs": [
    {
     "name": "stdout",
     "output_type": "stream",
     "text": [
      "X_train.shape : (700, 85)\n",
      "y_train.shape : (700,)\n",
      "X_test.shape : (300, 85)\n"
     ]
    }
   ],
   "source": [
    "# dividing the data into two parts : predictors, targets\n",
    "X_train = train_data.drop(columns = ['CUST_ID', 'CREDIT_SCORE'], axis = 1)\n",
    "y_train = train_data['CREDIT_SCORE']\n",
    "\n",
    "X_test = test_data.drop('CUST_ID', axis = 1)\n",
    "\n",
    "print(f'X_train.shape : {X_train.shape}')\n",
    "print(f'y_train.shape : {y_train.shape}')\n",
    "print(f'X_test.shape : {X_test.shape}')"
   ]
  },
  {
   "cell_type": "code",
   "execution_count": 26,
   "metadata": {},
   "outputs": [
    {
     "name": "stdout",
     "output_type": "stream",
     "text": [
      "type(train_cols) : <class 'pandas.core.indexes.base.Index'>\n",
      "Number of train_cols : 85\n",
      "--------------------------------------------\n",
      "--------------------------------------------\n"
     ]
    }
   ],
   "source": [
    "# all the cols in the X_train\n",
    "train_cols = X_train.columns\n",
    "print(f'type(train_cols) : {type(train_cols)}')\n",
    "print(f'Number of train_cols : {len(train_cols)}')\n",
    "print(f'--------------------------------------------')\n",
    "print(f'--------------------------------------------')"
   ]
  },
  {
   "cell_type": "markdown",
   "metadata": {},
   "source": [
    "### Inspect Data before Preprocessing"
   ]
  },
  {
   "cell_type": "code",
   "execution_count": 11,
   "metadata": {},
   "outputs": [
    {
     "data": {
      "text/plain": [
       "<Axes: >"
      ]
     },
     "execution_count": 11,
     "metadata": {},
     "output_type": "execute_result"
    },
    {
     "data": {
      "image/png": "[encoded data removed]",
      "text/plain": [
       "<Figure size 640x480 with 2 Axes>"
      ]
     },
     "metadata": {},
     "output_type": "display_data"
    }
   ],
   "source": [
    "sns.heatmap(train_data.isnull(), cmap = 'viridis')"
   ]
  },
  {
   "cell_type": "code",
   "execution_count": 12,
   "metadata": {},
   "outputs": [],
   "source": [
    "# for col_name, col_type in train_data.dtypes.items():\n",
    "#     print(f'{col_name} -> {col_type}')"
   ]
  },
  {
   "cell_type": "code",
   "execution_count": 13,
   "metadata": {},
   "outputs": [
    {
     "data": {
      "text/plain": [
       "array(['High', 'No', 'Low'], dtype=object)"
      ]
     },
     "execution_count": 13,
     "metadata": {},
     "output_type": "execute_result"
    }
   ],
   "source": [
    "train_data['CAT_GAMBLING'].unique()"
   ]
  },
  {
   "cell_type": "markdown",
   "metadata": {},
   "source": [
    "# Preprocessing\n",
    "\n",
    "<br>\n",
    "\n",
    "- From this part we will be working **Only** with **X_train, X_test** (instead of train_data, test_data)\n",
    "- We have **CREDIT_SCORE** already separated\n",
    "- X_train and X_test do not have **CUST_ID** (Not a feature, so dropped it while forming X_train, X_test) \n",
    "- Convert the categorical col **CAT_GAMBLING** into 2 numerical dummy cols\n",
    "- Find columns which are highly correlated to one another and drop any one of them (pruning)\n",
    "- **CUST_ID** will be joined with y_pred after prediction "
   ]
  },
  {
   "cell_type": "code",
   "execution_count": 27,
   "metadata": {},
   "outputs": [
    {
     "name": "stdout",
     "output_type": "stream",
     "text": [
      "X_train.cols : 68\n",
      "X_test.cols : 68\n",
      "\n",
      "X_train : (700, 68), y_train : (700,)\n",
      "X_train tail columns : Index(['No', 'Low', 'DEFAULT', 'CAT_DEPENDENTS'], dtype='object')\n",
      "\n",
      "X_test : (300, 68)\n",
      "X_test tail columns : Index(['No', 'Low', 'DEFAULT', 'CAT_DEPENDENTS'], dtype='object')\n"
     ]
    }
   ],
   "source": [
    "from itertools import combinations\n",
    "\n",
    "dummy_cols = pd.get_dummies(X_train['CAT_GAMBLING'], dtype = int, drop_first = True)\n",
    "dummy_cols_test = pd.get_dummies(X_test['CAT_GAMBLING'], dtype = int, drop_first = True)\n",
    "\n",
    "X_train = pd.concat([X_train.drop(columns = ['CAT_GAMBLING']), dummy_cols], axis = 1)\n",
    "X_test = pd.concat([X_test.drop(columns = ['CAT_GAMBLING']), dummy_cols_test], axis = 1)\n",
    "\n",
    "columns_to_drop = []\n",
    "\n",
    "for c1, c2 in combinations(X_train.columns, 2):\n",
    "    if X_train[c1].corr(X_train[c2]) > 0.9:\n",
    "#         print(f'c1 : {c1}, c2 : {c2}, corr = {X_train[c1].corr(X_train[c2])}')\n",
    "        columns_to_drop.append(c2)\n",
    "columns_to_drop\n",
    "\n",
    "X_train.drop(columns = columns_to_drop, inplace = True, axis = 1)\n",
    "X_test.drop(columns = columns_to_drop, inplace = True, axis = 1)\n",
    "\n",
    "# Initial cols = 87\n",
    "# Removed CUST_ID, CREDIT_SCORE -> 85\n",
    "# Replaced CAT_GAMLING with 2 int cols -> 86\n",
    "print(f'X_train.cols : {len(X_train.columns)}')\n",
    "print(f'X_test.cols : {len(X_test.columns)}')\n",
    "\n",
    "# test whether the current data is in the correct shape\n",
    "print(f'\\nX_train : {X_train.shape}, y_train : {y_train.shape}')\n",
    "print(f'X_train tail columns : {X_train.columns[-1:-5:-1]}')\n",
    "print(f'\\nX_test : {X_test.shape}')\n",
    "print(f'X_test tail columns : {X_test.columns[-1:-5:-1]}')"
   ]
  },
  {
   "cell_type": "markdown",
   "metadata": {},
   "source": [
    "### Baselines\n",
    "### ..........................................................."
   ]
  },
  {
   "cell_type": "markdown",
   "metadata": {},
   "source": [
    "### LinearRegression"
   ]
  },
  {
   "cell_type": "code",
   "execution_count": 28,
   "metadata": {
    "execution": {
     "iopub.execute_input": "2024-02-16T17:10:54.895035Z",
     "iopub.status.busy": "2024-02-16T17:10:54.894587Z",
     "iopub.status.idle": "2024-02-16T17:10:55.481160Z",
     "shell.execute_reply": "2024-02-16T17:10:55.479583Z",
     "shell.execute_reply.started": "2024-02-16T17:10:54.895001Z"
    }
   },
   "outputs": [
    {
     "name": "stdout",
     "output_type": "stream",
     "text": [
      "LR mean rmse = 28.282737031917044\n"
     ]
    }
   ],
   "source": [
    "from sklearn.linear_model import LinearRegression\n",
    "from sklearn.model_selection import cross_val_score\n",
    "\n",
    "lr = LinearRegression()\n",
    "nmse = cross_val_score(lr, X_train, y_train, scoring = 'neg_mean_squared_error', cv = folds)\n",
    "mean_rmse = np.mean(np.sqrt(-nmse))\n",
    "\n",
    "print(f'LR mean rmse = {mean_rmse}')"
   ]
  },
  {
   "cell_type": "markdown",
   "metadata": {},
   "source": [
    "### Ridge Regression"
   ]
  },
  {
   "cell_type": "code",
   "execution_count": 29,
   "metadata": {
    "execution": {
     "iopub.execute_input": "2024-02-16T17:11:13.774712Z",
     "iopub.status.busy": "2024-02-16T17:11:13.773797Z",
     "iopub.status.idle": "2024-02-16T17:11:21.971229Z",
     "shell.execute_reply": "2024-02-16T17:11:21.969468Z",
     "shell.execute_reply.started": "2024-02-16T17:11:13.774671Z"
    }
   },
   "outputs": [
    {
     "name": "stdout",
     "output_type": "stream",
     "text": [
      "RR best alpha = {'ridge__alpha': 10}\n",
      "RR rmse = 28.28696034001431\n"
     ]
    }
   ],
   "source": [
    "from sklearn.pipeline import Pipeline\n",
    "from sklearn.preprocessing import StandardScaler\n",
    "from sklearn.linear_model import Ridge\n",
    "from sklearn.model_selection import GridSearchCV\n",
    "\n",
    "ridge = Ridge()\n",
    "params = {'ridge__alpha' : [1e-15, 1e-10, 1e-8, 1e-3, 1e-2, 1, 5, 10, 20, 30, 35, 40, 45, 50, 55, 100]}\n",
    "pipeline = Pipeline([\n",
    "    ('scaler', StandardScaler()),\n",
    "    ('ridge', ridge)\n",
    "])\n",
    "rr = GridSearchCV(pipeline, params, scoring = 'neg_mean_squared_error', cv = folds)\n",
    "rr.fit(X_train, y_train)\n",
    "\n",
    "# best params\n",
    "a = rr.best_params_\n",
    "nmse = rr.best_score_\n",
    "rmse = np.sqrt(-nmse)\n",
    "\n",
    "print(f'RR best alpha = {a}')\n",
    "print(f'RR rmse = {rmse}')"
   ]
  },
  {
   "cell_type": "markdown",
   "metadata": {},
   "source": [
    "### Lasso Regression"
   ]
  },
  {
   "cell_type": "code",
   "execution_count": 38,
   "metadata": {
    "_kg_hide-output": false,
    "execution": {
     "iopub.execute_input": "2024-02-16T17:13:36.198200Z",
     "iopub.status.busy": "2024-02-16T17:13:36.197645Z",
     "iopub.status.idle": "2024-02-16T17:13:45.089387Z",
     "shell.execute_reply": "2024-02-16T17:13:45.087607Z",
     "shell.execute_reply.started": "2024-02-16T17:13:36.198164Z"
    }
   },
   "outputs": [
    {
     "name": "stderr",
     "output_type": "stream",
     "text": [
      "C:\\Users\\Jamil\\anaconda3\\envs\\nlp\\Lib\\site-packages\\sklearn\\linear_model\\_coordinate_descent.py:628: ConvergenceWarning: Objective did not converge. You might want to increase the number of iterations, check the scale of the features or consider increasing regularisation. Duality gap: 1.589e+05, tolerance: 1.845e+04\n",
      "  model = cd_fast.enet_coordinate_descent(\n",
      "C:\\Users\\Jamil\\anaconda3\\envs\\nlp\\Lib\\site-packages\\sklearn\\linear_model\\_coordinate_descent.py:628: ConvergenceWarning: Objective did not converge. You might want to increase the number of iterations, check the scale of the features or consider increasing regularisation. Duality gap: 1.252e+05, tolerance: 1.858e+04\n",
      "  model = cd_fast.enet_coordinate_descent(\n",
      "C:\\Users\\Jamil\\anaconda3\\envs\\nlp\\Lib\\site-packages\\sklearn\\linear_model\\_coordinate_descent.py:628: ConvergenceWarning: Objective did not converge. You might want to increase the number of iterations, check the scale of the features or consider increasing regularisation. Duality gap: 1.405e+05, tolerance: 2.015e+04\n",
      "  model = cd_fast.enet_coordinate_descent(\n",
      "C:\\Users\\Jamil\\anaconda3\\envs\\nlp\\Lib\\site-packages\\sklearn\\linear_model\\_coordinate_descent.py:628: ConvergenceWarning: Objective did not converge. You might want to increase the number of iterations, check the scale of the features or consider increasing regularisation. Duality gap: 1.589e+05, tolerance: 1.845e+04\n",
      "  model = cd_fast.enet_coordinate_descent(\n",
      "C:\\Users\\Jamil\\anaconda3\\envs\\nlp\\Lib\\site-packages\\sklearn\\linear_model\\_coordinate_descent.py:628: ConvergenceWarning: Objective did not converge. You might want to increase the number of iterations, check the scale of the features or consider increasing regularisation. Duality gap: 1.252e+05, tolerance: 1.858e+04\n",
      "  model = cd_fast.enet_coordinate_descent(\n",
      "C:\\Users\\Jamil\\anaconda3\\envs\\nlp\\Lib\\site-packages\\sklearn\\linear_model\\_coordinate_descent.py:628: ConvergenceWarning: Objective did not converge. You might want to increase the number of iterations, check the scale of the features or consider increasing regularisation. Duality gap: 1.405e+05, tolerance: 2.015e+04\n",
      "  model = cd_fast.enet_coordinate_descent(\n",
      "C:\\Users\\Jamil\\anaconda3\\envs\\nlp\\Lib\\site-packages\\sklearn\\linear_model\\_coordinate_descent.py:628: ConvergenceWarning: Objective did not converge. You might want to increase the number of iterations, check the scale of the features or consider increasing regularisation. Duality gap: 1.589e+05, tolerance: 1.845e+04\n",
      "  model = cd_fast.enet_coordinate_descent(\n",
      "C:\\Users\\Jamil\\anaconda3\\envs\\nlp\\Lib\\site-packages\\sklearn\\linear_model\\_coordinate_descent.py:628: ConvergenceWarning: Objective did not converge. You might want to increase the number of iterations, check the scale of the features or consider increasing regularisation. Duality gap: 1.252e+05, tolerance: 1.858e+04\n",
      "  model = cd_fast.enet_coordinate_descent(\n",
      "C:\\Users\\Jamil\\anaconda3\\envs\\nlp\\Lib\\site-packages\\sklearn\\linear_model\\_coordinate_descent.py:628: ConvergenceWarning: Objective did not converge. You might want to increase the number of iterations, check the scale of the features or consider increasing regularisation. Duality gap: 1.405e+05, tolerance: 2.015e+04\n",
      "  model = cd_fast.enet_coordinate_descent(\n",
      "C:\\Users\\Jamil\\anaconda3\\envs\\nlp\\Lib\\site-packages\\sklearn\\linear_model\\_coordinate_descent.py:628: ConvergenceWarning: Objective did not converge. You might want to increase the number of iterations, check the scale of the features or consider increasing regularisation. Duality gap: 1.274e+05, tolerance: 1.845e+04\n",
      "  model = cd_fast.enet_coordinate_descent(\n",
      "C:\\Users\\Jamil\\anaconda3\\envs\\nlp\\Lib\\site-packages\\sklearn\\linear_model\\_coordinate_descent.py:628: ConvergenceWarning: Objective did not converge. You might want to increase the number of iterations, check the scale of the features or consider increasing regularisation. Duality gap: 8.319e+04, tolerance: 2.015e+04\n",
      "  model = cd_fast.enet_coordinate_descent(\n"
     ]
    },
    {
     "name": "stdout",
     "output_type": "stream",
     "text": [
      "lasso_regressor best alpha = {'lasso__alpha': 1}\n",
      "lasso_regressor rmse = 28.03895969320706\n"
     ]
    }
   ],
   "source": [
    "from sklearn.pipeline import Pipeline\n",
    "from sklearn.preprocessing import StandardScaler\n",
    "from sklearn.linear_model import Lasso\n",
    "from sklearn.model_selection import GridSearchCV\n",
    "\n",
    "lasso_regressor = Lasso(tol = 0.01)\n",
    "params = {'lasso__alpha' : [1e-15, 1e-10, 1e-8, 1e-3, 1e-2, 1, 5, 10, 20, 30, 35, 40, 45, 50, 55, 100, 200, 500]}\n",
    "pipeline = Pipeline([\n",
    "    ('scaler', StandardScaler()),\n",
    "    ('lasso', lasso_regressor)\n",
    "])\n",
    "lasso_regressor = GridSearchCV(pipeline, params, scoring = 'neg_mean_squared_error', cv = folds)\n",
    "lasso_regressor.fit(X_train, y_train)\n",
    "\n",
    "# best params\n",
    "a = lasso_regressor.best_params_\n",
    "nmse = lasso_regressor.best_score_\n",
    "rmse = np.sqrt(-nmse)\n",
    "\n",
    "print(f'lasso_regressor best alpha = {a}')\n",
    "print(f'lasso_regressor rmse = {rmse}')"
   ]
  },
  {
   "cell_type": "markdown",
   "metadata": {},
   "source": [
    "### XGBoost\n"
   ]
  },
  {
   "cell_type": "code",
   "execution_count": 42,
   "metadata": {},
   "outputs": [
    {
     "name": "stdout",
     "output_type": "stream",
     "text": [
      "Best parameters: {'n_estimators': 100, 'min_child_weight': 5, 'max_depth': 2, 'learning_rate': 0.1, 'lambda': 5, 'booster': 'gbtree'}\n",
      "Best RMSE: 29.50043841989629\n"
     ]
    }
   ],
   "source": [
    "from xgboost import XGBRegressor\n",
    "from sklearn.model_selection import RandomizedSearchCV\n",
    "from scipy.stats import uniform, randint\n",
    "\n",
    "# Create an XGBoost regressor model\n",
    "xgb = XGBRegressor()\n",
    "\n",
    "# Best parameters: {'n_estimators': 250, 'min_child_weight': 3, 'max_depth': 2, 'learning_rate': 0.05, 'lambda': 20, 'booster': 'gbtree'}\n",
    "\n",
    "# pass 2\n",
    "param_dist = {\n",
    "    'learning_rate': [0.01, 0.05, 0.1],\n",
    "    'max_depth': [2, 3, 5, 10],\n",
    "    'booster' : ['gbtree'],\n",
    "    'min_child_weight': [1, 2, 3, 4, 5],\n",
    "    'lambda' : [0.1, 0.5, 1, 5, 10, 20, 30],\n",
    "    'n_estimators': [50, 100, 250, 500, 1000, 1500]\n",
    "}\n",
    "\n",
    "# Perform randomized search with cross-validation\n",
    "random_search = RandomizedSearchCV(xgb, param_distributions=param_dist, n_iter=100, scoring='neg_mean_squared_error', cv=folds)\n",
    "random_search.fit(X_train, y_train)\n",
    "\n",
    "# Get the best parameters and RMSE score\n",
    "best_params = random_search.best_params_\n",
    "best_rmse = np.sqrt(-random_search.best_score_)\n",
    "\n",
    "print(\"Best parameters:\", best_params)\n",
    "print(\"Best RMSE:\", best_rmse)\n"
   ]
  },
  {
   "cell_type": "markdown",
   "metadata": {},
   "source": [
    "### Experimental Model Section\n",
    "\n",
    "To test the model drafts here (The data preprocessing should be done beforehand)"
   ]
  },
  {
   "cell_type": "code",
   "execution_count": 50,
   "metadata": {},
   "outputs": [
    {
     "ename": "AttributeError",
     "evalue": "module 'keras.src' has no attribute 'utils'",
     "output_type": "error",
     "traceback": [
      "\u001b[1;31m---------------------------------------------------------------------------\u001b[0m",
      "\u001b[1;31mAttributeError\u001b[0m                            Traceback (most recent call last)",
      "Cell \u001b[1;32mIn[50], line 4\u001b[0m\n\u001b[0;32m      2\u001b[0m \u001b[38;5;28;01mfrom\u001b[39;00m \u001b[38;5;21;01msklearn\u001b[39;00m\u001b[38;5;21;01m.\u001b[39;00m\u001b[38;5;21;01mpreprocessing\u001b[39;00m \u001b[38;5;28;01mimport\u001b[39;00m StandardScaler\n\u001b[0;32m      3\u001b[0m \u001b[38;5;28;01mimport\u001b[39;00m \u001b[38;5;21;01mtensorflow\u001b[39;00m\n\u001b[1;32m----> 4\u001b[0m \u001b[38;5;28;01mfrom\u001b[39;00m \u001b[38;5;21;01mkeras\u001b[39;00m\u001b[38;5;21;01m.\u001b[39;00m\u001b[38;5;21;01mmodels\u001b[39;00m \u001b[38;5;28;01mimport\u001b[39;00m Sequential\n\u001b[0;32m      5\u001b[0m \u001b[38;5;28;01mfrom\u001b[39;00m \u001b[38;5;21;01mkeras\u001b[39;00m\u001b[38;5;21;01m.\u001b[39;00m\u001b[38;5;21;01mlayers\u001b[39;00m \u001b[38;5;28;01mimport\u001b[39;00m Dense\n\u001b[0;32m      6\u001b[0m \u001b[38;5;28;01mfrom\u001b[39;00m \u001b[38;5;21;01mkeras\u001b[39;00m\u001b[38;5;21;01m.\u001b[39;00m\u001b[38;5;21;01moptimizers\u001b[39;00m \u001b[38;5;28;01mimport\u001b[39;00m Adam\n",
      "File \u001b[1;32m~\\anaconda3\\envs\\nlp\\Lib\\site-packages\\keras\\__init__.py:5\u001b[0m\n\u001b[0;32m      1\u001b[0m \u001b[38;5;124;03m\"\"\"DO NOT EDIT.\u001b[39;00m\n\u001b[0;32m      2\u001b[0m \n\u001b[0;32m      3\u001b[0m \u001b[38;5;124;03mThis file was autogenerated. Do not edit it by hand,\u001b[39;00m\n\u001b[0;32m      4\u001b[0m \u001b[38;5;124;03msince your modifications would be overwritten.\u001b[39;00m\n\u001b[1;32m----> 5\u001b[0m \u001b[38;5;124;03m\"\"\"\u001b[39;00m\n\u001b[0;32m      8\u001b[0m \u001b[38;5;28;01mfrom\u001b[39;00m \u001b[38;5;21;01mkeras\u001b[39;00m \u001b[38;5;28;01mimport\u001b[39;00m _tf_keras\n\u001b[0;32m      9\u001b[0m \u001b[38;5;28;01mfrom\u001b[39;00m \u001b[38;5;21;01mkeras\u001b[39;00m \u001b[38;5;28;01mimport\u001b[39;00m activations\n",
      "File \u001b[1;32m~\\anaconda3\\envs\\nlp\\Lib\\site-packages\\keras\\applications\\__init__.py:8\u001b[0m\n\u001b[0;32m      6\u001b[0m \u001b[38;5;28;01mfrom\u001b[39;00m \u001b[38;5;21;01mkeras\u001b[39;00m\u001b[38;5;21;01m.\u001b[39;00m\u001b[38;5;21;01mapplications\u001b[39;00m \u001b[38;5;28;01mimport\u001b[39;00m efficientnet_v2\n\u001b[0;32m      7\u001b[0m \u001b[38;5;28;01mfrom\u001b[39;00m \u001b[38;5;21;01mkeras\u001b[39;00m\u001b[38;5;21;01m.\u001b[39;00m\u001b[38;5;21;01mapplications\u001b[39;00m \u001b[38;5;28;01mimport\u001b[39;00m imagenet_utils\n\u001b[1;32m----> 8\u001b[0m \u001b[38;5;28;01mfrom\u001b[39;00m \u001b[38;5;21;01mkeras\u001b[39;00m\u001b[38;5;21;01m.\u001b[39;00m\u001b[38;5;21;01mapplications\u001b[39;00m \u001b[38;5;28;01mimport\u001b[39;00m inception_resnet_v2\n\u001b[0;32m      9\u001b[0m \u001b[38;5;28;01mfrom\u001b[39;00m \u001b[38;5;21;01mkeras\u001b[39;00m\u001b[38;5;21;01m.\u001b[39;00m\u001b[38;5;21;01mapplications\u001b[39;00m \u001b[38;5;28;01mimport\u001b[39;00m inception_v3\n\u001b[0;32m     10\u001b[0m \u001b[38;5;28;01mfrom\u001b[39;00m \u001b[38;5;21;01mkeras\u001b[39;00m\u001b[38;5;21;01m.\u001b[39;00m\u001b[38;5;21;01mapplications\u001b[39;00m \u001b[38;5;28;01mimport\u001b[39;00m mobilenet\n",
      "File \u001b[1;32m~\\anaconda3\\envs\\nlp\\Lib\\site-packages\\keras\\applications\\inception_resnet_v2\\__init__.py:3\u001b[0m\n\u001b[0;32m      1\u001b[0m \u001b[38;5;124;03m\"\"\"AUTOGENERATED. DO NOT EDIT.\"\"\"\u001b[39;00m\n\u001b[1;32m----> 3\u001b[0m \u001b[38;5;28;01mfrom\u001b[39;00m \u001b[38;5;21;01mkeras\u001b[39;00m\u001b[38;5;21;01m.\u001b[39;00m\u001b[38;5;21;01msrc\u001b[39;00m\u001b[38;5;21;01m.\u001b[39;00m\u001b[38;5;21;01mapplications\u001b[39;00m\u001b[38;5;21;01m.\u001b[39;00m\u001b[38;5;21;01minception_resnet_v2\u001b[39;00m \u001b[38;5;28;01mimport\u001b[39;00m InceptionResNetV2\n\u001b[0;32m      4\u001b[0m \u001b[38;5;28;01mfrom\u001b[39;00m \u001b[38;5;21;01mkeras\u001b[39;00m\u001b[38;5;21;01m.\u001b[39;00m\u001b[38;5;21;01msrc\u001b[39;00m\u001b[38;5;21;01m.\u001b[39;00m\u001b[38;5;21;01mapplications\u001b[39;00m\u001b[38;5;21;01m.\u001b[39;00m\u001b[38;5;21;01minception_resnet_v2\u001b[39;00m \u001b[38;5;28;01mimport\u001b[39;00m decode_predictions\n\u001b[0;32m      5\u001b[0m \u001b[38;5;28;01mfrom\u001b[39;00m \u001b[38;5;21;01mkeras\u001b[39;00m\u001b[38;5;21;01m.\u001b[39;00m\u001b[38;5;21;01msrc\u001b[39;00m\u001b[38;5;21;01m.\u001b[39;00m\u001b[38;5;21;01mapplications\u001b[39;00m\u001b[38;5;21;01m.\u001b[39;00m\u001b[38;5;21;01minception_resnet_v2\u001b[39;00m \u001b[38;5;28;01mimport\u001b[39;00m preprocess_input\n",
      "File \u001b[1;32m~\\anaconda3\\envs\\nlp\\Lib\\site-packages\\keras\\src\\applications\\__init__.py:41\u001b[0m\n\u001b[0;32m     39\u001b[0m \u001b[38;5;28;01mfrom\u001b[39;00m \u001b[38;5;21;01mkeras\u001b[39;00m\u001b[38;5;21;01m.\u001b[39;00m\u001b[38;5;21;01msrc\u001b[39;00m\u001b[38;5;21;01m.\u001b[39;00m\u001b[38;5;21;01mapplications\u001b[39;00m\u001b[38;5;21;01m.\u001b[39;00m\u001b[38;5;21;01mefficientnet_v2\u001b[39;00m \u001b[38;5;28;01mimport\u001b[39;00m EfficientNetV2M\n\u001b[0;32m     40\u001b[0m \u001b[38;5;28;01mfrom\u001b[39;00m \u001b[38;5;21;01mkeras\u001b[39;00m\u001b[38;5;21;01m.\u001b[39;00m\u001b[38;5;21;01msrc\u001b[39;00m\u001b[38;5;21;01m.\u001b[39;00m\u001b[38;5;21;01mapplications\u001b[39;00m\u001b[38;5;21;01m.\u001b[39;00m\u001b[38;5;21;01mefficientnet_v2\u001b[39;00m \u001b[38;5;28;01mimport\u001b[39;00m EfficientNetV2S\n\u001b[1;32m---> 41\u001b[0m \u001b[38;5;28;01mfrom\u001b[39;00m \u001b[38;5;21;01mkeras\u001b[39;00m\u001b[38;5;21;01m.\u001b[39;00m\u001b[38;5;21;01msrc\u001b[39;00m\u001b[38;5;21;01m.\u001b[39;00m\u001b[38;5;21;01mapplications\u001b[39;00m\u001b[38;5;21;01m.\u001b[39;00m\u001b[38;5;21;01minception_resnet_v2\u001b[39;00m \u001b[38;5;28;01mimport\u001b[39;00m InceptionResNetV2\n\u001b[0;32m     42\u001b[0m \u001b[38;5;28;01mfrom\u001b[39;00m \u001b[38;5;21;01mkeras\u001b[39;00m\u001b[38;5;21;01m.\u001b[39;00m\u001b[38;5;21;01msrc\u001b[39;00m\u001b[38;5;21;01m.\u001b[39;00m\u001b[38;5;21;01mapplications\u001b[39;00m\u001b[38;5;21;01m.\u001b[39;00m\u001b[38;5;21;01minception_v3\u001b[39;00m \u001b[38;5;28;01mimport\u001b[39;00m InceptionV3\n\u001b[0;32m     43\u001b[0m \u001b[38;5;28;01mfrom\u001b[39;00m \u001b[38;5;21;01mkeras\u001b[39;00m\u001b[38;5;21;01m.\u001b[39;00m\u001b[38;5;21;01msrc\u001b[39;00m\u001b[38;5;21;01m.\u001b[39;00m\u001b[38;5;21;01mapplications\u001b[39;00m\u001b[38;5;21;01m.\u001b[39;00m\u001b[38;5;21;01mmobilenet\u001b[39;00m \u001b[38;5;28;01mimport\u001b[39;00m MobileNet\n",
      "File \u001b[1;32m~\\anaconda3\\envs\\nlp\\Lib\\site-packages\\keras\\src\\applications\\inception_resnet_v2.py:324\u001b[0m\n\u001b[0;32m    320\u001b[0m         x \u001b[38;5;241m=\u001b[39m layers\u001b[38;5;241m.\u001b[39mActivation(activation, name\u001b[38;5;241m=\u001b[39mac_name)(x)\n\u001b[0;32m    321\u001b[0m     \u001b[38;5;28;01mreturn\u001b[39;00m x\n\u001b[1;32m--> 324\u001b[0m \u001b[38;5;129m@keras\u001b[39m\u001b[38;5;241m.\u001b[39mutils\u001b[38;5;241m.\u001b[39mregister_keras_serializable()\n\u001b[0;32m    325\u001b[0m \u001b[38;5;28;01mclass\u001b[39;00m \u001b[38;5;21;01mCustomScaleLayer\u001b[39;00m(keras_layers\u001b[38;5;241m.\u001b[39mLayer):\n\u001b[0;32m    326\u001b[0m     \u001b[38;5;28;01mdef\u001b[39;00m \u001b[38;5;21m__init__\u001b[39m(\u001b[38;5;28mself\u001b[39m, scale, \u001b[38;5;241m*\u001b[39m\u001b[38;5;241m*\u001b[39mkwargs):\n\u001b[0;32m    327\u001b[0m         \u001b[38;5;28msuper\u001b[39m()\u001b[38;5;241m.\u001b[39m\u001b[38;5;21m__init__\u001b[39m(\u001b[38;5;241m*\u001b[39m\u001b[38;5;241m*\u001b[39mkwargs)\n",
      "\u001b[1;31mAttributeError\u001b[0m: module 'keras.src' has no attribute 'utils'"
     ]
    }
   ],
   "source": [
    "from sklearn.model_selection import KFold\n",
    "from sklearn.preprocessing import StandardScaler\n",
    "import tensorflow\n",
    "from keras.models import Sequential\n",
    "from keras.layers import Dense\n",
    "from keras.optimizers import Adam\n",
    "\n",
    "# Define your neural network architecture\n",
    "def create_model(input_shape):\n",
    "    model = Sequential([\n",
    "        Dense(64, activation='relu', input_shape=(input_shape,)),\n",
    "        Dense(32, activation='relu'),\n",
    "        Dense(1)\n",
    "    ])\n",
    "    return model\n",
    "\n",
    "# Define function to train and evaluate the model\n",
    "def train_and_evaluate_model(X_train, y_train, X_test, y_test):\n",
    "    model = create_model(X_train.shape[1])\n",
    "    model.compile(optimizer=Adam(lr=0.001), loss='mean_squared_error')\n",
    "    model.fit(X_train, y_train, epochs=100, batch_size=64, verbose=0)\n",
    "    test_loss = model.evaluate(X_test, y_test, verbose=0)\n",
    "    return test_loss\n",
    "\n",
    "# Assume your data is X and y\n",
    "\n",
    "# Normalize the data\n",
    "scaler = StandardScaler()\n",
    "X_scaled = scaler.fit_transform(X)\n",
    "\n",
    "# Define 10-fold cross-validation\n",
    "kf = KFold(n_splits=10, shuffle=True)\n",
    "\n",
    "test_losses = []\n",
    "\n",
    "# Perform 10-fold cross-validation\n",
    "for train_index, test_index in kf.split(X_scaled):\n",
    "    X_train, X_test = X_scaled[train_index], X_scaled[test_index]\n",
    "    y_train, y_test = y[train_index], y[test_index]\n",
    "    test_loss = train_and_evaluate_model(X_train, y_train, X_test, y_test)\n",
    "    test_losses.append(test_loss)\n",
    "\n",
    "# Compute average test loss\n",
    "avg_test_loss = np.mean(test_losses)\n",
    "print(f'Average test loss across 10 folds: {avg_test_loss:.4f}')"
   ]
  },
  {
   "cell_type": "markdown",
   "metadata": {},
   "source": [
    "### Baseline Results\n",
    "\n",
    "| ID | Model | Degree | Epochs | Regularization | Reg Epochs, Tol | Lambda | N_features | Folds | RMSE |\n",
    "| --- | ---- | -------- | ----- | -------------- | ----- | ------ | ----- | ---- | ---- |\n",
    "| 1 | lr | 1 | None | None | None | 0 | All | 0 | **24.86964904316159** |\n",
    "| 2 | lr | 1 | None | L2 | X | 20 | X | 10 | 28.506133250715063 |\n",
    "| 3 | lr | 1 | None | None | None | 0 | 86 | 10 | **29.18143127944806** |\n",
    "| 4 | lr | 1 | None | L1 | 1000 | 1 | X | 10 | 27.67585141705469 | \n",
    "| 5 | lr | 1 | None | L1 | 10000, 0.01 | 1 | X | 10 | 27.666622998342643 |\n",
    "| 6 | lr | 2 | None | L2 | 2000 | 100 | X | 10 | 44.09927407811474 | \n",
    "| 7 | lr | 1 | None | L2 | 2000 | 20 | 68 (Correlation drop off) | 10 | 28.353964603124588 |\n",
    "| 8 | lr | 1 | None | L2 | 2000 | 1 | 68 | 10 | **27.617890371610304** |\n",
    "| 8 | lr | 1 | None | L2 | 2000 | 1 | 68 | 10 | X |"
   ]
  },
  {
   "cell_type": "markdown",
   "metadata": {},
   "source": [
    "### Build the Best Model\n",
    "\n",
    "Select the best model from the grid_search or random_search's best_params and then create the model before prediction"
   ]
  },
  {
   "cell_type": "code",
   "execution_count": null,
   "metadata": {},
   "outputs": [],
   "source": []
  },
  {
   "cell_type": "markdown",
   "metadata": {},
   "source": [
    "# Prediction"
   ]
  },
  {
   "cell_type": "code",
   "execution_count": 17,
   "metadata": {
    "execution": {
     "iopub.execute_input": "2024-02-16T17:15:27.415463Z",
     "iopub.status.busy": "2024-02-16T17:15:27.414997Z",
     "iopub.status.idle": "2024-02-16T17:15:27.436237Z",
     "shell.execute_reply": "2024-02-16T17:15:27.433960Z",
     "shell.execute_reply.started": "2024-02-16T17:15:27.415432Z"
    }
   },
   "outputs": [
    {
     "name": "stdout",
     "output_type": "stream",
     "text": [
      "X_test.shape : (300, 68)\n",
      "test_data_output.columns : Index(['CUST_ID', 'CREDIT_SCORE'], dtype='object')\n",
      "test_data_output.shape : (300, 2)\n"
     ]
    }
   ],
   "source": [
    "print(f'X_test.shape : {X_test.shape}')\n",
    "\n",
    "# predict\n",
    "# y_test = rr.predict(X_test)\n",
    "y_test = lasso_regressor.predict(X_test)\n",
    "\n",
    "test_data_output = pd.DataFrame({'CUST_ID' : test_data['CUST_ID'], 'CREDIT_SCORE' : y_test})\n",
    "\n",
    "print(f'test_data_output.columns : {test_data_output.columns}')\n",
    "print(f'test_data_output.shape : {test_data_output.shape}')"
   ]
  },
  {
   "cell_type": "markdown",
   "metadata": {},
   "source": [
    "### Save Output for Submission"
   ]
  },
  {
   "cell_type": "code",
   "execution_count": 18,
   "metadata": {
    "execution": {
     "iopub.execute_input": "2024-02-16T17:15:43.054492Z",
     "iopub.status.busy": "2024-02-16T17:15:43.054003Z",
     "iopub.status.idle": "2024-02-16T17:15:43.064230Z",
     "shell.execute_reply": "2024-02-16T17:15:43.063017Z",
     "shell.execute_reply.started": "2024-02-16T17:15:43.054458Z"
    }
   },
   "outputs": [],
   "source": [
    "test_data_output.to_csv(f'{output_path}/submission_id8.csv', index = False)"
   ]
  }
 ],
 "metadata": {
  "kaggle": {
   "accelerator": "none",
   "dataSources": [
    {
     "databundleVersionId": 7626890,
     "sourceId": 68740,
     "sourceType": "competition"
    }
   ],
   "dockerImageVersionId": 30646,
   "isGpuEnabled": false,
   "isInternetEnabled": false,
   "language": "python",
   "sourceType": "notebook"
  },
  "kernelspec": {
   "display_name": "Python [conda env:nlp]",
   "language": "python",
   "name": "conda-env-nlp-py"
  },
  "language_info": {
   "codemirror_mode": {
    "name": "ipython",
    "version": 3
   },
   "file_extension": ".py",
   "mimetype": "text/x-python",
   "name": "python",
   "nbconvert_exporter": "python",
   "pygments_lexer": "ipython3",
   "version": "3.11.5"
  }
 },
 "nbformat": 4,
 "nbformat_minor": 4
}
