{
 "cells": [
  {
   "cell_type": "code",
   "execution_count": 21,
   "metadata": {
    "execution": {
     "iopub.execute_input": "2024-02-16T17:17:03.598654Z",
     "iopub.status.busy": "2024-02-16T17:17:03.597374Z",
     "iopub.status.idle": "2024-02-16T17:17:03.604927Z",
     "shell.execute_reply": "2024-02-16T17:17:03.603549Z",
     "shell.execute_reply.started": "2024-02-16T17:17:03.598611Z"
    }
   },
   "outputs": [],
   "source": [
    "import pandas as pd\n",
    "import numpy as np\n",
    "import matplotlib.pyplot as plt\n",
    "import seaborn as sns\n",
    "import os\n",
    "from copy import deepcopy"
   ]
  },
  {
   "cell_type": "markdown",
   "metadata": {},
   "source": [
    "### Global Variables"
   ]
  },
  {
   "cell_type": "code",
   "execution_count": 22,
   "metadata": {
    "execution": {
     "iopub.execute_input": "2024-02-16T17:17:03.607266Z",
     "iopub.status.busy": "2024-02-16T17:17:03.606847Z",
     "iopub.status.idle": "2024-02-16T17:17:03.620829Z",
     "shell.execute_reply": "2024-02-16T17:17:03.619907Z",
     "shell.execute_reply.started": "2024-02-16T17:17:03.607228Z"
    }
   },
   "outputs": [],
   "source": [
    "epochs = 100\n",
    "r_epochs = 2000 # num epochs for regularization\n",
    "folds = 10\n",
    "a = 0.25 # alpha for regularization\n",
    "n_features = 87 # number of selected features after regularization\n",
    "degree = 2 # polynomial degree\n",
    "dataset_path = '../../Datasets/Kaggle/Credit_Score'\n",
    "output_path = dataset_path"
   ]
  },
  {
   "cell_type": "code",
   "execution_count": null,
   "metadata": {},
   "outputs": [],
   "source": [
    "def load_data(data):\n",
    "    df = pd.read_csv(data)\n",
    "    return df"
   ]
  },
  {
   "cell_type": "markdown",
   "metadata": {},
   "source": [
    "### Load Train and Test Data\n",
    "\n",
    "kaggle link of the data : <br>\n",
    "https://www.kaggle.com/competitions/uwindsor-ai-club-can-credit-score-be-predicted/data <br>\n",
    "then download the <span style = \"color : red\">train.csv, test.csv and sample_submission.csv </span>"
   ]
  },
  {
   "cell_type": "code",
   "execution_count": null,
   "metadata": {},
   "outputs": [],
   "source": [
    "# read train and test data\n",
    "\n",
    "train_data = load_data(f'{dataset_path}/train.csv')\n",
    "test_data = load_data(f'{dataset_path}/test.csv')\n",
    "\n",
    "# sample_submission = load_data(f'{dataset_path}/sample_submission.csv')"
   ]
  },
  {
   "cell_type": "markdown",
   "metadata": {},
   "source": [
    "### Check Null values in Train and Test Data"
   ]
  },
  {
   "cell_type": "code",
   "execution_count": null,
   "metadata": {},
   "outputs": [],
   "source": [
    "train_data.isnull().sum()"
   ]
  },
  {
   "cell_type": "code",
   "execution_count": null,
   "metadata": {},
   "outputs": [],
   "source": [
    "# prints out the columns and the num of null values if any null value is found\n",
    "print(f'\\nTrain')\n",
    "for i, val in enumerate(train_data.isnull().sum()):\n",
    "    if(val > 0):\n",
    "        print(f'col : {train_data.columns[i]}, val : {val}')\n",
    "print(f'\\nTest')\n",
    "for i, val in enumerate(test_data.isnull().sum()):\n",
    "    if(val > 0):\n",
    "        print(f'col : {test_data.columns[i]}, val : {val}')"
   ]
  },
  {
   "cell_type": "markdown",
   "metadata": {},
   "source": [
    "### Train and Test Splits\n",
    "\n",
    "- Keeping the train_data for train and val\n",
    "- Keeping the test_data for X_test only (y_test = CREDIT_SCORE column is not given, it should be predicted by us)\n",
    "- Dropping **CUST_ID** from X_train and X_test \n",
    "- train_data -> X_train, y_train (90% of the train.csv) (After feature selection)\n",
    "- test_data -> X_test (10% of the train.csv) (After feature selection) (y_test is not given)\n",
    "- Check the shapes to verify correct formatting"
   ]
  },
  {
   "cell_type": "code",
   "execution_count": null,
   "metadata": {},
   "outputs": [],
   "source": [
    "# dividing the data into two parts : predictors, targets\n",
    "X_train = train_data.drop(columns = ['CUST_ID', 'CREDIT_SCORE'], axis = 1)\n",
    "y_train = train_data['CREDIT_SCORE']\n",
    "\n",
    "X_test = test_data.drop('CUST_ID', axis = 1)\n",
    "\n",
    "print(f'X_train.shape : {X_train.shape}')\n",
    "print(f'y_train.shape : {y_train.shape}')\n",
    "print(f'X_test.shape : {X_test.shape}')"
   ]
  },
  {
   "cell_type": "code",
   "execution_count": null,
   "metadata": {},
   "outputs": [],
   "source": [
    "# all the cols in the X_train\n",
    "train_cols = X_train.columns\n",
    "print(f'type(train_cols) : {type(train_cols)}')\n",
    "print(f'Number of train_cols : {len(train_cols)}')\n",
    "print(f'--------------------------------------------')\n",
    "print(f'--------------------------------------------')"
   ]
  },
  {
   "cell_type": "markdown",
   "metadata": {},
   "source": [
    "### Inspect Data before Preprocessing"
   ]
  },
  {
   "cell_type": "code",
   "execution_count": null,
   "metadata": {},
   "outputs": [],
   "source": [
    "sns.heatmap(train_data.isnull(), cmap = 'viridis')"
   ]
  },
  {
   "cell_type": "code",
   "execution_count": null,
   "metadata": {},
   "outputs": [],
   "source": [
    "# for col_name, col_type in train_data.dtypes.items():\n",
    "#     print(f'{col_name} -> {col_type}')"
   ]
  },
  {
   "cell_type": "code",
   "execution_count": null,
   "metadata": {},
   "outputs": [],
   "source": [
    "train_data['CAT_GAMBLING'].unique()"
   ]
  },
  {
   "cell_type": "markdown",
   "metadata": {},
   "source": [
    "# Preprocessing\n",
    "\n",
    "<br>\n",
    "\n",
    "- From this part we will be working **Only** with **X_train, X_test** (instead of train_data, test_data)\n",
    "- We have **CREDIT_SCORE** already separated\n",
    "- X_train and X_test do not have **CUST_ID** (Not a feature, so dropped it while forming X_train, X_test) \n",
    "- Convert the categorical col **CAT_GAMBLING** into 2 numerical dummy cols\n",
    "- Find columns which are highly correlated to one another and drop any one of them (pruning)\n",
    "- **CUST_ID** will be joined with y_pred after prediction "
   ]
  },
  {
   "cell_type": "code",
   "execution_count": null,
   "metadata": {},
   "outputs": [],
   "source": [
    "from itertools import combinations\n",
    "\n",
    "dummy_cols = pd.get_dummies(X_train['CAT_GAMBLING'], dtype = int, drop_first = True)\n",
    "dummy_cols_test = pd.get_dummies(X_test['CAT_GAMBLING'], dtype = int, drop_first = True)\n",
    "\n",
    "X_train = pd.concat([X_train.drop(columns = ['CAT_GAMBLING']), dummy_cols], axis = 1)\n",
    "X_test = pd.concat([X_test.drop(columns = ['CAT_GAMBLING']), dummy_cols_test], axis = 1)\n",
    "\n",
    "columns_to_drop = []\n",
    "\n",
    "for c1, c2 in combinations(X_train.columns, 2):\n",
    "    if X_train[c1].corr(X_train[c2]) > 0.9:\n",
    "#         print(f'c1 : {c1}, c2 : {c2}, corr = {X_train[c1].corr(X_train[c2])}')\n",
    "        columns_to_drop.append(c2)\n",
    "columns_to_drop\n",
    "\n",
    "X_train.drop(columns = columns_to_drop, inplace = True, axis = 1)\n",
    "X_test.drop(columns = columns_to_drop, inplace = True, axis = 1)\n",
    "\n",
    "# Initial cols = 87\n",
    "# Removed CUST_ID, CREDIT_SCORE -> 85\n",
    "# Replaced CAT_GAMLING with 2 int cols -> 86\n",
    "print(f'X_train.cols : {len(X_train.columns)}')\n",
    "print(f'X_test.cols : {len(X_test.columns)}')\n",
    "\n",
    "# test whether the current data is in the correct shape\n",
    "print(f'\\nX_train : {X_train.shape}, y_train : {y_train.shape}')\n",
    "print(f'X_train tail columns : {X_train.columns[-1:-5:-1]}')\n",
    "print(f'\\nX_test : {X_test.shape}')\n",
    "print(f'X_test tail columns : {X_test.columns[-1:-5:-1]}')"
   ]
  },
  {
   "cell_type": "markdown",
   "metadata": {},
   "source": [
    "### Baselines\n",
    "### ..........................................................."
   ]
  },
  {
   "cell_type": "markdown",
   "metadata": {},
   "source": [
    "### LinearRegression"
   ]
  },
  {
   "cell_type": "code",
   "execution_count": 15,
   "metadata": {
    "execution": {
     "iopub.execute_input": "2024-02-16T17:10:54.895035Z",
     "iopub.status.busy": "2024-02-16T17:10:54.894587Z",
     "iopub.status.idle": "2024-02-16T17:10:55.481160Z",
     "shell.execute_reply": "2024-02-16T17:10:55.479583Z",
     "shell.execute_reply.started": "2024-02-16T17:10:54.895001Z"
    }
   },
   "outputs": [
    {
     "name": "stdout",
     "output_type": "stream",
     "text": [
      "LR mean rmse = 28.429027910158926\n"
     ]
    }
   ],
   "source": [
    "from sklearn.linear_model import LinearRegression\n",
    "from sklearn.model_selection import cross_val_score\n",
    "\n",
    "lr = LinearRegression()\n",
    "nmse = cross_val_score(lr, X_train, y_train, scoring = 'neg_mean_squared_error', cv = folds)\n",
    "mean_rmse = np.mean(np.sqrt(-nmse))\n",
    "\n",
    "print(f'LR mean rmse = {mean_rmse}')"
   ]
  },
  {
   "cell_type": "markdown",
   "metadata": {},
   "source": [
    "### Ridge Regression"
   ]
  },
  {
   "cell_type": "code",
   "execution_count": 16,
   "metadata": {
    "execution": {
     "iopub.execute_input": "2024-02-16T17:11:13.774712Z",
     "iopub.status.busy": "2024-02-16T17:11:13.773797Z",
     "iopub.status.idle": "2024-02-16T17:11:21.971229Z",
     "shell.execute_reply": "2024-02-16T17:11:21.969468Z",
     "shell.execute_reply.started": "2024-02-16T17:11:13.774671Z"
    }
   },
   "outputs": [
    {
     "name": "stdout",
     "output_type": "stream",
     "text": [
      "RR best alpha = {'ridge__alpha': 20}\n",
      "RR rmse = 28.353964603124588\n"
     ]
    }
   ],
   "source": [
    "from sklearn.pipeline import Pipeline\n",
    "from sklearn.preprocessing import StandardScaler\n",
    "from sklearn.linear_model import Ridge\n",
    "from sklearn.model_selection import GridSearchCV\n",
    "\n",
    "ridge = Ridge()\n",
    "params = {'ridge__alpha' : [1e-15, 1e-10, 1e-8, 1e-3, 1e-2, 1, 5, 10, 20, 30, 35, 40, 45, 50, 55, 100]}\n",
    "pipeline = Pipeline([\n",
    "    ('scaler', StandardScaler()),\n",
    "    ('ridge', ridge)\n",
    "])\n",
    "rr = GridSearchCV(pipeline, params, scoring = 'neg_mean_squared_error', cv = folds)\n",
    "rr.fit(X_train, y_train)\n",
    "\n",
    "# best params\n",
    "a = rr.best_params_\n",
    "nmse = rr.best_score_\n",
    "rmse = np.sqrt(-nmse)\n",
    "\n",
    "print(f'RR best alpha = {a}')\n",
    "print(f'RR rmse = {rmse}')"
   ]
  },
  {
   "cell_type": "markdown",
   "metadata": {},
   "source": [
    "### Lasso Regression"
   ]
  },
  {
   "cell_type": "code",
   "execution_count": 17,
   "metadata": {
    "_kg_hide-output": false,
    "execution": {
     "iopub.execute_input": "2024-02-16T17:13:36.198200Z",
     "iopub.status.busy": "2024-02-16T17:13:36.197645Z",
     "iopub.status.idle": "2024-02-16T17:13:45.089387Z",
     "shell.execute_reply": "2024-02-16T17:13:45.087607Z",
     "shell.execute_reply.started": "2024-02-16T17:13:36.198164Z"
    }
   },
   "outputs": [
    {
     "name": "stderr",
     "output_type": "stream",
     "text": [
      "/opt/conda/lib/python3.10/site-packages/sklearn/linear_model/_coordinate_descent.py:631: ConvergenceWarning: Objective did not converge. You might want to increase the number of iterations, check the scale of the features or consider increasing regularisation. Duality gap: 2.101e+05, tolerance: 2.530e+04\n",
      "  model = cd_fast.enet_coordinate_descent(\n",
      "/opt/conda/lib/python3.10/site-packages/sklearn/linear_model/_coordinate_descent.py:631: ConvergenceWarning: Objective did not converge. You might want to increase the number of iterations, check the scale of the features or consider increasing regularisation. Duality gap: 2.048e+05, tolerance: 2.486e+04\n",
      "  model = cd_fast.enet_coordinate_descent(\n",
      "/opt/conda/lib/python3.10/site-packages/sklearn/linear_model/_coordinate_descent.py:631: ConvergenceWarning: Objective did not converge. You might want to increase the number of iterations, check the scale of the features or consider increasing regularisation. Duality gap: 2.022e+05, tolerance: 2.609e+04\n",
      "  model = cd_fast.enet_coordinate_descent(\n",
      "/opt/conda/lib/python3.10/site-packages/sklearn/linear_model/_coordinate_descent.py:631: ConvergenceWarning: Objective did not converge. You might want to increase the number of iterations, check the scale of the features or consider increasing regularisation. Duality gap: 2.000e+05, tolerance: 2.582e+04\n",
      "  model = cd_fast.enet_coordinate_descent(\n",
      "/opt/conda/lib/python3.10/site-packages/sklearn/linear_model/_coordinate_descent.py:631: ConvergenceWarning: Objective did not converge. You might want to increase the number of iterations, check the scale of the features or consider increasing regularisation. Duality gap: 1.973e+05, tolerance: 2.556e+04\n",
      "  model = cd_fast.enet_coordinate_descent(\n",
      "/opt/conda/lib/python3.10/site-packages/sklearn/linear_model/_coordinate_descent.py:631: ConvergenceWarning: Objective did not converge. You might want to increase the number of iterations, check the scale of the features or consider increasing regularisation. Duality gap: 1.849e+05, tolerance: 2.523e+04\n",
      "  model = cd_fast.enet_coordinate_descent(\n",
      "/opt/conda/lib/python3.10/site-packages/sklearn/linear_model/_coordinate_descent.py:631: ConvergenceWarning: Objective did not converge. You might want to increase the number of iterations, check the scale of the features or consider increasing regularisation. Duality gap: 2.092e+05, tolerance: 2.596e+04\n",
      "  model = cd_fast.enet_coordinate_descent(\n",
      "/opt/conda/lib/python3.10/site-packages/sklearn/linear_model/_coordinate_descent.py:631: ConvergenceWarning: Objective did not converge. You might want to increase the number of iterations, check the scale of the features or consider increasing regularisation. Duality gap: 1.955e+05, tolerance: 2.635e+04\n",
      "  model = cd_fast.enet_coordinate_descent(\n",
      "/opt/conda/lib/python3.10/site-packages/sklearn/linear_model/_coordinate_descent.py:631: ConvergenceWarning: Objective did not converge. You might want to increase the number of iterations, check the scale of the features or consider increasing regularisation. Duality gap: 1.979e+05, tolerance: 2.695e+04\n",
      "  model = cd_fast.enet_coordinate_descent(\n",
      "/opt/conda/lib/python3.10/site-packages/sklearn/linear_model/_coordinate_descent.py:631: ConvergenceWarning: Objective did not converge. You might want to increase the number of iterations, check the scale of the features or consider increasing regularisation. Duality gap: 2.026e+05, tolerance: 2.515e+04\n",
      "  model = cd_fast.enet_coordinate_descent(\n",
      "/opt/conda/lib/python3.10/site-packages/sklearn/linear_model/_coordinate_descent.py:631: ConvergenceWarning: Objective did not converge. You might want to increase the number of iterations, check the scale of the features or consider increasing regularisation. Duality gap: 2.101e+05, tolerance: 2.530e+04\n",
      "  model = cd_fast.enet_coordinate_descent(\n",
      "/opt/conda/lib/python3.10/site-packages/sklearn/linear_model/_coordinate_descent.py:631: ConvergenceWarning: Objective did not converge. You might want to increase the number of iterations, check the scale of the features or consider increasing regularisation. Duality gap: 2.048e+05, tolerance: 2.486e+04\n",
      "  model = cd_fast.enet_coordinate_descent(\n",
      "/opt/conda/lib/python3.10/site-packages/sklearn/linear_model/_coordinate_descent.py:631: ConvergenceWarning: Objective did not converge. You might want to increase the number of iterations, check the scale of the features or consider increasing regularisation. Duality gap: 2.022e+05, tolerance: 2.609e+04\n",
      "  model = cd_fast.enet_coordinate_descent(\n",
      "/opt/conda/lib/python3.10/site-packages/sklearn/linear_model/_coordinate_descent.py:631: ConvergenceWarning: Objective did not converge. You might want to increase the number of iterations, check the scale of the features or consider increasing regularisation. Duality gap: 2.000e+05, tolerance: 2.582e+04\n",
      "  model = cd_fast.enet_coordinate_descent(\n",
      "/opt/conda/lib/python3.10/site-packages/sklearn/linear_model/_coordinate_descent.py:631: ConvergenceWarning: Objective did not converge. You might want to increase the number of iterations, check the scale of the features or consider increasing regularisation. Duality gap: 1.973e+05, tolerance: 2.556e+04\n",
      "  model = cd_fast.enet_coordinate_descent(\n",
      "/opt/conda/lib/python3.10/site-packages/sklearn/linear_model/_coordinate_descent.py:631: ConvergenceWarning: Objective did not converge. You might want to increase the number of iterations, check the scale of the features or consider increasing regularisation. Duality gap: 1.849e+05, tolerance: 2.523e+04\n",
      "  model = cd_fast.enet_coordinate_descent(\n",
      "/opt/conda/lib/python3.10/site-packages/sklearn/linear_model/_coordinate_descent.py:631: ConvergenceWarning: Objective did not converge. You might want to increase the number of iterations, check the scale of the features or consider increasing regularisation. Duality gap: 2.092e+05, tolerance: 2.596e+04\n",
      "  model = cd_fast.enet_coordinate_descent(\n",
      "/opt/conda/lib/python3.10/site-packages/sklearn/linear_model/_coordinate_descent.py:631: ConvergenceWarning: Objective did not converge. You might want to increase the number of iterations, check the scale of the features or consider increasing regularisation. Duality gap: 1.955e+05, tolerance: 2.635e+04\n",
      "  model = cd_fast.enet_coordinate_descent(\n",
      "/opt/conda/lib/python3.10/site-packages/sklearn/linear_model/_coordinate_descent.py:631: ConvergenceWarning: Objective did not converge. You might want to increase the number of iterations, check the scale of the features or consider increasing regularisation. Duality gap: 1.979e+05, tolerance: 2.695e+04\n",
      "  model = cd_fast.enet_coordinate_descent(\n",
      "/opt/conda/lib/python3.10/site-packages/sklearn/linear_model/_coordinate_descent.py:631: ConvergenceWarning: Objective did not converge. You might want to increase the number of iterations, check the scale of the features or consider increasing regularisation. Duality gap: 2.026e+05, tolerance: 2.515e+04\n",
      "  model = cd_fast.enet_coordinate_descent(\n",
      "/opt/conda/lib/python3.10/site-packages/sklearn/linear_model/_coordinate_descent.py:631: ConvergenceWarning: Objective did not converge. You might want to increase the number of iterations, check the scale of the features or consider increasing regularisation. Duality gap: 2.101e+05, tolerance: 2.530e+04\n",
      "  model = cd_fast.enet_coordinate_descent(\n",
      "/opt/conda/lib/python3.10/site-packages/sklearn/linear_model/_coordinate_descent.py:631: ConvergenceWarning: Objective did not converge. You might want to increase the number of iterations, check the scale of the features or consider increasing regularisation. Duality gap: 2.048e+05, tolerance: 2.486e+04\n",
      "  model = cd_fast.enet_coordinate_descent(\n",
      "/opt/conda/lib/python3.10/site-packages/sklearn/linear_model/_coordinate_descent.py:631: ConvergenceWarning: Objective did not converge. You might want to increase the number of iterations, check the scale of the features or consider increasing regularisation. Duality gap: 2.022e+05, tolerance: 2.609e+04\n",
      "  model = cd_fast.enet_coordinate_descent(\n",
      "/opt/conda/lib/python3.10/site-packages/sklearn/linear_model/_coordinate_descent.py:631: ConvergenceWarning: Objective did not converge. You might want to increase the number of iterations, check the scale of the features or consider increasing regularisation. Duality gap: 1.999e+05, tolerance: 2.582e+04\n",
      "  model = cd_fast.enet_coordinate_descent(\n",
      "/opt/conda/lib/python3.10/site-packages/sklearn/linear_model/_coordinate_descent.py:631: ConvergenceWarning: Objective did not converge. You might want to increase the number of iterations, check the scale of the features or consider increasing regularisation. Duality gap: 1.973e+05, tolerance: 2.556e+04\n",
      "  model = cd_fast.enet_coordinate_descent(\n",
      "/opt/conda/lib/python3.10/site-packages/sklearn/linear_model/_coordinate_descent.py:631: ConvergenceWarning: Objective did not converge. You might want to increase the number of iterations, check the scale of the features or consider increasing regularisation. Duality gap: 1.849e+05, tolerance: 2.523e+04\n",
      "  model = cd_fast.enet_coordinate_descent(\n",
      "/opt/conda/lib/python3.10/site-packages/sklearn/linear_model/_coordinate_descent.py:631: ConvergenceWarning: Objective did not converge. You might want to increase the number of iterations, check the scale of the features or consider increasing regularisation. Duality gap: 2.092e+05, tolerance: 2.596e+04\n",
      "  model = cd_fast.enet_coordinate_descent(\n",
      "/opt/conda/lib/python3.10/site-packages/sklearn/linear_model/_coordinate_descent.py:631: ConvergenceWarning: Objective did not converge. You might want to increase the number of iterations, check the scale of the features or consider increasing regularisation. Duality gap: 1.955e+05, tolerance: 2.635e+04\n",
      "  model = cd_fast.enet_coordinate_descent(\n",
      "/opt/conda/lib/python3.10/site-packages/sklearn/linear_model/_coordinate_descent.py:631: ConvergenceWarning: Objective did not converge. You might want to increase the number of iterations, check the scale of the features or consider increasing regularisation. Duality gap: 1.979e+05, tolerance: 2.695e+04\n",
      "  model = cd_fast.enet_coordinate_descent(\n",
      "/opt/conda/lib/python3.10/site-packages/sklearn/linear_model/_coordinate_descent.py:631: ConvergenceWarning: Objective did not converge. You might want to increase the number of iterations, check the scale of the features or consider increasing regularisation. Duality gap: 2.026e+05, tolerance: 2.515e+04\n",
      "  model = cd_fast.enet_coordinate_descent(\n",
      "/opt/conda/lib/python3.10/site-packages/sklearn/linear_model/_coordinate_descent.py:631: ConvergenceWarning: Objective did not converge. You might want to increase the number of iterations, check the scale of the features or consider increasing regularisation. Duality gap: 5.026e+04, tolerance: 2.530e+04\n",
      "  model = cd_fast.enet_coordinate_descent(\n",
      "/opt/conda/lib/python3.10/site-packages/sklearn/linear_model/_coordinate_descent.py:631: ConvergenceWarning: Objective did not converge. You might want to increase the number of iterations, check the scale of the features or consider increasing regularisation. Duality gap: 1.267e+05, tolerance: 2.486e+04\n",
      "  model = cd_fast.enet_coordinate_descent(\n",
      "/opt/conda/lib/python3.10/site-packages/sklearn/linear_model/_coordinate_descent.py:631: ConvergenceWarning: Objective did not converge. You might want to increase the number of iterations, check the scale of the features or consider increasing regularisation. Duality gap: 4.957e+04, tolerance: 2.609e+04\n",
      "  model = cd_fast.enet_coordinate_descent(\n",
      "/opt/conda/lib/python3.10/site-packages/sklearn/linear_model/_coordinate_descent.py:631: ConvergenceWarning: Objective did not converge. You might want to increase the number of iterations, check the scale of the features or consider increasing regularisation. Duality gap: 4.519e+04, tolerance: 2.523e+04\n",
      "  model = cd_fast.enet_coordinate_descent(\n",
      "/opt/conda/lib/python3.10/site-packages/sklearn/linear_model/_coordinate_descent.py:631: ConvergenceWarning: Objective did not converge. You might want to increase the number of iterations, check the scale of the features or consider increasing regularisation. Duality gap: 1.153e+05, tolerance: 2.596e+04\n",
      "  model = cd_fast.enet_coordinate_descent(\n",
      "/opt/conda/lib/python3.10/site-packages/sklearn/linear_model/_coordinate_descent.py:631: ConvergenceWarning: Objective did not converge. You might want to increase the number of iterations, check the scale of the features or consider increasing regularisation. Duality gap: 5.117e+04, tolerance: 2.635e+04\n",
      "  model = cd_fast.enet_coordinate_descent(\n",
      "/opt/conda/lib/python3.10/site-packages/sklearn/linear_model/_coordinate_descent.py:631: ConvergenceWarning: Objective did not converge. You might want to increase the number of iterations, check the scale of the features or consider increasing regularisation. Duality gap: 3.746e+04, tolerance: 2.695e+04\n",
      "  model = cd_fast.enet_coordinate_descent(\n",
      "/opt/conda/lib/python3.10/site-packages/sklearn/linear_model/_coordinate_descent.py:631: ConvergenceWarning: Objective did not converge. You might want to increase the number of iterations, check the scale of the features or consider increasing regularisation. Duality gap: 4.843e+04, tolerance: 2.515e+04\n",
      "  model = cd_fast.enet_coordinate_descent(\n"
     ]
    },
    {
     "name": "stdout",
     "output_type": "stream",
     "text": [
      "lasso_regressor best alpha = {'lasso__alpha': 1}\n",
      "lasso_regressor rmse = 27.617890371610304\n"
     ]
    }
   ],
   "source": [
    "from sklearn.pipeline import Pipeline\n",
    "from sklearn.preprocessing import StandardScaler\n",
    "from sklearn.linear_model import Lasso\n",
    "from sklearn.model_selection import GridSearchCV\n",
    "\n",
    "lasso_regressor = Lasso(tol = 0.01)\n",
    "params = {'lasso__alpha' : [1e-15, 1e-10, 1e-8, 1e-3, 1e-2, 1, 5, 10, 20, 30, 35, 40, 45, 50, 55, 100, 200, 500]}\n",
    "pipeline = Pipeline([\n",
    "    ('scaler', StandardScaler()),\n",
    "    ('lasso', lasso_regressor)\n",
    "])\n",
    "lasso_regressor = GridSearchCV(pipeline, params, scoring = 'neg_mean_squared_error', cv = folds)\n",
    "lasso_regressor.fit(X_train, y_train)\n",
    "\n",
    "# best params\n",
    "a = lasso_regressor.best_params_\n",
    "nmse = lasso_regressor.best_score_\n",
    "rmse = np.sqrt(-nmse)\n",
    "\n",
    "print(f'lasso_regressor best alpha = {a}')\n",
    "print(f'lasso_regressor rmse = {rmse}')"
   ]
  },
  {
   "cell_type": "markdown",
   "metadata": {},
   "source": [
    "### XGBoost\n"
   ]
  },
  {
   "cell_type": "code",
   "execution_count": null,
   "metadata": {},
   "outputs": [],
   "source": [
    "from xgboost import XGBRegressor\n",
    "from sklearn.model_selection import RandomizedSearchCV\n",
    "from scipy.stats import uniform, randint\n",
    "\n",
    "# Create an XGBoost regressor model\n",
    "xgb = XGBRegressor()\n",
    "\n",
    "# Best parameters: {'n_estimators': 250, 'min_child_weight': 3, 'max_depth': 2, 'learning_rate': 0.05, 'lambda': 20, 'booster': 'gbtree'}\n",
    "\n",
    "# pass 2\n",
    "param_dist = {\n",
    "    'learning_rate': [0.01, 0.05, 0.1],\n",
    "    'max_depth': [2, 3, 5, 10],\n",
    "    'booster' : ['gbtree'],\n",
    "    'min_child_weight': [1, 2, 3, 4, 5],\n",
    "    'lambda' : [0.1, 0.5, 1, 5, 10, 20, 30],\n",
    "    'n_estimators': [50, 100, 250, 500, 1000, 1500]\n",
    "}\n",
    "\n",
    "# Perform randomized search with cross-validation\n",
    "folds = 10  # Define the number of folds for cross-validation\n",
    "random_search = RandomizedSearchCV(xgb, param_distributions=param_dist, n_iter=100, scoring='neg_mean_squared_error', cv=folds)\n",
    "random_search.fit(X_train, y_train)\n",
    "\n",
    "# Get the best parameters and RMSE score\n",
    "best_params = random_search.best_params_\n",
    "best_rmse = np.sqrt(-random_search.best_score_)\n",
    "\n",
    "print(\"Best parameters:\", best_params)\n",
    "print(\"Best RMSE:\", best_rmse)\n"
   ]
  },
  {
   "cell_type": "markdown",
   "metadata": {},
   "source": [
    "### Experimental Model Section\n",
    "\n",
    "To test the model drafts here (The data preprocessing should be done beforehand)"
   ]
  },
  {
   "cell_type": "code",
   "execution_count": null,
   "metadata": {},
   "outputs": [],
   "source": [
    "from xgboost import XGBRegressor\n",
    "from sklearn.model_selection import RandomizedSearchCV\n",
    "from sklearn.preprocessing import StandardScaler\n",
    "import numpy as np\n",
    "\n",
    "# Create an XGBoost regressor model\n",
    "xgb = XGBRegressor()\n",
    "\n",
    "# Define the distributions for hyperparameters to be sampled\n",
    "param_dist = {\n",
    "    'learning_rate': [0.01, 0.05, 0.1],\n",
    "    'max_depth': [2, 3, 5],\n",
    "    'booster': ['gbtree'],\n",
    "    'min_child_weight': [1, 2, 3, 4, 5],\n",
    "    'lambda': [0.1, 0.5, 1, 5, 10, 20, 50],\n",
    "    'n_estimators': [50, 100, 250, 500]\n",
    "}\n",
    "\n",
    "# Perform feature normalization\n",
    "scaler = StandardScaler()\n",
    "X_train_scaled = scaler.fit_transform(X_train)\n",
    "\n",
    "# Perform randomized search with cross-validation\n",
    "folds = 10  # Define the number of folds for cross-validation\n",
    "random_search = RandomizedSearchCV(xgb, param_distributions=param_dist, n_iter=100, scoring='neg_mean_squared_error', cv=folds, n_jobs = 4)\n",
    "\n",
    "random_search.fit(X_train_scaled, y_train)\n",
    "\n",
    "# Get the best parameters and RMSE score\n",
    "best_params = random_search.best_params_\n",
    "best_rmse = np.sqrt(-random_search.best_score_)\n",
    "\n",
    "print(\"Best parameters:\", best_params)\n",
    "print(\"Best RMSE:\", best_rmse)\n"
   ]
  },
  {
   "cell_type": "markdown",
   "metadata": {},
   "source": [
    "### Baseline Results\n",
    "\n",
    "| ID | Model | Degree | Epochs | Regularization | Reg Epochs, Tol | Lambda | N_features | Folds | RMSE |\n",
    "| --- | ---- | -------- | ----- | -------------- | ----- | ------ | ----- | ---- | ---- |\n",
    "| 1 | lr | 1 | None | None | None | 0 | All | 0 | **24.86964904316159** |\n",
    "| 2 | lr | 1 | None | L2 | X | 20 | X | 10 | 28.506133250715063 |\n",
    "| 3 | lr | 1 | None | None | None | 0 | 86 | 10 | **29.18143127944806** |\n",
    "| 4 | lr | 1 | None | L1 | 1000 | 1 | X | 10 | 27.67585141705469 | \n",
    "| 5 | lr | 1 | None | L1 | 10000, 0.01 | 1 | X | 10 | 27.666622998342643 |\n",
    "| 6 | lr | 2 | None | L2 | 2000 | 100 | X | 10 | 44.09927407811474 | \n",
    "| 7 | lr | 1 | None | L2 | 2000 | 20 | 68 (Correlation drop off) | 10 | 28.353964603124588 |\n",
    "| 8 | lr | 1 | None | L2 | 2000 | 1 | 68 | 10 | **27.617890371610304** |\n",
    "| 8 | lr | 1 | None | L2 | 2000 | 1 | 68 | 10 | X |"
   ]
  },
  {
   "cell_type": "markdown",
   "metadata": {},
   "source": [
    "### Build the Best Model\n",
    "\n",
    "Select the best model from the grid_search or random_search's best_params and then create the model before prediction"
   ]
  },
  {
   "cell_type": "code",
   "execution_count": null,
   "metadata": {},
   "outputs": [],
   "source": []
  },
  {
   "cell_type": "markdown",
   "metadata": {},
   "source": [
    "# Prediction"
   ]
  },
  {
   "cell_type": "code",
   "execution_count": 18,
   "metadata": {
    "execution": {
     "iopub.execute_input": "2024-02-16T17:15:27.415463Z",
     "iopub.status.busy": "2024-02-16T17:15:27.414997Z",
     "iopub.status.idle": "2024-02-16T17:15:27.436237Z",
     "shell.execute_reply": "2024-02-16T17:15:27.433960Z",
     "shell.execute_reply.started": "2024-02-16T17:15:27.415432Z"
    }
   },
   "outputs": [
    {
     "name": "stdout",
     "output_type": "stream",
     "text": [
      "X_test.shape : (300, 68)\n",
      "test_data_output.columns : Index(['CUST_ID', 'CREDIT_SCORE'], dtype='object')\n",
      "test_data_output.shape : (300, 2)\n"
     ]
    }
   ],
   "source": [
    "print(f'X_test.shape : {X_test.shape}')\n",
    "\n",
    "# predict\n",
    "# y_test = rr.predict(X_test)\n",
    "y_test = lasso_regressor.predict(X_test)\n",
    "\n",
    "test_data_output = pd.DataFrame({'CUST_ID' : test_data['CUST_ID'], 'CREDIT_SCORE' : y_test})\n",
    "\n",
    "print(f'test_data_output.columns : {test_data_output.columns}')\n",
    "print(f'test_data_output.shape : {test_data_output.shape}')"
   ]
  },
  {
   "cell_type": "markdown",
   "metadata": {},
   "source": [
    "### Save Output for Submission"
   ]
  },
  {
   "cell_type": "code",
   "execution_count": 20,
   "metadata": {
    "execution": {
     "iopub.execute_input": "2024-02-16T17:15:43.054492Z",
     "iopub.status.busy": "2024-02-16T17:15:43.054003Z",
     "iopub.status.idle": "2024-02-16T17:15:43.064230Z",
     "shell.execute_reply": "2024-02-16T17:15:43.063017Z",
     "shell.execute_reply.started": "2024-02-16T17:15:43.054458Z"
    }
   },
   "outputs": [],
   "source": [
    "test_data_output.to_csv(f'{output_path}/submission_id8.csv', index = False)"
   ]
  },
  {
   "cell_type": "code",
   "execution_count": null,
   "metadata": {},
   "outputs": [],
   "source": []
  }
 ],
 "metadata": {
  "kaggle": {
   "accelerator": "none",
   "dataSources": [
    {
     "databundleVersionId": 7626890,
     "sourceId": 68740,
     "sourceType": "competition"
    }
   ],
   "dockerImageVersionId": 30646,
   "isGpuEnabled": false,
   "isInternetEnabled": false,
   "language": "python",
   "sourceType": "notebook"
  },
  "kernelspec": {
   "display_name": "Python 3 (ipykernel)",
   "language": "python",
   "name": "python3"
  },
  "language_info": {
   "codemirror_mode": {
    "name": "ipython",
    "version": 3
   },
   "file_extension": ".py",
   "mimetype": "text/x-python",
   "name": "python",
   "nbconvert_exporter": "python",
   "pygments_lexer": "ipython3",
   "version": "3.11.5"
  }
 },
 "nbformat": 4,
 "nbformat_minor": 4
}
