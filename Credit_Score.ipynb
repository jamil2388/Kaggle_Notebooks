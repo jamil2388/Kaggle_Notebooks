{
 "cells": [
  {
   "cell_type": "code",
   "execution_count": 140,
   "metadata": {
    "execution": {
     "iopub.execute_input": "2024-02-16T17:17:03.598654Z",
     "iopub.status.busy": "2024-02-16T17:17:03.597374Z",
     "iopub.status.idle": "2024-02-16T17:17:03.604927Z",
     "shell.execute_reply": "2024-02-16T17:17:03.603549Z",
     "shell.execute_reply.started": "2024-02-16T17:17:03.598611Z"
    }
   },
   "outputs": [],
   "source": [
    "import pandas as pd\n",
    "import numpy as np\n",
    "import matplotlib.pyplot as plt\n",
    "import seaborn as sns\n",
    "import os\n",
    "from copy import deepcopy"
   ]
  },
  {
   "cell_type": "markdown",
   "metadata": {},
   "source": [
    "### Global Variables"
   ]
  },
  {
   "cell_type": "code",
   "execution_count": 141,
   "metadata": {
    "execution": {
     "iopub.execute_input": "2024-02-16T17:17:03.607266Z",
     "iopub.status.busy": "2024-02-16T17:17:03.606847Z",
     "iopub.status.idle": "2024-02-16T17:17:03.620829Z",
     "shell.execute_reply": "2024-02-16T17:17:03.619907Z",
     "shell.execute_reply.started": "2024-02-16T17:17:03.607228Z"
    }
   },
   "outputs": [],
   "source": [
    "epochs = 100\n",
    "r_epochs = 2000 # num epochs for regularization\n",
    "folds = 12\n",
    "a = 0.25 # alpha for regularization\n",
    "n_features = 87 # number of selected features after regularization\n",
    "degree = 2 # polynomial degree\n",
    "\n",
    "# local setup\n",
    "dataset_path = '../../Datasets/Kaggle/Credit_Score'\n",
    "output_path = dataset_path\n",
    "\n",
    "# kaggle kernel setup\n",
    "# dataset_path = '/kaggle/input/uwindsor-ai-club-can-credit-score-be-predicted'\n",
    "# output_path = '/kaggle/working'"
   ]
  },
  {
   "cell_type": "code",
   "execution_count": 142,
   "metadata": {},
   "outputs": [],
   "source": [
    "def plot_data(x, y):\n",
    "    plt.plot(x, y)\n",
    "    plt.show()"
   ]
  },
  {
   "cell_type": "code",
   "execution_count": 143,
   "metadata": {},
   "outputs": [],
   "source": [
    "def load_data(data):\n",
    "    df = pd.read_csv(data)\n",
    "    return df"
   ]
  },
  {
   "cell_type": "markdown",
   "metadata": {},
   "source": [
    "### Load Train and Test Data\n",
    "\n",
    "kaggle link of the data : <br>\n",
    "https://www.kaggle.com/competitions/uwindsor-ai-club-can-credit-score-be-predicted/data <br>\n",
    "then download the <span style = \"color : red\">train.csv, test.csv and sample_submission.csv </span>"
   ]
  },
  {
   "cell_type": "code",
   "execution_count": 144,
   "metadata": {},
   "outputs": [],
   "source": [
    "# read train and test data\n",
    "\n",
    "train_data = load_data(f'{dataset_path}/train.csv')\n",
    "test_data = load_data(f'{dataset_path}/test.csv')\n",
    "\n",
    "# sample_submission = load_data(f'{dataset_path}/sample_submission.csv')"
   ]
  },
  {
   "cell_type": "markdown",
   "metadata": {},
   "source": [
    "### Check Null values in Train and Test Data"
   ]
  },
  {
   "cell_type": "code",
   "execution_count": 145,
   "metadata": {},
   "outputs": [
    {
     "data": {
      "text/plain": [
       "CUST_ID                0\n",
       "INCOME                 0\n",
       "SAVINGS                0\n",
       "DEBT                   0\n",
       "R_SAVINGS_INCOME       0\n",
       "                      ..\n",
       "CAT_MORTGAGE           0\n",
       "CAT_SAVINGS_ACCOUNT    0\n",
       "CAT_DEPENDENTS         0\n",
       "CREDIT_SCORE           0\n",
       "DEFAULT                0\n",
       "Length: 87, dtype: int64"
      ]
     },
     "execution_count": 145,
     "metadata": {},
     "output_type": "execute_result"
    }
   ],
   "source": [
    "train_data.isnull().sum()\n",
    "\n",
    "# train_data = train_data.sample(frac = 1, random_state = 2)"
   ]
  },
  {
   "cell_type": "code",
   "execution_count": 146,
   "metadata": {},
   "outputs": [
    {
     "name": "stdout",
     "output_type": "stream",
     "text": [
      "\n",
      "Train\n",
      "\n",
      "Test\n"
     ]
    }
   ],
   "source": [
    "# prints out the columns and the num of null values if any null value is found\n",
    "print(f'\\nTrain')\n",
    "for i, val in enumerate(train_data.isnull().sum()):\n",
    "    if(val > 0):\n",
    "        print(f'col : {train_data.columns[i]}, val : {val}')\n",
    "print(f'\\nTest')\n",
    "for i, val in enumerate(test_data.isnull().sum()):\n",
    "    if(val > 0):\n",
    "        print(f'col : {test_data.columns[i]}, val : {val}')"
   ]
  },
  {
   "cell_type": "markdown",
   "metadata": {},
   "source": [
    "### Train and Test Splits\n",
    "\n",
    "- Keeping the train_data for train and val\n",
    "- Keeping the test_data for X_test only (y_test = CREDIT_SCORE column is not given, it should be predicted by us)\n",
    "- Dropping **CUST_ID** from X_train and X_test \n",
    "- train_data -> X_train, y_train (90% of the train.csv) (After feature selection)\n",
    "- test_data -> X_test (10% of the train.csv) (After feature selection) (y_test is not given)\n",
    "- Check the shapes to verify correct formatting"
   ]
  },
  {
   "cell_type": "code",
   "execution_count": 147,
   "metadata": {},
   "outputs": [
    {
     "name": "stdout",
     "output_type": "stream",
     "text": [
      "X_train.shape : (700, 85)\n",
      "y_train.shape : (700,)\n",
      "X_test.shape : (300, 85)\n"
     ]
    }
   ],
   "source": [
    "# dividing the data into two parts : predictors, targets\n",
    "X_train = train_data.drop(columns = ['CUST_ID', 'CREDIT_SCORE'], axis = 1)\n",
    "y_train = train_data['CREDIT_SCORE']\n",
    "\n",
    "X_test = test_data.drop('CUST_ID', axis = 1)\n",
    "\n",
    "print(f'X_train.shape : {X_train.shape}')\n",
    "print(f'y_train.shape : {y_train.shape}')\n",
    "print(f'X_test.shape : {X_test.shape}')"
   ]
  },
  {
   "cell_type": "code",
   "execution_count": 148,
   "metadata": {},
   "outputs": [
    {
     "name": "stdout",
     "output_type": "stream",
     "text": [
      "type(train_cols) : <class 'pandas.core.indexes.base.Index'>\n",
      "Number of train_cols : 85\n",
      "--------------------------------------------\n",
      "--------------------------------------------\n"
     ]
    }
   ],
   "source": [
    "# all the cols in the X_train\n",
    "train_cols = X_train.columns\n",
    "print(f'type(train_cols) : {type(train_cols)}')\n",
    "print(f'Number of train_cols : {len(train_cols)}')\n",
    "print(f'--------------------------------------------')\n",
    "print(f'--------------------------------------------')"
   ]
  },
  {
   "cell_type": "markdown",
   "metadata": {},
   "source": [
    "### Inspect Data before Preprocessing"
   ]
  },
  {
   "cell_type": "code",
   "execution_count": 149,
   "metadata": {},
   "outputs": [],
   "source": [
    "# sns.heatmap(train_data.isnull(), cmap = 'viridis')"
   ]
  },
  {
   "cell_type": "code",
   "execution_count": 150,
   "metadata": {},
   "outputs": [],
   "source": [
    "# for col_name, col_type in train_data.dtypes.items():\n",
    "#     print(f'{col_name} -> {col_type}')"
   ]
  },
  {
   "cell_type": "code",
   "execution_count": 151,
   "metadata": {},
   "outputs": [
    {
     "data": {
      "text/plain": [
       "CAT_GAMBLING\n",
       "No      439\n",
       "High    182\n",
       "Low      79\n",
       "Name: count, dtype: int64"
      ]
     },
     "execution_count": 151,
     "metadata": {},
     "output_type": "execute_result"
    }
   ],
   "source": [
    "train_data['CAT_GAMBLING'].value_counts()"
   ]
  },
  {
   "cell_type": "markdown",
   "metadata": {},
   "source": [
    "# Preprocessing\n",
    "\n",
    "<br>\n",
    "\n",
    "- From this part we will be working **Only** with **X_train, X_test** (instead of train_data, test_data)\n",
    "- We have **CREDIT_SCORE** already separated\n",
    "- X_train and X_test do not have **CUST_ID** (Not a feature, so dropped it while forming X_train, X_test) \n",
    "- Convert the categorical col **CAT_GAMBLING** into 2 numerical dummy cols\n",
    "- Find columns which are highly correlated to one another and drop any one of them (pruning)\n",
    "- **CUST_ID** will be joined with y_pred after prediction "
   ]
  },
  {
   "cell_type": "code",
   "execution_count": 152,
   "metadata": {},
   "outputs": [
    {
     "data": {
      "text/plain": [
       "CAT_GAMBLING\n",
       "No      181\n",
       "High     82\n",
       "Low      37\n",
       "Name: count, dtype: int64"
      ]
     },
     "execution_count": 152,
     "metadata": {},
     "output_type": "execute_result"
    }
   ],
   "source": [
    "X_test['CAT_GAMBLING'].value_counts()"
   ]
  },
  {
   "cell_type": "code",
   "execution_count": 153,
   "metadata": {},
   "outputs": [
    {
     "name": "stdout",
     "output_type": "stream",
     "text": [
      "X_train.cols : 67\n",
      "X_test.cols : 67\n",
      "\n",
      "X_train : (700, 67), y_train : (700,)\n",
      "X_train tail columns : Index(['No', 'Low', 'DEFAULT', 'CAT_DEPENDENTS'], dtype='object')\n",
      "\n",
      "X_test : (300, 67)\n",
      "X_test tail columns : Index(['No', 'Low', 'DEFAULT', 'CAT_DEPENDENTS'], dtype='object')\n"
     ]
    }
   ],
   "source": [
    "from itertools import combinations\n",
    "\n",
    "dummy_cols = pd.get_dummies(X_train['CAT_GAMBLING'], dtype = int, drop_first = True)\n",
    "dummy_cols_test = pd.get_dummies(X_test['CAT_GAMBLING'], dtype = int, drop_first = True)\n",
    "\n",
    "X_train = pd.concat([X_train.drop(columns = ['CAT_GAMBLING']), dummy_cols], axis = 1)\n",
    "X_test = pd.concat([X_test.drop(columns = ['CAT_GAMBLING']), dummy_cols_test], axis = 1)\n",
    "\n",
    "columns_to_drop = []\n",
    "\n",
    "for c1, c2 in combinations(X_train.columns, 2):\n",
    "    if np.abs(X_train[c1].corr(X_train[c2])) >= 0.88:\n",
    "#         print(f'c1 : {c1}, c2 : {c2}, corr = {X_train[c1].corr(X_train[c2])}')\n",
    "        columns_to_drop.append(c2)\n",
    "\n",
    "X_train.drop(columns = columns_to_drop, inplace = True, axis = 1)\n",
    "X_test.drop(columns = columns_to_drop, inplace = True, axis = 1)\n",
    "\n",
    "# Initial cols = 87\n",
    "# Removed CUST_ID, CREDIT_SCORE -> 85\n",
    "# Replaced CAT_GAMLING with 2 int cols -> 86\n",
    "print(f'X_train.cols : {len(X_train.columns)}')\n",
    "print(f'X_test.cols : {len(X_test.columns)}')\n",
    "\n",
    "# test whether the current data is in the correct shape\n",
    "print(f'\\nX_train : {X_train.shape}, y_train : {y_train.shape}')\n",
    "print(f'X_train tail columns : {X_train.columns[-1:-5:-1]}')\n",
    "print(f'\\nX_test : {X_test.shape}')\n",
    "print(f'X_test tail columns : {X_test.columns[-1:-5:-1]}')"
   ]
  },
  {
   "cell_type": "markdown",
   "metadata": {},
   "source": [
    "### Inspect after Preprocessing"
   ]
  },
  {
   "cell_type": "code",
   "execution_count": 154,
   "metadata": {},
   "outputs": [],
   "source": [
    "# check the correlations of each feature target column pair\n",
    "\n",
    "# data = pd.concat([X_train, y_train], axis=1)\n",
    "\n",
    "# # Calculate the correlation matrix\n",
    "# correlation_matrix = data.corr()\n",
    "\n",
    "# # Define the threshold for low correlation\n",
    "# threshold = 0.2  # Adjust as needed\n",
    "\n",
    "# # Filter features with correlation below the threshold\n",
    "# low_corr_features = correlation_matrix[correlation_matrix['CREDIT_SCORE'].abs() < threshold].index\n",
    "\n",
    "# # Filter the correlation matrix to include only low correlation features\n",
    "# low_corr_matrix = correlation_matrix.loc[low_corr_features, low_corr_features]\n",
    "\n",
    "# # Plot the correlation matrix of low correlation features as a heatmap\n",
    "# plt.figure(figsize=(10, 8))\n",
    "# sns.heatmap(low_corr_matrix, annot = False, cmap='coolwarm')"
   ]
  },
  {
   "cell_type": "markdown",
   "metadata": {},
   "source": [
    "## Feature Engineering"
   ]
  },
  {
   "cell_type": "code",
   "execution_count": 155,
   "metadata": {},
   "outputs": [],
   "source": [
    "# corr_threshold = 0.05\n",
    "\n",
    "# cols = []\n",
    "# # select features that are highly correlated with target \n",
    "# for col in X_train.columns:\n",
    "#     cr = X_train[col].corr(y_train)\n",
    "#     if(np.abs(cr) >= corr_threshold):\n",
    "#         cols.append(col)\n",
    "#         print(f'col : {col}, cr : {cr}')\n",
    "# print(f'total columns to include : {len(cols)}')\n",
    "\n",
    "# # include only the highly correlated cols in X_train and X_test\n",
    "# X_train = X_train[cols]\n",
    "# X_test = X_test[cols]\n",
    "\n",
    "# sns.pairplot(X_train)\n",
    "# print(f'X_train : {X_train.head()}')\n",
    "# print(f'X_test : {X_test.head()}')"
   ]
  },
  {
   "cell_type": "markdown",
   "metadata": {},
   "source": [
    "### Scale and Normalize"
   ]
  },
  {
   "cell_type": "code",
   "execution_count": 156,
   "metadata": {},
   "outputs": [],
   "source": [
    "# # normalize data\n",
    "# from mlxtend.preprocessing import minmax_scaling\n",
    "# from scipy import stats\n",
    "\n",
    "# # at first select the columns to apply the scaling and normalizing (except the binary cols)\n",
    "# bin_cols = X_train.columns[(X_train.eq(0) | X_train.eq(1)).all()]\n",
    "# non_bin_cols = X_train.columns.difference(bin_cols)\n",
    "\n",
    "# X_train, X_test = pd.concat([minmax_scaling(X_train, columns = non_bin_cols), X_train[bin_cols]], axis = 1), pd.concat([minmax_scaling(X_test, columns = non_bin_cols), X_test[bin_cols]], axis = 1)\n",
    "\n",
    "# # X_train[cols[2]], = stats.boxcox(X_train[cols[2]] + 0.5)\n",
    "\n",
    "# epsilon = 1e-10\n",
    "# for col in X_train.columns:\n",
    "#     if(col in non_bin_cols):\n",
    "#         X_train[col], _ = stats.boxcox(X_train[col] + epsilon)\n",
    "#         X_test[col], _ = stats.boxcox(X_test[col] + epsilon)\n",
    "\n",
    "# sns.pairplot(X_train)"
   ]
  },
  {
   "cell_type": "code",
   "execution_count": 157,
   "metadata": {},
   "outputs": [],
   "source": [
    "# # replace the zero values of the features with mean value\n",
    "# for col in X_train.columns:\n",
    "#     if(col != 'DEBT'):\n",
    "#         X_train[col].replace(0, 1, inplace = True)\n",
    "#         X_test[col].replace(0, 1, inplace = True)\n",
    "        \n",
    "\n",
    "# # inspect distributions of the features\n",
    "# X_train = pd.concat([np.log(X_train.iloc[:,:-1]), X_train.iloc[:,-1]], axis = 1)\n",
    "# X_test = pd.concat([np.log(X_test.iloc[:,:-1]), X_test.iloc[:,-1]], axis = 1)\n",
    "\n",
    "# sns.pairplot(X_train)"
   ]
  },
  {
   "cell_type": "markdown",
   "metadata": {},
   "source": [
    "### ...........................................................\n",
    "# Baselines\n",
    "### ..........................................................."
   ]
  },
  {
   "cell_type": "markdown",
   "metadata": {},
   "source": [
    "### LinearRegression"
   ]
  },
  {
   "cell_type": "code",
   "execution_count": 158,
   "metadata": {
    "execution": {
     "iopub.execute_input": "2024-02-16T17:10:54.895035Z",
     "iopub.status.busy": "2024-02-16T17:10:54.894587Z",
     "iopub.status.idle": "2024-02-16T17:10:55.481160Z",
     "shell.execute_reply": "2024-02-16T17:10:55.479583Z",
     "shell.execute_reply.started": "2024-02-16T17:10:54.895001Z"
    }
   },
   "outputs": [
    {
     "name": "stdout",
     "output_type": "stream",
     "text": [
      "LR mean rmse = 28.239422809192064\n"
     ]
    }
   ],
   "source": [
    "from sklearn.linear_model import LinearRegression\n",
    "from sklearn.model_selection import cross_val_score\n",
    "\n",
    "lr = LinearRegression()\n",
    "nmse = cross_val_score(lr, X_train, y_train, scoring = 'neg_mean_squared_error', cv = folds)\n",
    "mean_rmse = np.mean(np.sqrt(-nmse))\n",
    "\n",
    "print(f'LR mean rmse = {mean_rmse}')"
   ]
  },
  {
   "cell_type": "markdown",
   "metadata": {},
   "source": [
    "### Ridge Regression"
   ]
  },
  {
   "cell_type": "code",
   "execution_count": 159,
   "metadata": {
    "execution": {
     "iopub.execute_input": "2024-02-16T17:11:13.774712Z",
     "iopub.status.busy": "2024-02-16T17:11:13.773797Z",
     "iopub.status.idle": "2024-02-16T17:11:21.971229Z",
     "shell.execute_reply": "2024-02-16T17:11:21.969468Z",
     "shell.execute_reply.started": "2024-02-16T17:11:13.774671Z"
    }
   },
   "outputs": [
    {
     "name": "stdout",
     "output_type": "stream",
     "text": [
      "RR best alpha = {'ridge__alpha': 20, 'ridge__max_iter': 100}\n",
      "RR rmse = 28.165729554688834\n"
     ]
    }
   ],
   "source": [
    "from sklearn.pipeline import Pipeline\n",
    "from sklearn.preprocessing import StandardScaler\n",
    "from sklearn.linear_model import Ridge\n",
    "from sklearn.model_selection import GridSearchCV\n",
    "\n",
    "ridge = Ridge()\n",
    "params = {'ridge__alpha' : [1e-2, 1, 5, 10, 20, 30, 35, 40, 45, 50, 100], \\\n",
    "          'ridge__max_iter' : [100, 500, 1000, 2500]}\n",
    "pipeline = Pipeline([\n",
    "    ('scaler', StandardScaler()),\n",
    "    ('ridge', ridge)\n",
    "])\n",
    "rr = GridSearchCV(pipeline, params, scoring = 'neg_mean_squared_error', cv = folds)\n",
    "rr.fit(X_train, y_train)\n",
    "\n",
    "# best params\n",
    "a = rr.best_params_\n",
    "nmse = rr.best_score_\n",
    "rmse = np.sqrt(-nmse)\n",
    "\n",
    "print(f'RR best alpha = {a}')\n",
    "print(f'RR rmse = {rmse}')"
   ]
  },
  {
   "cell_type": "markdown",
   "metadata": {},
   "source": [
    "### Lasso Regression"
   ]
  },
  {
   "cell_type": "code",
   "execution_count": 160,
   "metadata": {
    "_kg_hide-output": false,
    "execution": {
     "iopub.execute_input": "2024-02-16T17:13:36.198200Z",
     "iopub.status.busy": "2024-02-16T17:13:36.197645Z",
     "iopub.status.idle": "2024-02-16T17:13:45.089387Z",
     "shell.execute_reply": "2024-02-16T17:13:45.087607Z",
     "shell.execute_reply.started": "2024-02-16T17:13:36.198164Z"
    }
   },
   "outputs": [
    {
     "name": "stderr",
     "output_type": "stream",
     "text": [
      "C:\\Users\\Jamil88\\.conda\\envs\\nlp\\Lib\\site-packages\\sklearn\\linear_model\\_coordinate_descent.py:678: ConvergenceWarning: Objective did not converge. You might want to increase the number of iterations, check the scale of the features or consider increasing regularisation. Duality gap: 2.152e+05, tolerance: 2.575e+04\n",
      "  model = cd_fast.enet_coordinate_descent(\n",
      "C:\\Users\\Jamil88\\.conda\\envs\\nlp\\Lib\\site-packages\\sklearn\\linear_model\\_coordinate_descent.py:678: ConvergenceWarning: Objective did not converge. You might want to increase the number of iterations, check the scale of the features or consider increasing regularisation. Duality gap: 2.086e+05, tolerance: 2.513e+04\n",
      "  model = cd_fast.enet_coordinate_descent(\n",
      "C:\\Users\\Jamil88\\.conda\\envs\\nlp\\Lib\\site-packages\\sklearn\\linear_model\\_coordinate_descent.py:678: ConvergenceWarning: Objective did not converge. You might want to increase the number of iterations, check the scale of the features or consider increasing regularisation. Duality gap: 2.054e+05, tolerance: 2.658e+04\n",
      "  model = cd_fast.enet_coordinate_descent(\n",
      "C:\\Users\\Jamil88\\.conda\\envs\\nlp\\Lib\\site-packages\\sklearn\\linear_model\\_coordinate_descent.py:678: ConvergenceWarning: Objective did not converge. You might want to increase the number of iterations, check the scale of the features or consider increasing regularisation. Duality gap: 2.056e+05, tolerance: 2.673e+04\n",
      "  model = cd_fast.enet_coordinate_descent(\n",
      "C:\\Users\\Jamil88\\.conda\\envs\\nlp\\Lib\\site-packages\\sklearn\\linear_model\\_coordinate_descent.py:678: ConvergenceWarning: Objective did not converge. You might want to increase the number of iterations, check the scale of the features or consider increasing regularisation. Duality gap: 2.033e+05, tolerance: 2.576e+04\n",
      "  model = cd_fast.enet_coordinate_descent(\n",
      "C:\\Users\\Jamil88\\.conda\\envs\\nlp\\Lib\\site-packages\\sklearn\\linear_model\\_coordinate_descent.py:678: ConvergenceWarning: Objective did not converge. You might want to increase the number of iterations, check the scale of the features or consider increasing regularisation. Duality gap: 2.028e+05, tolerance: 2.627e+04\n",
      "  model = cd_fast.enet_coordinate_descent(\n",
      "C:\\Users\\Jamil88\\.conda\\envs\\nlp\\Lib\\site-packages\\sklearn\\linear_model\\_coordinate_descent.py:678: ConvergenceWarning: Objective did not converge. You might want to increase the number of iterations, check the scale of the features or consider increasing regularisation. Duality gap: 1.902e+05, tolerance: 2.619e+04\n",
      "  model = cd_fast.enet_coordinate_descent(\n",
      "C:\\Users\\Jamil88\\.conda\\envs\\nlp\\Lib\\site-packages\\sklearn\\linear_model\\_coordinate_descent.py:678: ConvergenceWarning: Objective did not converge. You might want to increase the number of iterations, check the scale of the features or consider increasing regularisation. Duality gap: 2.088e+05, tolerance: 2.612e+04\n",
      "  model = cd_fast.enet_coordinate_descent(\n",
      "C:\\Users\\Jamil88\\.conda\\envs\\nlp\\Lib\\site-packages\\sklearn\\linear_model\\_coordinate_descent.py:678: ConvergenceWarning: Objective did not converge. You might want to increase the number of iterations, check the scale of the features or consider increasing regularisation. Duality gap: 2.043e+05, tolerance: 2.601e+04\n",
      "  model = cd_fast.enet_coordinate_descent(\n",
      "C:\\Users\\Jamil88\\.conda\\envs\\nlp\\Lib\\site-packages\\sklearn\\linear_model\\_coordinate_descent.py:678: ConvergenceWarning: Objective did not converge. You might want to increase the number of iterations, check the scale of the features or consider increasing regularisation. Duality gap: 2.010e+05, tolerance: 2.714e+04\n",
      "  model = cd_fast.enet_coordinate_descent(\n",
      "C:\\Users\\Jamil88\\.conda\\envs\\nlp\\Lib\\site-packages\\sklearn\\linear_model\\_coordinate_descent.py:678: ConvergenceWarning: Objective did not converge. You might want to increase the number of iterations, check the scale of the features or consider increasing regularisation. Duality gap: 2.099e+05, tolerance: 2.695e+04\n",
      "  model = cd_fast.enet_coordinate_descent(\n",
      "C:\\Users\\Jamil88\\.conda\\envs\\nlp\\Lib\\site-packages\\sklearn\\linear_model\\_coordinate_descent.py:678: ConvergenceWarning: Objective did not converge. You might want to increase the number of iterations, check the scale of the features or consider increasing regularisation. Duality gap: 2.049e+05, tolerance: 2.583e+04\n",
      "  model = cd_fast.enet_coordinate_descent(\n",
      "C:\\Users\\Jamil88\\.conda\\envs\\nlp\\Lib\\site-packages\\sklearn\\linear_model\\_coordinate_descent.py:678: ConvergenceWarning: Objective did not converge. You might want to increase the number of iterations, check the scale of the features or consider increasing regularisation. Duality gap: 2.152e+05, tolerance: 5.151e+04\n",
      "  model = cd_fast.enet_coordinate_descent(\n",
      "C:\\Users\\Jamil88\\.conda\\envs\\nlp\\Lib\\site-packages\\sklearn\\linear_model\\_coordinate_descent.py:678: ConvergenceWarning: Objective did not converge. You might want to increase the number of iterations, check the scale of the features or consider increasing regularisation. Duality gap: 2.086e+05, tolerance: 5.025e+04\n",
      "  model = cd_fast.enet_coordinate_descent(\n",
      "C:\\Users\\Jamil88\\.conda\\envs\\nlp\\Lib\\site-packages\\sklearn\\linear_model\\_coordinate_descent.py:678: ConvergenceWarning: Objective did not converge. You might want to increase the number of iterations, check the scale of the features or consider increasing regularisation. Duality gap: 2.054e+05, tolerance: 5.316e+04\n",
      "  model = cd_fast.enet_coordinate_descent(\n",
      "C:\\Users\\Jamil88\\.conda\\envs\\nlp\\Lib\\site-packages\\sklearn\\linear_model\\_coordinate_descent.py:678: ConvergenceWarning: Objective did not converge. You might want to increase the number of iterations, check the scale of the features or consider increasing regularisation. Duality gap: 2.056e+05, tolerance: 5.345e+04\n",
      "  model = cd_fast.enet_coordinate_descent(\n",
      "C:\\Users\\Jamil88\\.conda\\envs\\nlp\\Lib\\site-packages\\sklearn\\linear_model\\_coordinate_descent.py:678: ConvergenceWarning: Objective did not converge. You might want to increase the number of iterations, check the scale of the features or consider increasing regularisation. Duality gap: 2.033e+05, tolerance: 5.152e+04\n",
      "  model = cd_fast.enet_coordinate_descent(\n",
      "C:\\Users\\Jamil88\\.conda\\envs\\nlp\\Lib\\site-packages\\sklearn\\linear_model\\_coordinate_descent.py:678: ConvergenceWarning: Objective did not converge. You might want to increase the number of iterations, check the scale of the features or consider increasing regularisation. Duality gap: 2.028e+05, tolerance: 5.255e+04\n",
      "  model = cd_fast.enet_coordinate_descent(\n",
      "C:\\Users\\Jamil88\\.conda\\envs\\nlp\\Lib\\site-packages\\sklearn\\linear_model\\_coordinate_descent.py:678: ConvergenceWarning: Objective did not converge. You might want to increase the number of iterations, check the scale of the features or consider increasing regularisation. Duality gap: 1.902e+05, tolerance: 5.238e+04\n",
      "  model = cd_fast.enet_coordinate_descent(\n",
      "C:\\Users\\Jamil88\\.conda\\envs\\nlp\\Lib\\site-packages\\sklearn\\linear_model\\_coordinate_descent.py:678: ConvergenceWarning: Objective did not converge. You might want to increase the number of iterations, check the scale of the features or consider increasing regularisation. Duality gap: 2.088e+05, tolerance: 5.223e+04\n",
      "  model = cd_fast.enet_coordinate_descent(\n",
      "C:\\Users\\Jamil88\\.conda\\envs\\nlp\\Lib\\site-packages\\sklearn\\linear_model\\_coordinate_descent.py:678: ConvergenceWarning: Objective did not converge. You might want to increase the number of iterations, check the scale of the features or consider increasing regularisation. Duality gap: 2.043e+05, tolerance: 5.201e+04\n",
      "  model = cd_fast.enet_coordinate_descent(\n",
      "C:\\Users\\Jamil88\\.conda\\envs\\nlp\\Lib\\site-packages\\sklearn\\linear_model\\_coordinate_descent.py:678: ConvergenceWarning: Objective did not converge. You might want to increase the number of iterations, check the scale of the features or consider increasing regularisation. Duality gap: 2.010e+05, tolerance: 5.427e+04\n",
      "  model = cd_fast.enet_coordinate_descent(\n",
      "C:\\Users\\Jamil88\\.conda\\envs\\nlp\\Lib\\site-packages\\sklearn\\linear_model\\_coordinate_descent.py:678: ConvergenceWarning: Objective did not converge. You might want to increase the number of iterations, check the scale of the features or consider increasing regularisation. Duality gap: 2.099e+05, tolerance: 5.389e+04\n",
      "  model = cd_fast.enet_coordinate_descent(\n",
      "C:\\Users\\Jamil88\\.conda\\envs\\nlp\\Lib\\site-packages\\sklearn\\linear_model\\_coordinate_descent.py:678: ConvergenceWarning: Objective did not converge. You might want to increase the number of iterations, check the scale of the features or consider increasing regularisation. Duality gap: 2.049e+05, tolerance: 5.166e+04\n",
      "  model = cd_fast.enet_coordinate_descent(\n",
      "C:\\Users\\Jamil88\\.conda\\envs\\nlp\\Lib\\site-packages\\sklearn\\linear_model\\_coordinate_descent.py:678: ConvergenceWarning: Objective did not converge. You might want to increase the number of iterations, check the scale of the features or consider increasing regularisation. Duality gap: 2.152e+05, tolerance: 7.726e+04\n",
      "  model = cd_fast.enet_coordinate_descent(\n"
     ]
    },
    {
     "name": "stderr",
     "output_type": "stream",
     "text": [
      "C:\\Users\\Jamil88\\.conda\\envs\\nlp\\Lib\\site-packages\\sklearn\\linear_model\\_coordinate_descent.py:678: ConvergenceWarning: Objective did not converge. You might want to increase the number of iterations, check the scale of the features or consider increasing regularisation. Duality gap: 2.086e+05, tolerance: 7.538e+04\n",
      "  model = cd_fast.enet_coordinate_descent(\n",
      "C:\\Users\\Jamil88\\.conda\\envs\\nlp\\Lib\\site-packages\\sklearn\\linear_model\\_coordinate_descent.py:678: ConvergenceWarning: Objective did not converge. You might want to increase the number of iterations, check the scale of the features or consider increasing regularisation. Duality gap: 2.054e+05, tolerance: 7.973e+04\n",
      "  model = cd_fast.enet_coordinate_descent(\n",
      "C:\\Users\\Jamil88\\.conda\\envs\\nlp\\Lib\\site-packages\\sklearn\\linear_model\\_coordinate_descent.py:678: ConvergenceWarning: Objective did not converge. You might want to increase the number of iterations, check the scale of the features or consider increasing regularisation. Duality gap: 2.056e+05, tolerance: 8.018e+04\n",
      "  model = cd_fast.enet_coordinate_descent(\n",
      "C:\\Users\\Jamil88\\.conda\\envs\\nlp\\Lib\\site-packages\\sklearn\\linear_model\\_coordinate_descent.py:678: ConvergenceWarning: Objective did not converge. You might want to increase the number of iterations, check the scale of the features or consider increasing regularisation. Duality gap: 2.033e+05, tolerance: 7.728e+04\n",
      "  model = cd_fast.enet_coordinate_descent(\n",
      "C:\\Users\\Jamil88\\.conda\\envs\\nlp\\Lib\\site-packages\\sklearn\\linear_model\\_coordinate_descent.py:678: ConvergenceWarning: Objective did not converge. You might want to increase the number of iterations, check the scale of the features or consider increasing regularisation. Duality gap: 2.028e+05, tolerance: 7.882e+04\n",
      "  model = cd_fast.enet_coordinate_descent(\n",
      "C:\\Users\\Jamil88\\.conda\\envs\\nlp\\Lib\\site-packages\\sklearn\\linear_model\\_coordinate_descent.py:678: ConvergenceWarning: Objective did not converge. You might want to increase the number of iterations, check the scale of the features or consider increasing regularisation. Duality gap: 1.902e+05, tolerance: 7.858e+04\n",
      "  model = cd_fast.enet_coordinate_descent(\n",
      "C:\\Users\\Jamil88\\.conda\\envs\\nlp\\Lib\\site-packages\\sklearn\\linear_model\\_coordinate_descent.py:678: ConvergenceWarning: Objective did not converge. You might want to increase the number of iterations, check the scale of the features or consider increasing regularisation. Duality gap: 2.088e+05, tolerance: 7.835e+04\n",
      "  model = cd_fast.enet_coordinate_descent(\n",
      "C:\\Users\\Jamil88\\.conda\\envs\\nlp\\Lib\\site-packages\\sklearn\\linear_model\\_coordinate_descent.py:678: ConvergenceWarning: Objective did not converge. You might want to increase the number of iterations, check the scale of the features or consider increasing regularisation. Duality gap: 2.043e+05, tolerance: 7.802e+04\n",
      "  model = cd_fast.enet_coordinate_descent(\n",
      "C:\\Users\\Jamil88\\.conda\\envs\\nlp\\Lib\\site-packages\\sklearn\\linear_model\\_coordinate_descent.py:678: ConvergenceWarning: Objective did not converge. You might want to increase the number of iterations, check the scale of the features or consider increasing regularisation. Duality gap: 2.010e+05, tolerance: 8.141e+04\n",
      "  model = cd_fast.enet_coordinate_descent(\n",
      "C:\\Users\\Jamil88\\.conda\\envs\\nlp\\Lib\\site-packages\\sklearn\\linear_model\\_coordinate_descent.py:678: ConvergenceWarning: Objective did not converge. You might want to increase the number of iterations, check the scale of the features or consider increasing regularisation. Duality gap: 2.099e+05, tolerance: 8.084e+04\n",
      "  model = cd_fast.enet_coordinate_descent(\n",
      "C:\\Users\\Jamil88\\.conda\\envs\\nlp\\Lib\\site-packages\\sklearn\\linear_model\\_coordinate_descent.py:678: ConvergenceWarning: Objective did not converge. You might want to increase the number of iterations, check the scale of the features or consider increasing regularisation. Duality gap: 2.049e+05, tolerance: 7.749e+04\n",
      "  model = cd_fast.enet_coordinate_descent(\n",
      "C:\\Users\\Jamil88\\.conda\\envs\\nlp\\Lib\\site-packages\\sklearn\\linear_model\\_coordinate_descent.py:678: ConvergenceWarning: Objective did not converge. You might want to increase the number of iterations, check the scale of the features or consider increasing regularisation. Duality gap: 2.152e+05, tolerance: 1.288e+05\n",
      "  model = cd_fast.enet_coordinate_descent(\n",
      "C:\\Users\\Jamil88\\.conda\\envs\\nlp\\Lib\\site-packages\\sklearn\\linear_model\\_coordinate_descent.py:678: ConvergenceWarning: Objective did not converge. You might want to increase the number of iterations, check the scale of the features or consider increasing regularisation. Duality gap: 2.086e+05, tolerance: 1.256e+05\n",
      "  model = cd_fast.enet_coordinate_descent(\n",
      "C:\\Users\\Jamil88\\.conda\\envs\\nlp\\Lib\\site-packages\\sklearn\\linear_model\\_coordinate_descent.py:678: ConvergenceWarning: Objective did not converge. You might want to increase the number of iterations, check the scale of the features or consider increasing regularisation. Duality gap: 2.054e+05, tolerance: 1.329e+05\n",
      "  model = cd_fast.enet_coordinate_descent(\n",
      "C:\\Users\\Jamil88\\.conda\\envs\\nlp\\Lib\\site-packages\\sklearn\\linear_model\\_coordinate_descent.py:678: ConvergenceWarning: Objective did not converge. You might want to increase the number of iterations, check the scale of the features or consider increasing regularisation. Duality gap: 2.056e+05, tolerance: 1.336e+05\n",
      "  model = cd_fast.enet_coordinate_descent(\n",
      "C:\\Users\\Jamil88\\.conda\\envs\\nlp\\Lib\\site-packages\\sklearn\\linear_model\\_coordinate_descent.py:678: ConvergenceWarning: Objective did not converge. You might want to increase the number of iterations, check the scale of the features or consider increasing regularisation. Duality gap: 2.033e+05, tolerance: 1.288e+05\n",
      "  model = cd_fast.enet_coordinate_descent(\n",
      "C:\\Users\\Jamil88\\.conda\\envs\\nlp\\Lib\\site-packages\\sklearn\\linear_model\\_coordinate_descent.py:678: ConvergenceWarning: Objective did not converge. You might want to increase the number of iterations, check the scale of the features or consider increasing regularisation. Duality gap: 2.028e+05, tolerance: 1.314e+05\n",
      "  model = cd_fast.enet_coordinate_descent(\n",
      "C:\\Users\\Jamil88\\.conda\\envs\\nlp\\Lib\\site-packages\\sklearn\\linear_model\\_coordinate_descent.py:678: ConvergenceWarning: Objective did not converge. You might want to increase the number of iterations, check the scale of the features or consider increasing regularisation. Duality gap: 1.902e+05, tolerance: 1.310e+05\n",
      "  model = cd_fast.enet_coordinate_descent(\n",
      "C:\\Users\\Jamil88\\.conda\\envs\\nlp\\Lib\\site-packages\\sklearn\\linear_model\\_coordinate_descent.py:678: ConvergenceWarning: Objective did not converge. You might want to increase the number of iterations, check the scale of the features or consider increasing regularisation. Duality gap: 2.088e+05, tolerance: 1.306e+05\n",
      "  model = cd_fast.enet_coordinate_descent(\n",
      "C:\\Users\\Jamil88\\.conda\\envs\\nlp\\Lib\\site-packages\\sklearn\\linear_model\\_coordinate_descent.py:678: ConvergenceWarning: Objective did not converge. You might want to increase the number of iterations, check the scale of the features or consider increasing regularisation. Duality gap: 2.043e+05, tolerance: 1.300e+05\n",
      "  model = cd_fast.enet_coordinate_descent(\n",
      "C:\\Users\\Jamil88\\.conda\\envs\\nlp\\Lib\\site-packages\\sklearn\\linear_model\\_coordinate_descent.py:678: ConvergenceWarning: Objective did not converge. You might want to increase the number of iterations, check the scale of the features or consider increasing regularisation. Duality gap: 2.010e+05, tolerance: 1.357e+05\n",
      "  model = cd_fast.enet_coordinate_descent(\n",
      "C:\\Users\\Jamil88\\.conda\\envs\\nlp\\Lib\\site-packages\\sklearn\\linear_model\\_coordinate_descent.py:678: ConvergenceWarning: Objective did not converge. You might want to increase the number of iterations, check the scale of the features or consider increasing regularisation. Duality gap: 2.099e+05, tolerance: 1.347e+05\n",
      "  model = cd_fast.enet_coordinate_descent(\n",
      "C:\\Users\\Jamil88\\.conda\\envs\\nlp\\Lib\\site-packages\\sklearn\\linear_model\\_coordinate_descent.py:678: ConvergenceWarning: Objective did not converge. You might want to increase the number of iterations, check the scale of the features or consider increasing regularisation. Duality gap: 2.049e+05, tolerance: 1.292e+05\n",
      "  model = cd_fast.enet_coordinate_descent(\n",
      "C:\\Users\\Jamil88\\.conda\\envs\\nlp\\Lib\\site-packages\\sklearn\\linear_model\\_coordinate_descent.py:678: ConvergenceWarning: Objective did not converge. You might want to increase the number of iterations, check the scale of the features or consider increasing regularisation. Duality gap: 2.152e+05, tolerance: 1.288e+03\n",
      "  model = cd_fast.enet_coordinate_descent(\n",
      "C:\\Users\\Jamil88\\.conda\\envs\\nlp\\Lib\\site-packages\\sklearn\\linear_model\\_coordinate_descent.py:678: ConvergenceWarning: Objective did not converge. You might want to increase the number of iterations, check the scale of the features or consider increasing regularisation. Duality gap: 2.086e+05, tolerance: 1.256e+03\n",
      "  model = cd_fast.enet_coordinate_descent(\n"
     ]
    },
    {
     "name": "stderr",
     "output_type": "stream",
     "text": [
      "C:\\Users\\Jamil88\\.conda\\envs\\nlp\\Lib\\site-packages\\sklearn\\linear_model\\_coordinate_descent.py:678: ConvergenceWarning: Objective did not converge. You might want to increase the number of iterations, check the scale of the features or consider increasing regularisation. Duality gap: 2.054e+05, tolerance: 1.329e+03\n",
      "  model = cd_fast.enet_coordinate_descent(\n",
      "C:\\Users\\Jamil88\\.conda\\envs\\nlp\\Lib\\site-packages\\sklearn\\linear_model\\_coordinate_descent.py:678: ConvergenceWarning: Objective did not converge. You might want to increase the number of iterations, check the scale of the features or consider increasing regularisation. Duality gap: 2.056e+05, tolerance: 1.336e+03\n",
      "  model = cd_fast.enet_coordinate_descent(\n",
      "C:\\Users\\Jamil88\\.conda\\envs\\nlp\\Lib\\site-packages\\sklearn\\linear_model\\_coordinate_descent.py:678: ConvergenceWarning: Objective did not converge. You might want to increase the number of iterations, check the scale of the features or consider increasing regularisation. Duality gap: 2.033e+05, tolerance: 1.288e+03\n",
      "  model = cd_fast.enet_coordinate_descent(\n",
      "C:\\Users\\Jamil88\\.conda\\envs\\nlp\\Lib\\site-packages\\sklearn\\linear_model\\_coordinate_descent.py:678: ConvergenceWarning: Objective did not converge. You might want to increase the number of iterations, check the scale of the features or consider increasing regularisation. Duality gap: 2.028e+05, tolerance: 1.314e+03\n",
      "  model = cd_fast.enet_coordinate_descent(\n",
      "C:\\Users\\Jamil88\\.conda\\envs\\nlp\\Lib\\site-packages\\sklearn\\linear_model\\_coordinate_descent.py:678: ConvergenceWarning: Objective did not converge. You might want to increase the number of iterations, check the scale of the features or consider increasing regularisation. Duality gap: 1.902e+05, tolerance: 1.310e+03\n",
      "  model = cd_fast.enet_coordinate_descent(\n",
      "C:\\Users\\Jamil88\\.conda\\envs\\nlp\\Lib\\site-packages\\sklearn\\linear_model\\_coordinate_descent.py:678: ConvergenceWarning: Objective did not converge. You might want to increase the number of iterations, check the scale of the features or consider increasing regularisation. Duality gap: 2.088e+05, tolerance: 1.306e+03\n",
      "  model = cd_fast.enet_coordinate_descent(\n",
      "C:\\Users\\Jamil88\\.conda\\envs\\nlp\\Lib\\site-packages\\sklearn\\linear_model\\_coordinate_descent.py:678: ConvergenceWarning: Objective did not converge. You might want to increase the number of iterations, check the scale of the features or consider increasing regularisation. Duality gap: 2.043e+05, tolerance: 1.300e+03\n",
      "  model = cd_fast.enet_coordinate_descent(\n",
      "C:\\Users\\Jamil88\\.conda\\envs\\nlp\\Lib\\site-packages\\sklearn\\linear_model\\_coordinate_descent.py:678: ConvergenceWarning: Objective did not converge. You might want to increase the number of iterations, check the scale of the features or consider increasing regularisation. Duality gap: 2.010e+05, tolerance: 1.357e+03\n",
      "  model = cd_fast.enet_coordinate_descent(\n",
      "C:\\Users\\Jamil88\\.conda\\envs\\nlp\\Lib\\site-packages\\sklearn\\linear_model\\_coordinate_descent.py:678: ConvergenceWarning: Objective did not converge. You might want to increase the number of iterations, check the scale of the features or consider increasing regularisation. Duality gap: 2.099e+05, tolerance: 1.347e+03\n",
      "  model = cd_fast.enet_coordinate_descent(\n",
      "C:\\Users\\Jamil88\\.conda\\envs\\nlp\\Lib\\site-packages\\sklearn\\linear_model\\_coordinate_descent.py:678: ConvergenceWarning: Objective did not converge. You might want to increase the number of iterations, check the scale of the features or consider increasing regularisation. Duality gap: 2.049e+05, tolerance: 1.292e+03\n",
      "  model = cd_fast.enet_coordinate_descent(\n",
      "C:\\Users\\Jamil88\\.conda\\envs\\nlp\\Lib\\site-packages\\sklearn\\linear_model\\_coordinate_descent.py:678: ConvergenceWarning: Objective did not converge. You might want to increase the number of iterations, check the scale of the features or consider increasing regularisation. Duality gap: 2.151e+05, tolerance: 2.575e+04\n",
      "  model = cd_fast.enet_coordinate_descent(\n",
      "C:\\Users\\Jamil88\\.conda\\envs\\nlp\\Lib\\site-packages\\sklearn\\linear_model\\_coordinate_descent.py:678: ConvergenceWarning: Objective did not converge. You might want to increase the number of iterations, check the scale of the features or consider increasing regularisation. Duality gap: 2.086e+05, tolerance: 2.513e+04\n",
      "  model = cd_fast.enet_coordinate_descent(\n",
      "C:\\Users\\Jamil88\\.conda\\envs\\nlp\\Lib\\site-packages\\sklearn\\linear_model\\_coordinate_descent.py:678: ConvergenceWarning: Objective did not converge. You might want to increase the number of iterations, check the scale of the features or consider increasing regularisation. Duality gap: 2.054e+05, tolerance: 2.658e+04\n",
      "  model = cd_fast.enet_coordinate_descent(\n",
      "C:\\Users\\Jamil88\\.conda\\envs\\nlp\\Lib\\site-packages\\sklearn\\linear_model\\_coordinate_descent.py:678: ConvergenceWarning: Objective did not converge. You might want to increase the number of iterations, check the scale of the features or consider increasing regularisation. Duality gap: 2.056e+05, tolerance: 2.673e+04\n",
      "  model = cd_fast.enet_coordinate_descent(\n",
      "C:\\Users\\Jamil88\\.conda\\envs\\nlp\\Lib\\site-packages\\sklearn\\linear_model\\_coordinate_descent.py:678: ConvergenceWarning: Objective did not converge. You might want to increase the number of iterations, check the scale of the features or consider increasing regularisation. Duality gap: 2.032e+05, tolerance: 2.576e+04\n",
      "  model = cd_fast.enet_coordinate_descent(\n",
      "C:\\Users\\Jamil88\\.conda\\envs\\nlp\\Lib\\site-packages\\sklearn\\linear_model\\_coordinate_descent.py:678: ConvergenceWarning: Objective did not converge. You might want to increase the number of iterations, check the scale of the features or consider increasing regularisation. Duality gap: 2.026e+05, tolerance: 2.627e+04\n",
      "  model = cd_fast.enet_coordinate_descent(\n",
      "C:\\Users\\Jamil88\\.conda\\envs\\nlp\\Lib\\site-packages\\sklearn\\linear_model\\_coordinate_descent.py:678: ConvergenceWarning: Objective did not converge. You might want to increase the number of iterations, check the scale of the features or consider increasing regularisation. Duality gap: 1.902e+05, tolerance: 2.619e+04\n",
      "  model = cd_fast.enet_coordinate_descent(\n",
      "C:\\Users\\Jamil88\\.conda\\envs\\nlp\\Lib\\site-packages\\sklearn\\linear_model\\_coordinate_descent.py:678: ConvergenceWarning: Objective did not converge. You might want to increase the number of iterations, check the scale of the features or consider increasing regularisation. Duality gap: 2.088e+05, tolerance: 2.612e+04\n",
      "  model = cd_fast.enet_coordinate_descent(\n",
      "C:\\Users\\Jamil88\\.conda\\envs\\nlp\\Lib\\site-packages\\sklearn\\linear_model\\_coordinate_descent.py:678: ConvergenceWarning: Objective did not converge. You might want to increase the number of iterations, check the scale of the features or consider increasing regularisation. Duality gap: 2.042e+05, tolerance: 2.601e+04\n",
      "  model = cd_fast.enet_coordinate_descent(\n",
      "C:\\Users\\Jamil88\\.conda\\envs\\nlp\\Lib\\site-packages\\sklearn\\linear_model\\_coordinate_descent.py:678: ConvergenceWarning: Objective did not converge. You might want to increase the number of iterations, check the scale of the features or consider increasing regularisation. Duality gap: 2.007e+05, tolerance: 2.714e+04\n",
      "  model = cd_fast.enet_coordinate_descent(\n",
      "C:\\Users\\Jamil88\\.conda\\envs\\nlp\\Lib\\site-packages\\sklearn\\linear_model\\_coordinate_descent.py:678: ConvergenceWarning: Objective did not converge. You might want to increase the number of iterations, check the scale of the features or consider increasing regularisation. Duality gap: 2.099e+05, tolerance: 2.695e+04\n",
      "  model = cd_fast.enet_coordinate_descent(\n",
      "C:\\Users\\Jamil88\\.conda\\envs\\nlp\\Lib\\site-packages\\sklearn\\linear_model\\_coordinate_descent.py:678: ConvergenceWarning: Objective did not converge. You might want to increase the number of iterations, check the scale of the features or consider increasing regularisation. Duality gap: 2.049e+05, tolerance: 2.583e+04\n",
      "  model = cd_fast.enet_coordinate_descent(\n",
      "C:\\Users\\Jamil88\\.conda\\envs\\nlp\\Lib\\site-packages\\sklearn\\linear_model\\_coordinate_descent.py:678: ConvergenceWarning: Objective did not converge. You might want to increase the number of iterations, check the scale of the features or consider increasing regularisation. Duality gap: 2.151e+05, tolerance: 5.151e+04\n",
      "  model = cd_fast.enet_coordinate_descent(\n",
      "C:\\Users\\Jamil88\\.conda\\envs\\nlp\\Lib\\site-packages\\sklearn\\linear_model\\_coordinate_descent.py:678: ConvergenceWarning: Objective did not converge. You might want to increase the number of iterations, check the scale of the features or consider increasing regularisation. Duality gap: 2.086e+05, tolerance: 5.025e+04\n",
      "  model = cd_fast.enet_coordinate_descent(\n",
      "C:\\Users\\Jamil88\\.conda\\envs\\nlp\\Lib\\site-packages\\sklearn\\linear_model\\_coordinate_descent.py:678: ConvergenceWarning: Objective did not converge. You might want to increase the number of iterations, check the scale of the features or consider increasing regularisation. Duality gap: 2.054e+05, tolerance: 5.316e+04\n",
      "  model = cd_fast.enet_coordinate_descent(\n",
      "C:\\Users\\Jamil88\\.conda\\envs\\nlp\\Lib\\site-packages\\sklearn\\linear_model\\_coordinate_descent.py:678: ConvergenceWarning: Objective did not converge. You might want to increase the number of iterations, check the scale of the features or consider increasing regularisation. Duality gap: 2.056e+05, tolerance: 5.345e+04\n",
      "  model = cd_fast.enet_coordinate_descent(\n"
     ]
    },
    {
     "name": "stderr",
     "output_type": "stream",
     "text": [
      "C:\\Users\\Jamil88\\.conda\\envs\\nlp\\Lib\\site-packages\\sklearn\\linear_model\\_coordinate_descent.py:678: ConvergenceWarning: Objective did not converge. You might want to increase the number of iterations, check the scale of the features or consider increasing regularisation. Duality gap: 2.032e+05, tolerance: 5.152e+04\n",
      "  model = cd_fast.enet_coordinate_descent(\n",
      "C:\\Users\\Jamil88\\.conda\\envs\\nlp\\Lib\\site-packages\\sklearn\\linear_model\\_coordinate_descent.py:678: ConvergenceWarning: Objective did not converge. You might want to increase the number of iterations, check the scale of the features or consider increasing regularisation. Duality gap: 2.026e+05, tolerance: 5.255e+04\n",
      "  model = cd_fast.enet_coordinate_descent(\n",
      "C:\\Users\\Jamil88\\.conda\\envs\\nlp\\Lib\\site-packages\\sklearn\\linear_model\\_coordinate_descent.py:678: ConvergenceWarning: Objective did not converge. You might want to increase the number of iterations, check the scale of the features or consider increasing regularisation. Duality gap: 1.902e+05, tolerance: 5.238e+04\n",
      "  model = cd_fast.enet_coordinate_descent(\n",
      "C:\\Users\\Jamil88\\.conda\\envs\\nlp\\Lib\\site-packages\\sklearn\\linear_model\\_coordinate_descent.py:678: ConvergenceWarning: Objective did not converge. You might want to increase the number of iterations, check the scale of the features or consider increasing regularisation. Duality gap: 2.088e+05, tolerance: 5.223e+04\n",
      "  model = cd_fast.enet_coordinate_descent(\n",
      "C:\\Users\\Jamil88\\.conda\\envs\\nlp\\Lib\\site-packages\\sklearn\\linear_model\\_coordinate_descent.py:678: ConvergenceWarning: Objective did not converge. You might want to increase the number of iterations, check the scale of the features or consider increasing regularisation. Duality gap: 2.042e+05, tolerance: 5.201e+04\n",
      "  model = cd_fast.enet_coordinate_descent(\n",
      "C:\\Users\\Jamil88\\.conda\\envs\\nlp\\Lib\\site-packages\\sklearn\\linear_model\\_coordinate_descent.py:678: ConvergenceWarning: Objective did not converge. You might want to increase the number of iterations, check the scale of the features or consider increasing regularisation. Duality gap: 2.007e+05, tolerance: 5.427e+04\n",
      "  model = cd_fast.enet_coordinate_descent(\n",
      "C:\\Users\\Jamil88\\.conda\\envs\\nlp\\Lib\\site-packages\\sklearn\\linear_model\\_coordinate_descent.py:678: ConvergenceWarning: Objective did not converge. You might want to increase the number of iterations, check the scale of the features or consider increasing regularisation. Duality gap: 2.099e+05, tolerance: 5.389e+04\n",
      "  model = cd_fast.enet_coordinate_descent(\n",
      "C:\\Users\\Jamil88\\.conda\\envs\\nlp\\Lib\\site-packages\\sklearn\\linear_model\\_coordinate_descent.py:678: ConvergenceWarning: Objective did not converge. You might want to increase the number of iterations, check the scale of the features or consider increasing regularisation. Duality gap: 2.049e+05, tolerance: 5.166e+04\n",
      "  model = cd_fast.enet_coordinate_descent(\n",
      "C:\\Users\\Jamil88\\.conda\\envs\\nlp\\Lib\\site-packages\\sklearn\\linear_model\\_coordinate_descent.py:678: ConvergenceWarning: Objective did not converge. You might want to increase the number of iterations, check the scale of the features or consider increasing regularisation. Duality gap: 2.151e+05, tolerance: 7.726e+04\n",
      "  model = cd_fast.enet_coordinate_descent(\n",
      "C:\\Users\\Jamil88\\.conda\\envs\\nlp\\Lib\\site-packages\\sklearn\\linear_model\\_coordinate_descent.py:678: ConvergenceWarning: Objective did not converge. You might want to increase the number of iterations, check the scale of the features or consider increasing regularisation. Duality gap: 2.086e+05, tolerance: 7.538e+04\n",
      "  model = cd_fast.enet_coordinate_descent(\n",
      "C:\\Users\\Jamil88\\.conda\\envs\\nlp\\Lib\\site-packages\\sklearn\\linear_model\\_coordinate_descent.py:678: ConvergenceWarning: Objective did not converge. You might want to increase the number of iterations, check the scale of the features or consider increasing regularisation. Duality gap: 2.054e+05, tolerance: 7.973e+04\n",
      "  model = cd_fast.enet_coordinate_descent(\n",
      "C:\\Users\\Jamil88\\.conda\\envs\\nlp\\Lib\\site-packages\\sklearn\\linear_model\\_coordinate_descent.py:678: ConvergenceWarning: Objective did not converge. You might want to increase the number of iterations, check the scale of the features or consider increasing regularisation. Duality gap: 2.056e+05, tolerance: 8.018e+04\n",
      "  model = cd_fast.enet_coordinate_descent(\n",
      "C:\\Users\\Jamil88\\.conda\\envs\\nlp\\Lib\\site-packages\\sklearn\\linear_model\\_coordinate_descent.py:678: ConvergenceWarning: Objective did not converge. You might want to increase the number of iterations, check the scale of the features or consider increasing regularisation. Duality gap: 2.032e+05, tolerance: 7.728e+04\n",
      "  model = cd_fast.enet_coordinate_descent(\n",
      "C:\\Users\\Jamil88\\.conda\\envs\\nlp\\Lib\\site-packages\\sklearn\\linear_model\\_coordinate_descent.py:678: ConvergenceWarning: Objective did not converge. You might want to increase the number of iterations, check the scale of the features or consider increasing regularisation. Duality gap: 2.026e+05, tolerance: 7.882e+04\n",
      "  model = cd_fast.enet_coordinate_descent(\n",
      "C:\\Users\\Jamil88\\.conda\\envs\\nlp\\Lib\\site-packages\\sklearn\\linear_model\\_coordinate_descent.py:678: ConvergenceWarning: Objective did not converge. You might want to increase the number of iterations, check the scale of the features or consider increasing regularisation. Duality gap: 1.902e+05, tolerance: 7.858e+04\n",
      "  model = cd_fast.enet_coordinate_descent(\n",
      "C:\\Users\\Jamil88\\.conda\\envs\\nlp\\Lib\\site-packages\\sklearn\\linear_model\\_coordinate_descent.py:678: ConvergenceWarning: Objective did not converge. You might want to increase the number of iterations, check the scale of the features or consider increasing regularisation. Duality gap: 2.088e+05, tolerance: 7.835e+04\n",
      "  model = cd_fast.enet_coordinate_descent(\n",
      "C:\\Users\\Jamil88\\.conda\\envs\\nlp\\Lib\\site-packages\\sklearn\\linear_model\\_coordinate_descent.py:678: ConvergenceWarning: Objective did not converge. You might want to increase the number of iterations, check the scale of the features or consider increasing regularisation. Duality gap: 2.042e+05, tolerance: 7.802e+04\n",
      "  model = cd_fast.enet_coordinate_descent(\n",
      "C:\\Users\\Jamil88\\.conda\\envs\\nlp\\Lib\\site-packages\\sklearn\\linear_model\\_coordinate_descent.py:678: ConvergenceWarning: Objective did not converge. You might want to increase the number of iterations, check the scale of the features or consider increasing regularisation. Duality gap: 2.007e+05, tolerance: 8.141e+04\n",
      "  model = cd_fast.enet_coordinate_descent(\n",
      "C:\\Users\\Jamil88\\.conda\\envs\\nlp\\Lib\\site-packages\\sklearn\\linear_model\\_coordinate_descent.py:678: ConvergenceWarning: Objective did not converge. You might want to increase the number of iterations, check the scale of the features or consider increasing regularisation. Duality gap: 2.099e+05, tolerance: 8.084e+04\n",
      "  model = cd_fast.enet_coordinate_descent(\n",
      "C:\\Users\\Jamil88\\.conda\\envs\\nlp\\Lib\\site-packages\\sklearn\\linear_model\\_coordinate_descent.py:678: ConvergenceWarning: Objective did not converge. You might want to increase the number of iterations, check the scale of the features or consider increasing regularisation. Duality gap: 2.049e+05, tolerance: 7.749e+04\n",
      "  model = cd_fast.enet_coordinate_descent(\n",
      "C:\\Users\\Jamil88\\.conda\\envs\\nlp\\Lib\\site-packages\\sklearn\\linear_model\\_coordinate_descent.py:678: ConvergenceWarning: Objective did not converge. You might want to increase the number of iterations, check the scale of the features or consider increasing regularisation. Duality gap: 2.151e+05, tolerance: 1.288e+05\n",
      "  model = cd_fast.enet_coordinate_descent(\n",
      "C:\\Users\\Jamil88\\.conda\\envs\\nlp\\Lib\\site-packages\\sklearn\\linear_model\\_coordinate_descent.py:678: ConvergenceWarning: Objective did not converge. You might want to increase the number of iterations, check the scale of the features or consider increasing regularisation. Duality gap: 2.086e+05, tolerance: 1.256e+05\n",
      "  model = cd_fast.enet_coordinate_descent(\n",
      "C:\\Users\\Jamil88\\.conda\\envs\\nlp\\Lib\\site-packages\\sklearn\\linear_model\\_coordinate_descent.py:678: ConvergenceWarning: Objective did not converge. You might want to increase the number of iterations, check the scale of the features or consider increasing regularisation. Duality gap: 2.054e+05, tolerance: 1.329e+05\n",
      "  model = cd_fast.enet_coordinate_descent(\n"
     ]
    },
    {
     "name": "stderr",
     "output_type": "stream",
     "text": [
      "C:\\Users\\Jamil88\\.conda\\envs\\nlp\\Lib\\site-packages\\sklearn\\linear_model\\_coordinate_descent.py:678: ConvergenceWarning: Objective did not converge. You might want to increase the number of iterations, check the scale of the features or consider increasing regularisation. Duality gap: 2.056e+05, tolerance: 1.336e+05\n",
      "  model = cd_fast.enet_coordinate_descent(\n",
      "C:\\Users\\Jamil88\\.conda\\envs\\nlp\\Lib\\site-packages\\sklearn\\linear_model\\_coordinate_descent.py:678: ConvergenceWarning: Objective did not converge. You might want to increase the number of iterations, check the scale of the features or consider increasing regularisation. Duality gap: 2.032e+05, tolerance: 1.288e+05\n",
      "  model = cd_fast.enet_coordinate_descent(\n",
      "C:\\Users\\Jamil88\\.conda\\envs\\nlp\\Lib\\site-packages\\sklearn\\linear_model\\_coordinate_descent.py:678: ConvergenceWarning: Objective did not converge. You might want to increase the number of iterations, check the scale of the features or consider increasing regularisation. Duality gap: 2.026e+05, tolerance: 1.314e+05\n",
      "  model = cd_fast.enet_coordinate_descent(\n",
      "C:\\Users\\Jamil88\\.conda\\envs\\nlp\\Lib\\site-packages\\sklearn\\linear_model\\_coordinate_descent.py:678: ConvergenceWarning: Objective did not converge. You might want to increase the number of iterations, check the scale of the features or consider increasing regularisation. Duality gap: 1.902e+05, tolerance: 1.310e+05\n",
      "  model = cd_fast.enet_coordinate_descent(\n",
      "C:\\Users\\Jamil88\\.conda\\envs\\nlp\\Lib\\site-packages\\sklearn\\linear_model\\_coordinate_descent.py:678: ConvergenceWarning: Objective did not converge. You might want to increase the number of iterations, check the scale of the features or consider increasing regularisation. Duality gap: 2.088e+05, tolerance: 1.306e+05\n",
      "  model = cd_fast.enet_coordinate_descent(\n",
      "C:\\Users\\Jamil88\\.conda\\envs\\nlp\\Lib\\site-packages\\sklearn\\linear_model\\_coordinate_descent.py:678: ConvergenceWarning: Objective did not converge. You might want to increase the number of iterations, check the scale of the features or consider increasing regularisation. Duality gap: 2.042e+05, tolerance: 1.300e+05\n",
      "  model = cd_fast.enet_coordinate_descent(\n",
      "C:\\Users\\Jamil88\\.conda\\envs\\nlp\\Lib\\site-packages\\sklearn\\linear_model\\_coordinate_descent.py:678: ConvergenceWarning: Objective did not converge. You might want to increase the number of iterations, check the scale of the features or consider increasing regularisation. Duality gap: 2.007e+05, tolerance: 1.357e+05\n",
      "  model = cd_fast.enet_coordinate_descent(\n",
      "C:\\Users\\Jamil88\\.conda\\envs\\nlp\\Lib\\site-packages\\sklearn\\linear_model\\_coordinate_descent.py:678: ConvergenceWarning: Objective did not converge. You might want to increase the number of iterations, check the scale of the features or consider increasing regularisation. Duality gap: 2.099e+05, tolerance: 1.347e+05\n",
      "  model = cd_fast.enet_coordinate_descent(\n",
      "C:\\Users\\Jamil88\\.conda\\envs\\nlp\\Lib\\site-packages\\sklearn\\linear_model\\_coordinate_descent.py:678: ConvergenceWarning: Objective did not converge. You might want to increase the number of iterations, check the scale of the features or consider increasing regularisation. Duality gap: 2.049e+05, tolerance: 1.292e+05\n",
      "  model = cd_fast.enet_coordinate_descent(\n",
      "C:\\Users\\Jamil88\\.conda\\envs\\nlp\\Lib\\site-packages\\sklearn\\linear_model\\_coordinate_descent.py:678: ConvergenceWarning: Objective did not converge. You might want to increase the number of iterations, check the scale of the features or consider increasing regularisation. Duality gap: 2.151e+05, tolerance: 1.288e+03\n",
      "  model = cd_fast.enet_coordinate_descent(\n",
      "C:\\Users\\Jamil88\\.conda\\envs\\nlp\\Lib\\site-packages\\sklearn\\linear_model\\_coordinate_descent.py:678: ConvergenceWarning: Objective did not converge. You might want to increase the number of iterations, check the scale of the features or consider increasing regularisation. Duality gap: 2.086e+05, tolerance: 1.256e+03\n",
      "  model = cd_fast.enet_coordinate_descent(\n",
      "C:\\Users\\Jamil88\\.conda\\envs\\nlp\\Lib\\site-packages\\sklearn\\linear_model\\_coordinate_descent.py:678: ConvergenceWarning: Objective did not converge. You might want to increase the number of iterations, check the scale of the features or consider increasing regularisation. Duality gap: 2.054e+05, tolerance: 1.329e+03\n",
      "  model = cd_fast.enet_coordinate_descent(\n",
      "C:\\Users\\Jamil88\\.conda\\envs\\nlp\\Lib\\site-packages\\sklearn\\linear_model\\_coordinate_descent.py:678: ConvergenceWarning: Objective did not converge. You might want to increase the number of iterations, check the scale of the features or consider increasing regularisation. Duality gap: 2.056e+05, tolerance: 1.336e+03\n",
      "  model = cd_fast.enet_coordinate_descent(\n",
      "C:\\Users\\Jamil88\\.conda\\envs\\nlp\\Lib\\site-packages\\sklearn\\linear_model\\_coordinate_descent.py:678: ConvergenceWarning: Objective did not converge. You might want to increase the number of iterations, check the scale of the features or consider increasing regularisation. Duality gap: 2.032e+05, tolerance: 1.288e+03\n",
      "  model = cd_fast.enet_coordinate_descent(\n",
      "C:\\Users\\Jamil88\\.conda\\envs\\nlp\\Lib\\site-packages\\sklearn\\linear_model\\_coordinate_descent.py:678: ConvergenceWarning: Objective did not converge. You might want to increase the number of iterations, check the scale of the features or consider increasing regularisation. Duality gap: 2.026e+05, tolerance: 1.314e+03\n",
      "  model = cd_fast.enet_coordinate_descent(\n",
      "C:\\Users\\Jamil88\\.conda\\envs\\nlp\\Lib\\site-packages\\sklearn\\linear_model\\_coordinate_descent.py:678: ConvergenceWarning: Objective did not converge. You might want to increase the number of iterations, check the scale of the features or consider increasing regularisation. Duality gap: 1.902e+05, tolerance: 1.310e+03\n",
      "  model = cd_fast.enet_coordinate_descent(\n",
      "C:\\Users\\Jamil88\\.conda\\envs\\nlp\\Lib\\site-packages\\sklearn\\linear_model\\_coordinate_descent.py:678: ConvergenceWarning: Objective did not converge. You might want to increase the number of iterations, check the scale of the features or consider increasing regularisation. Duality gap: 2.088e+05, tolerance: 1.306e+03\n",
      "  model = cd_fast.enet_coordinate_descent(\n",
      "C:\\Users\\Jamil88\\.conda\\envs\\nlp\\Lib\\site-packages\\sklearn\\linear_model\\_coordinate_descent.py:678: ConvergenceWarning: Objective did not converge. You might want to increase the number of iterations, check the scale of the features or consider increasing regularisation. Duality gap: 2.042e+05, tolerance: 1.300e+03\n",
      "  model = cd_fast.enet_coordinate_descent(\n",
      "C:\\Users\\Jamil88\\.conda\\envs\\nlp\\Lib\\site-packages\\sklearn\\linear_model\\_coordinate_descent.py:678: ConvergenceWarning: Objective did not converge. You might want to increase the number of iterations, check the scale of the features or consider increasing regularisation. Duality gap: 2.007e+05, tolerance: 1.357e+03\n",
      "  model = cd_fast.enet_coordinate_descent(\n",
      "C:\\Users\\Jamil88\\.conda\\envs\\nlp\\Lib\\site-packages\\sklearn\\linear_model\\_coordinate_descent.py:678: ConvergenceWarning: Objective did not converge. You might want to increase the number of iterations, check the scale of the features or consider increasing regularisation. Duality gap: 2.099e+05, tolerance: 1.347e+03\n",
      "  model = cd_fast.enet_coordinate_descent(\n",
      "C:\\Users\\Jamil88\\.conda\\envs\\nlp\\Lib\\site-packages\\sklearn\\linear_model\\_coordinate_descent.py:678: ConvergenceWarning: Objective did not converge. You might want to increase the number of iterations, check the scale of the features or consider increasing regularisation. Duality gap: 2.049e+05, tolerance: 1.292e+03\n",
      "  model = cd_fast.enet_coordinate_descent(\n",
      "C:\\Users\\Jamil88\\.conda\\envs\\nlp\\Lib\\site-packages\\sklearn\\linear_model\\_coordinate_descent.py:678: ConvergenceWarning: Objective did not converge. You might want to increase the number of iterations, check the scale of the features or consider increasing regularisation. Duality gap: 1.898e+05, tolerance: 2.575e+04\n",
      "  model = cd_fast.enet_coordinate_descent(\n",
      "C:\\Users\\Jamil88\\.conda\\envs\\nlp\\Lib\\site-packages\\sklearn\\linear_model\\_coordinate_descent.py:678: ConvergenceWarning: Objective did not converge. You might want to increase the number of iterations, check the scale of the features or consider increasing regularisation. Duality gap: 2.061e+05, tolerance: 2.513e+04\n",
      "  model = cd_fast.enet_coordinate_descent(\n"
     ]
    },
    {
     "name": "stderr",
     "output_type": "stream",
     "text": [
      "C:\\Users\\Jamil88\\.conda\\envs\\nlp\\Lib\\site-packages\\sklearn\\linear_model\\_coordinate_descent.py:678: ConvergenceWarning: Objective did not converge. You might want to increase the number of iterations, check the scale of the features or consider increasing regularisation. Duality gap: 2.053e+05, tolerance: 2.658e+04\n",
      "  model = cd_fast.enet_coordinate_descent(\n",
      "C:\\Users\\Jamil88\\.conda\\envs\\nlp\\Lib\\site-packages\\sklearn\\linear_model\\_coordinate_descent.py:678: ConvergenceWarning: Objective did not converge. You might want to increase the number of iterations, check the scale of the features or consider increasing regularisation. Duality gap: 1.439e+05, tolerance: 2.673e+04\n",
      "  model = cd_fast.enet_coordinate_descent(\n",
      "C:\\Users\\Jamil88\\.conda\\envs\\nlp\\Lib\\site-packages\\sklearn\\linear_model\\_coordinate_descent.py:678: ConvergenceWarning: Objective did not converge. You might want to increase the number of iterations, check the scale of the features or consider increasing regularisation. Duality gap: 1.601e+05, tolerance: 2.576e+04\n",
      "  model = cd_fast.enet_coordinate_descent(\n",
      "C:\\Users\\Jamil88\\.conda\\envs\\nlp\\Lib\\site-packages\\sklearn\\linear_model\\_coordinate_descent.py:678: ConvergenceWarning: Objective did not converge. You might want to increase the number of iterations, check the scale of the features or consider increasing regularisation. Duality gap: 8.846e+04, tolerance: 2.627e+04\n",
      "  model = cd_fast.enet_coordinate_descent(\n",
      "C:\\Users\\Jamil88\\.conda\\envs\\nlp\\Lib\\site-packages\\sklearn\\linear_model\\_coordinate_descent.py:678: ConvergenceWarning: Objective did not converge. You might want to increase the number of iterations, check the scale of the features or consider increasing regularisation. Duality gap: 1.754e+05, tolerance: 2.619e+04\n",
      "  model = cd_fast.enet_coordinate_descent(\n",
      "C:\\Users\\Jamil88\\.conda\\envs\\nlp\\Lib\\site-packages\\sklearn\\linear_model\\_coordinate_descent.py:678: ConvergenceWarning: Objective did not converge. You might want to increase the number of iterations, check the scale of the features or consider increasing regularisation. Duality gap: 2.038e+05, tolerance: 2.612e+04\n",
      "  model = cd_fast.enet_coordinate_descent(\n",
      "C:\\Users\\Jamil88\\.conda\\envs\\nlp\\Lib\\site-packages\\sklearn\\linear_model\\_coordinate_descent.py:678: ConvergenceWarning: Objective did not converge. You might want to increase the number of iterations, check the scale of the features or consider increasing regularisation. Duality gap: 1.922e+05, tolerance: 2.601e+04\n",
      "  model = cd_fast.enet_coordinate_descent(\n",
      "C:\\Users\\Jamil88\\.conda\\envs\\nlp\\Lib\\site-packages\\sklearn\\linear_model\\_coordinate_descent.py:678: ConvergenceWarning: Objective did not converge. You might want to increase the number of iterations, check the scale of the features or consider increasing regularisation. Duality gap: 1.188e+05, tolerance: 2.714e+04\n",
      "  model = cd_fast.enet_coordinate_descent(\n",
      "C:\\Users\\Jamil88\\.conda\\envs\\nlp\\Lib\\site-packages\\sklearn\\linear_model\\_coordinate_descent.py:678: ConvergenceWarning: Objective did not converge. You might want to increase the number of iterations, check the scale of the features or consider increasing regularisation. Duality gap: 1.797e+05, tolerance: 2.695e+04\n",
      "  model = cd_fast.enet_coordinate_descent(\n",
      "C:\\Users\\Jamil88\\.conda\\envs\\nlp\\Lib\\site-packages\\sklearn\\linear_model\\_coordinate_descent.py:678: ConvergenceWarning: Objective did not converge. You might want to increase the number of iterations, check the scale of the features or consider increasing regularisation. Duality gap: 1.909e+05, tolerance: 2.583e+04\n",
      "  model = cd_fast.enet_coordinate_descent(\n",
      "C:\\Users\\Jamil88\\.conda\\envs\\nlp\\Lib\\site-packages\\sklearn\\linear_model\\_coordinate_descent.py:678: ConvergenceWarning: Objective did not converge. You might want to increase the number of iterations, check the scale of the features or consider increasing regularisation. Duality gap: 1.898e+05, tolerance: 5.151e+04\n",
      "  model = cd_fast.enet_coordinate_descent(\n",
      "C:\\Users\\Jamil88\\.conda\\envs\\nlp\\Lib\\site-packages\\sklearn\\linear_model\\_coordinate_descent.py:678: ConvergenceWarning: Objective did not converge. You might want to increase the number of iterations, check the scale of the features or consider increasing regularisation. Duality gap: 2.061e+05, tolerance: 5.025e+04\n",
      "  model = cd_fast.enet_coordinate_descent(\n",
      "C:\\Users\\Jamil88\\.conda\\envs\\nlp\\Lib\\site-packages\\sklearn\\linear_model\\_coordinate_descent.py:678: ConvergenceWarning: Objective did not converge. You might want to increase the number of iterations, check the scale of the features or consider increasing regularisation. Duality gap: 2.053e+05, tolerance: 5.316e+04\n",
      "  model = cd_fast.enet_coordinate_descent(\n",
      "C:\\Users\\Jamil88\\.conda\\envs\\nlp\\Lib\\site-packages\\sklearn\\linear_model\\_coordinate_descent.py:678: ConvergenceWarning: Objective did not converge. You might want to increase the number of iterations, check the scale of the features or consider increasing regularisation. Duality gap: 1.439e+05, tolerance: 5.345e+04\n",
      "  model = cd_fast.enet_coordinate_descent(\n",
      "C:\\Users\\Jamil88\\.conda\\envs\\nlp\\Lib\\site-packages\\sklearn\\linear_model\\_coordinate_descent.py:678: ConvergenceWarning: Objective did not converge. You might want to increase the number of iterations, check the scale of the features or consider increasing regularisation. Duality gap: 1.601e+05, tolerance: 5.152e+04\n",
      "  model = cd_fast.enet_coordinate_descent(\n",
      "C:\\Users\\Jamil88\\.conda\\envs\\nlp\\Lib\\site-packages\\sklearn\\linear_model\\_coordinate_descent.py:678: ConvergenceWarning: Objective did not converge. You might want to increase the number of iterations, check the scale of the features or consider increasing regularisation. Duality gap: 8.846e+04, tolerance: 5.255e+04\n",
      "  model = cd_fast.enet_coordinate_descent(\n",
      "C:\\Users\\Jamil88\\.conda\\envs\\nlp\\Lib\\site-packages\\sklearn\\linear_model\\_coordinate_descent.py:678: ConvergenceWarning: Objective did not converge. You might want to increase the number of iterations, check the scale of the features or consider increasing regularisation. Duality gap: 1.754e+05, tolerance: 5.238e+04\n",
      "  model = cd_fast.enet_coordinate_descent(\n",
      "C:\\Users\\Jamil88\\.conda\\envs\\nlp\\Lib\\site-packages\\sklearn\\linear_model\\_coordinate_descent.py:678: ConvergenceWarning: Objective did not converge. You might want to increase the number of iterations, check the scale of the features or consider increasing regularisation. Duality gap: 2.038e+05, tolerance: 5.223e+04\n",
      "  model = cd_fast.enet_coordinate_descent(\n",
      "C:\\Users\\Jamil88\\.conda\\envs\\nlp\\Lib\\site-packages\\sklearn\\linear_model\\_coordinate_descent.py:678: ConvergenceWarning: Objective did not converge. You might want to increase the number of iterations, check the scale of the features or consider increasing regularisation. Duality gap: 1.922e+05, tolerance: 5.201e+04\n",
      "  model = cd_fast.enet_coordinate_descent(\n",
      "C:\\Users\\Jamil88\\.conda\\envs\\nlp\\Lib\\site-packages\\sklearn\\linear_model\\_coordinate_descent.py:678: ConvergenceWarning: Objective did not converge. You might want to increase the number of iterations, check the scale of the features or consider increasing regularisation. Duality gap: 1.188e+05, tolerance: 5.427e+04\n",
      "  model = cd_fast.enet_coordinate_descent(\n",
      "C:\\Users\\Jamil88\\.conda\\envs\\nlp\\Lib\\site-packages\\sklearn\\linear_model\\_coordinate_descent.py:678: ConvergenceWarning: Objective did not converge. You might want to increase the number of iterations, check the scale of the features or consider increasing regularisation. Duality gap: 1.797e+05, tolerance: 5.389e+04\n",
      "  model = cd_fast.enet_coordinate_descent(\n",
      "C:\\Users\\Jamil88\\.conda\\envs\\nlp\\Lib\\site-packages\\sklearn\\linear_model\\_coordinate_descent.py:678: ConvergenceWarning: Objective did not converge. You might want to increase the number of iterations, check the scale of the features or consider increasing regularisation. Duality gap: 1.909e+05, tolerance: 5.166e+04\n",
      "  model = cd_fast.enet_coordinate_descent(\n",
      "C:\\Users\\Jamil88\\.conda\\envs\\nlp\\Lib\\site-packages\\sklearn\\linear_model\\_coordinate_descent.py:678: ConvergenceWarning: Objective did not converge. You might want to increase the number of iterations, check the scale of the features or consider increasing regularisation. Duality gap: 1.898e+05, tolerance: 7.726e+04\n",
      "  model = cd_fast.enet_coordinate_descent(\n",
      "C:\\Users\\Jamil88\\.conda\\envs\\nlp\\Lib\\site-packages\\sklearn\\linear_model\\_coordinate_descent.py:678: ConvergenceWarning: Objective did not converge. You might want to increase the number of iterations, check the scale of the features or consider increasing regularisation. Duality gap: 2.061e+05, tolerance: 7.538e+04\n",
      "  model = cd_fast.enet_coordinate_descent(\n"
     ]
    },
    {
     "name": "stderr",
     "output_type": "stream",
     "text": [
      "C:\\Users\\Jamil88\\.conda\\envs\\nlp\\Lib\\site-packages\\sklearn\\linear_model\\_coordinate_descent.py:678: ConvergenceWarning: Objective did not converge. You might want to increase the number of iterations, check the scale of the features or consider increasing regularisation. Duality gap: 2.053e+05, tolerance: 7.973e+04\n",
      "  model = cd_fast.enet_coordinate_descent(\n",
      "C:\\Users\\Jamil88\\.conda\\envs\\nlp\\Lib\\site-packages\\sklearn\\linear_model\\_coordinate_descent.py:678: ConvergenceWarning: Objective did not converge. You might want to increase the number of iterations, check the scale of the features or consider increasing regularisation. Duality gap: 1.439e+05, tolerance: 8.018e+04\n",
      "  model = cd_fast.enet_coordinate_descent(\n",
      "C:\\Users\\Jamil88\\.conda\\envs\\nlp\\Lib\\site-packages\\sklearn\\linear_model\\_coordinate_descent.py:678: ConvergenceWarning: Objective did not converge. You might want to increase the number of iterations, check the scale of the features or consider increasing regularisation. Duality gap: 1.601e+05, tolerance: 7.728e+04\n",
      "  model = cd_fast.enet_coordinate_descent(\n",
      "C:\\Users\\Jamil88\\.conda\\envs\\nlp\\Lib\\site-packages\\sklearn\\linear_model\\_coordinate_descent.py:678: ConvergenceWarning: Objective did not converge. You might want to increase the number of iterations, check the scale of the features or consider increasing regularisation. Duality gap: 8.846e+04, tolerance: 7.882e+04\n",
      "  model = cd_fast.enet_coordinate_descent(\n",
      "C:\\Users\\Jamil88\\.conda\\envs\\nlp\\Lib\\site-packages\\sklearn\\linear_model\\_coordinate_descent.py:678: ConvergenceWarning: Objective did not converge. You might want to increase the number of iterations, check the scale of the features or consider increasing regularisation. Duality gap: 1.754e+05, tolerance: 7.858e+04\n",
      "  model = cd_fast.enet_coordinate_descent(\n",
      "C:\\Users\\Jamil88\\.conda\\envs\\nlp\\Lib\\site-packages\\sklearn\\linear_model\\_coordinate_descent.py:678: ConvergenceWarning: Objective did not converge. You might want to increase the number of iterations, check the scale of the features or consider increasing regularisation. Duality gap: 2.038e+05, tolerance: 7.835e+04\n",
      "  model = cd_fast.enet_coordinate_descent(\n",
      "C:\\Users\\Jamil88\\.conda\\envs\\nlp\\Lib\\site-packages\\sklearn\\linear_model\\_coordinate_descent.py:678: ConvergenceWarning: Objective did not converge. You might want to increase the number of iterations, check the scale of the features or consider increasing regularisation. Duality gap: 1.922e+05, tolerance: 7.802e+04\n",
      "  model = cd_fast.enet_coordinate_descent(\n",
      "C:\\Users\\Jamil88\\.conda\\envs\\nlp\\Lib\\site-packages\\sklearn\\linear_model\\_coordinate_descent.py:678: ConvergenceWarning: Objective did not converge. You might want to increase the number of iterations, check the scale of the features or consider increasing regularisation. Duality gap: 1.188e+05, tolerance: 8.141e+04\n",
      "  model = cd_fast.enet_coordinate_descent(\n",
      "C:\\Users\\Jamil88\\.conda\\envs\\nlp\\Lib\\site-packages\\sklearn\\linear_model\\_coordinate_descent.py:678: ConvergenceWarning: Objective did not converge. You might want to increase the number of iterations, check the scale of the features or consider increasing regularisation. Duality gap: 1.797e+05, tolerance: 8.084e+04\n",
      "  model = cd_fast.enet_coordinate_descent(\n",
      "C:\\Users\\Jamil88\\.conda\\envs\\nlp\\Lib\\site-packages\\sklearn\\linear_model\\_coordinate_descent.py:678: ConvergenceWarning: Objective did not converge. You might want to increase the number of iterations, check the scale of the features or consider increasing regularisation. Duality gap: 1.909e+05, tolerance: 7.749e+04\n",
      "  model = cd_fast.enet_coordinate_descent(\n",
      "C:\\Users\\Jamil88\\.conda\\envs\\nlp\\Lib\\site-packages\\sklearn\\linear_model\\_coordinate_descent.py:678: ConvergenceWarning: Objective did not converge. You might want to increase the number of iterations, check the scale of the features or consider increasing regularisation. Duality gap: 1.898e+05, tolerance: 1.288e+05\n",
      "  model = cd_fast.enet_coordinate_descent(\n",
      "C:\\Users\\Jamil88\\.conda\\envs\\nlp\\Lib\\site-packages\\sklearn\\linear_model\\_coordinate_descent.py:678: ConvergenceWarning: Objective did not converge. You might want to increase the number of iterations, check the scale of the features or consider increasing regularisation. Duality gap: 2.061e+05, tolerance: 1.256e+05\n",
      "  model = cd_fast.enet_coordinate_descent(\n",
      "C:\\Users\\Jamil88\\.conda\\envs\\nlp\\Lib\\site-packages\\sklearn\\linear_model\\_coordinate_descent.py:678: ConvergenceWarning: Objective did not converge. You might want to increase the number of iterations, check the scale of the features or consider increasing regularisation. Duality gap: 2.053e+05, tolerance: 1.329e+05\n",
      "  model = cd_fast.enet_coordinate_descent(\n",
      "C:\\Users\\Jamil88\\.conda\\envs\\nlp\\Lib\\site-packages\\sklearn\\linear_model\\_coordinate_descent.py:678: ConvergenceWarning: Objective did not converge. You might want to increase the number of iterations, check the scale of the features or consider increasing regularisation. Duality gap: 1.439e+05, tolerance: 1.336e+05\n",
      "  model = cd_fast.enet_coordinate_descent(\n",
      "C:\\Users\\Jamil88\\.conda\\envs\\nlp\\Lib\\site-packages\\sklearn\\linear_model\\_coordinate_descent.py:678: ConvergenceWarning: Objective did not converge. You might want to increase the number of iterations, check the scale of the features or consider increasing regularisation. Duality gap: 1.601e+05, tolerance: 1.288e+05\n",
      "  model = cd_fast.enet_coordinate_descent(\n",
      "C:\\Users\\Jamil88\\.conda\\envs\\nlp\\Lib\\site-packages\\sklearn\\linear_model\\_coordinate_descent.py:678: ConvergenceWarning: Objective did not converge. You might want to increase the number of iterations, check the scale of the features or consider increasing regularisation. Duality gap: 1.754e+05, tolerance: 1.310e+05\n",
      "  model = cd_fast.enet_coordinate_descent(\n",
      "C:\\Users\\Jamil88\\.conda\\envs\\nlp\\Lib\\site-packages\\sklearn\\linear_model\\_coordinate_descent.py:678: ConvergenceWarning: Objective did not converge. You might want to increase the number of iterations, check the scale of the features or consider increasing regularisation. Duality gap: 2.038e+05, tolerance: 1.306e+05\n",
      "  model = cd_fast.enet_coordinate_descent(\n",
      "C:\\Users\\Jamil88\\.conda\\envs\\nlp\\Lib\\site-packages\\sklearn\\linear_model\\_coordinate_descent.py:678: ConvergenceWarning: Objective did not converge. You might want to increase the number of iterations, check the scale of the features or consider increasing regularisation. Duality gap: 1.922e+05, tolerance: 1.300e+05\n",
      "  model = cd_fast.enet_coordinate_descent(\n",
      "C:\\Users\\Jamil88\\.conda\\envs\\nlp\\Lib\\site-packages\\sklearn\\linear_model\\_coordinate_descent.py:678: ConvergenceWarning: Objective did not converge. You might want to increase the number of iterations, check the scale of the features or consider increasing regularisation. Duality gap: 1.797e+05, tolerance: 1.347e+05\n",
      "  model = cd_fast.enet_coordinate_descent(\n",
      "C:\\Users\\Jamil88\\.conda\\envs\\nlp\\Lib\\site-packages\\sklearn\\linear_model\\_coordinate_descent.py:678: ConvergenceWarning: Objective did not converge. You might want to increase the number of iterations, check the scale of the features or consider increasing regularisation. Duality gap: 1.909e+05, tolerance: 1.292e+05\n",
      "  model = cd_fast.enet_coordinate_descent(\n",
      "C:\\Users\\Jamil88\\.conda\\envs\\nlp\\Lib\\site-packages\\sklearn\\linear_model\\_coordinate_descent.py:678: ConvergenceWarning: Objective did not converge. You might want to increase the number of iterations, check the scale of the features or consider increasing regularisation. Duality gap: 1.898e+05, tolerance: 1.288e+03\n",
      "  model = cd_fast.enet_coordinate_descent(\n",
      "C:\\Users\\Jamil88\\.conda\\envs\\nlp\\Lib\\site-packages\\sklearn\\linear_model\\_coordinate_descent.py:678: ConvergenceWarning: Objective did not converge. You might want to increase the number of iterations, check the scale of the features or consider increasing regularisation. Duality gap: 2.061e+05, tolerance: 1.256e+03\n",
      "  model = cd_fast.enet_coordinate_descent(\n",
      "C:\\Users\\Jamil88\\.conda\\envs\\nlp\\Lib\\site-packages\\sklearn\\linear_model\\_coordinate_descent.py:678: ConvergenceWarning: Objective did not converge. You might want to increase the number of iterations, check the scale of the features or consider increasing regularisation. Duality gap: 2.053e+05, tolerance: 1.329e+03\n",
      "  model = cd_fast.enet_coordinate_descent(\n",
      "C:\\Users\\Jamil88\\.conda\\envs\\nlp\\Lib\\site-packages\\sklearn\\linear_model\\_coordinate_descent.py:678: ConvergenceWarning: Objective did not converge. You might want to increase the number of iterations, check the scale of the features or consider increasing regularisation. Duality gap: 1.439e+05, tolerance: 1.336e+03\n",
      "  model = cd_fast.enet_coordinate_descent(\n"
     ]
    },
    {
     "name": "stderr",
     "output_type": "stream",
     "text": [
      "C:\\Users\\Jamil88\\.conda\\envs\\nlp\\Lib\\site-packages\\sklearn\\linear_model\\_coordinate_descent.py:678: ConvergenceWarning: Objective did not converge. You might want to increase the number of iterations, check the scale of the features or consider increasing regularisation. Duality gap: 1.601e+05, tolerance: 1.288e+03\n",
      "  model = cd_fast.enet_coordinate_descent(\n",
      "C:\\Users\\Jamil88\\.conda\\envs\\nlp\\Lib\\site-packages\\sklearn\\linear_model\\_coordinate_descent.py:678: ConvergenceWarning: Objective did not converge. You might want to increase the number of iterations, check the scale of the features or consider increasing regularisation. Duality gap: 8.846e+04, tolerance: 1.314e+03\n",
      "  model = cd_fast.enet_coordinate_descent(\n",
      "C:\\Users\\Jamil88\\.conda\\envs\\nlp\\Lib\\site-packages\\sklearn\\linear_model\\_coordinate_descent.py:678: ConvergenceWarning: Objective did not converge. You might want to increase the number of iterations, check the scale of the features or consider increasing regularisation. Duality gap: 1.754e+05, tolerance: 1.310e+03\n",
      "  model = cd_fast.enet_coordinate_descent(\n",
      "C:\\Users\\Jamil88\\.conda\\envs\\nlp\\Lib\\site-packages\\sklearn\\linear_model\\_coordinate_descent.py:678: ConvergenceWarning: Objective did not converge. You might want to increase the number of iterations, check the scale of the features or consider increasing regularisation. Duality gap: 2.038e+05, tolerance: 1.306e+03\n",
      "  model = cd_fast.enet_coordinate_descent(\n",
      "C:\\Users\\Jamil88\\.conda\\envs\\nlp\\Lib\\site-packages\\sklearn\\linear_model\\_coordinate_descent.py:678: ConvergenceWarning: Objective did not converge. You might want to increase the number of iterations, check the scale of the features or consider increasing regularisation. Duality gap: 1.922e+05, tolerance: 1.300e+03\n",
      "  model = cd_fast.enet_coordinate_descent(\n",
      "C:\\Users\\Jamil88\\.conda\\envs\\nlp\\Lib\\site-packages\\sklearn\\linear_model\\_coordinate_descent.py:678: ConvergenceWarning: Objective did not converge. You might want to increase the number of iterations, check the scale of the features or consider increasing regularisation. Duality gap: 1.188e+05, tolerance: 1.357e+03\n",
      "  model = cd_fast.enet_coordinate_descent(\n",
      "C:\\Users\\Jamil88\\.conda\\envs\\nlp\\Lib\\site-packages\\sklearn\\linear_model\\_coordinate_descent.py:678: ConvergenceWarning: Objective did not converge. You might want to increase the number of iterations, check the scale of the features or consider increasing regularisation. Duality gap: 1.797e+05, tolerance: 1.347e+03\n",
      "  model = cd_fast.enet_coordinate_descent(\n",
      "C:\\Users\\Jamil88\\.conda\\envs\\nlp\\Lib\\site-packages\\sklearn\\linear_model\\_coordinate_descent.py:678: ConvergenceWarning: Objective did not converge. You might want to increase the number of iterations, check the scale of the features or consider increasing regularisation. Duality gap: 1.909e+05, tolerance: 1.292e+03\n",
      "  model = cd_fast.enet_coordinate_descent(\n",
      "C:\\Users\\Jamil88\\.conda\\envs\\nlp\\Lib\\site-packages\\sklearn\\linear_model\\_coordinate_descent.py:678: ConvergenceWarning: Objective did not converge. You might want to increase the number of iterations, check the scale of the features or consider increasing regularisation. Duality gap: 2.141e+05, tolerance: 2.575e+04\n",
      "  model = cd_fast.enet_coordinate_descent(\n",
      "C:\\Users\\Jamil88\\.conda\\envs\\nlp\\Lib\\site-packages\\sklearn\\linear_model\\_coordinate_descent.py:678: ConvergenceWarning: Objective did not converge. You might want to increase the number of iterations, check the scale of the features or consider increasing regularisation. Duality gap: 2.080e+05, tolerance: 2.513e+04\n",
      "  model = cd_fast.enet_coordinate_descent(\n",
      "C:\\Users\\Jamil88\\.conda\\envs\\nlp\\Lib\\site-packages\\sklearn\\linear_model\\_coordinate_descent.py:678: ConvergenceWarning: Objective did not converge. You might want to increase the number of iterations, check the scale of the features or consider increasing regularisation. Duality gap: 2.049e+05, tolerance: 2.658e+04\n",
      "  model = cd_fast.enet_coordinate_descent(\n",
      "C:\\Users\\Jamil88\\.conda\\envs\\nlp\\Lib\\site-packages\\sklearn\\linear_model\\_coordinate_descent.py:678: ConvergenceWarning: Objective did not converge. You might want to increase the number of iterations, check the scale of the features or consider increasing regularisation. Duality gap: 2.046e+05, tolerance: 2.673e+04\n",
      "  model = cd_fast.enet_coordinate_descent(\n",
      "C:\\Users\\Jamil88\\.conda\\envs\\nlp\\Lib\\site-packages\\sklearn\\linear_model\\_coordinate_descent.py:678: ConvergenceWarning: Objective did not converge. You might want to increase the number of iterations, check the scale of the features or consider increasing regularisation. Duality gap: 2.025e+05, tolerance: 2.576e+04\n",
      "  model = cd_fast.enet_coordinate_descent(\n",
      "C:\\Users\\Jamil88\\.conda\\envs\\nlp\\Lib\\site-packages\\sklearn\\linear_model\\_coordinate_descent.py:678: ConvergenceWarning: Objective did not converge. You might want to increase the number of iterations, check the scale of the features or consider increasing regularisation. Duality gap: 2.011e+05, tolerance: 2.627e+04\n",
      "  model = cd_fast.enet_coordinate_descent(\n",
      "C:\\Users\\Jamil88\\.conda\\envs\\nlp\\Lib\\site-packages\\sklearn\\linear_model\\_coordinate_descent.py:678: ConvergenceWarning: Objective did not converge. You might want to increase the number of iterations, check the scale of the features or consider increasing regularisation. Duality gap: 1.898e+05, tolerance: 2.619e+04\n",
      "  model = cd_fast.enet_coordinate_descent(\n",
      "C:\\Users\\Jamil88\\.conda\\envs\\nlp\\Lib\\site-packages\\sklearn\\linear_model\\_coordinate_descent.py:678: ConvergenceWarning: Objective did not converge. You might want to increase the number of iterations, check the scale of the features or consider increasing regularisation. Duality gap: 2.080e+05, tolerance: 2.612e+04\n",
      "  model = cd_fast.enet_coordinate_descent(\n",
      "C:\\Users\\Jamil88\\.conda\\envs\\nlp\\Lib\\site-packages\\sklearn\\linear_model\\_coordinate_descent.py:678: ConvergenceWarning: Objective did not converge. You might want to increase the number of iterations, check the scale of the features or consider increasing regularisation. Duality gap: 2.037e+05, tolerance: 2.601e+04\n",
      "  model = cd_fast.enet_coordinate_descent(\n",
      "C:\\Users\\Jamil88\\.conda\\envs\\nlp\\Lib\\site-packages\\sklearn\\linear_model\\_coordinate_descent.py:678: ConvergenceWarning: Objective did not converge. You might want to increase the number of iterations, check the scale of the features or consider increasing regularisation. Duality gap: 1.964e+05, tolerance: 2.714e+04\n",
      "  model = cd_fast.enet_coordinate_descent(\n",
      "C:\\Users\\Jamil88\\.conda\\envs\\nlp\\Lib\\site-packages\\sklearn\\linear_model\\_coordinate_descent.py:678: ConvergenceWarning: Objective did not converge. You might want to increase the number of iterations, check the scale of the features or consider increasing regularisation. Duality gap: 2.087e+05, tolerance: 2.695e+04\n",
      "  model = cd_fast.enet_coordinate_descent(\n",
      "C:\\Users\\Jamil88\\.conda\\envs\\nlp\\Lib\\site-packages\\sklearn\\linear_model\\_coordinate_descent.py:678: ConvergenceWarning: Objective did not converge. You might want to increase the number of iterations, check the scale of the features or consider increasing regularisation. Duality gap: 2.036e+05, tolerance: 2.583e+04\n",
      "  model = cd_fast.enet_coordinate_descent(\n",
      "C:\\Users\\Jamil88\\.conda\\envs\\nlp\\Lib\\site-packages\\sklearn\\linear_model\\_coordinate_descent.py:678: ConvergenceWarning: Objective did not converge. You might want to increase the number of iterations, check the scale of the features or consider increasing regularisation. Duality gap: 2.141e+05, tolerance: 5.151e+04\n",
      "  model = cd_fast.enet_coordinate_descent(\n",
      "C:\\Users\\Jamil88\\.conda\\envs\\nlp\\Lib\\site-packages\\sklearn\\linear_model\\_coordinate_descent.py:678: ConvergenceWarning: Objective did not converge. You might want to increase the number of iterations, check the scale of the features or consider increasing regularisation. Duality gap: 2.080e+05, tolerance: 5.025e+04\n",
      "  model = cd_fast.enet_coordinate_descent(\n",
      "C:\\Users\\Jamil88\\.conda\\envs\\nlp\\Lib\\site-packages\\sklearn\\linear_model\\_coordinate_descent.py:678: ConvergenceWarning: Objective did not converge. You might want to increase the number of iterations, check the scale of the features or consider increasing regularisation. Duality gap: 2.049e+05, tolerance: 5.316e+04\n",
      "  model = cd_fast.enet_coordinate_descent(\n",
      "C:\\Users\\Jamil88\\.conda\\envs\\nlp\\Lib\\site-packages\\sklearn\\linear_model\\_coordinate_descent.py:678: ConvergenceWarning: Objective did not converge. You might want to increase the number of iterations, check the scale of the features or consider increasing regularisation. Duality gap: 2.046e+05, tolerance: 5.345e+04\n",
      "  model = cd_fast.enet_coordinate_descent(\n",
      "C:\\Users\\Jamil88\\.conda\\envs\\nlp\\Lib\\site-packages\\sklearn\\linear_model\\_coordinate_descent.py:678: ConvergenceWarning: Objective did not converge. You might want to increase the number of iterations, check the scale of the features or consider increasing regularisation. Duality gap: 2.025e+05, tolerance: 5.152e+04\n",
      "  model = cd_fast.enet_coordinate_descent(\n",
      "C:\\Users\\Jamil88\\.conda\\envs\\nlp\\Lib\\site-packages\\sklearn\\linear_model\\_coordinate_descent.py:678: ConvergenceWarning: Objective did not converge. You might want to increase the number of iterations, check the scale of the features or consider increasing regularisation. Duality gap: 2.011e+05, tolerance: 5.255e+04\n",
      "  model = cd_fast.enet_coordinate_descent(\n",
      "C:\\Users\\Jamil88\\.conda\\envs\\nlp\\Lib\\site-packages\\sklearn\\linear_model\\_coordinate_descent.py:678: ConvergenceWarning: Objective did not converge. You might want to increase the number of iterations, check the scale of the features or consider increasing regularisation. Duality gap: 1.898e+05, tolerance: 5.238e+04\n",
      "  model = cd_fast.enet_coordinate_descent(\n"
     ]
    },
    {
     "name": "stderr",
     "output_type": "stream",
     "text": [
      "C:\\Users\\Jamil88\\.conda\\envs\\nlp\\Lib\\site-packages\\sklearn\\linear_model\\_coordinate_descent.py:678: ConvergenceWarning: Objective did not converge. You might want to increase the number of iterations, check the scale of the features or consider increasing regularisation. Duality gap: 2.080e+05, tolerance: 5.223e+04\n",
      "  model = cd_fast.enet_coordinate_descent(\n",
      "C:\\Users\\Jamil88\\.conda\\envs\\nlp\\Lib\\site-packages\\sklearn\\linear_model\\_coordinate_descent.py:678: ConvergenceWarning: Objective did not converge. You might want to increase the number of iterations, check the scale of the features or consider increasing regularisation. Duality gap: 2.037e+05, tolerance: 5.201e+04\n",
      "  model = cd_fast.enet_coordinate_descent(\n",
      "C:\\Users\\Jamil88\\.conda\\envs\\nlp\\Lib\\site-packages\\sklearn\\linear_model\\_coordinate_descent.py:678: ConvergenceWarning: Objective did not converge. You might want to increase the number of iterations, check the scale of the features or consider increasing regularisation. Duality gap: 1.964e+05, tolerance: 5.427e+04\n",
      "  model = cd_fast.enet_coordinate_descent(\n",
      "C:\\Users\\Jamil88\\.conda\\envs\\nlp\\Lib\\site-packages\\sklearn\\linear_model\\_coordinate_descent.py:678: ConvergenceWarning: Objective did not converge. You might want to increase the number of iterations, check the scale of the features or consider increasing regularisation. Duality gap: 2.087e+05, tolerance: 5.389e+04\n",
      "  model = cd_fast.enet_coordinate_descent(\n",
      "C:\\Users\\Jamil88\\.conda\\envs\\nlp\\Lib\\site-packages\\sklearn\\linear_model\\_coordinate_descent.py:678: ConvergenceWarning: Objective did not converge. You might want to increase the number of iterations, check the scale of the features or consider increasing regularisation. Duality gap: 2.036e+05, tolerance: 5.166e+04\n",
      "  model = cd_fast.enet_coordinate_descent(\n",
      "C:\\Users\\Jamil88\\.conda\\envs\\nlp\\Lib\\site-packages\\sklearn\\linear_model\\_coordinate_descent.py:678: ConvergenceWarning: Objective did not converge. You might want to increase the number of iterations, check the scale of the features or consider increasing regularisation. Duality gap: 2.141e+05, tolerance: 7.726e+04\n",
      "  model = cd_fast.enet_coordinate_descent(\n",
      "C:\\Users\\Jamil88\\.conda\\envs\\nlp\\Lib\\site-packages\\sklearn\\linear_model\\_coordinate_descent.py:678: ConvergenceWarning: Objective did not converge. You might want to increase the number of iterations, check the scale of the features or consider increasing regularisation. Duality gap: 2.080e+05, tolerance: 7.538e+04\n",
      "  model = cd_fast.enet_coordinate_descent(\n",
      "C:\\Users\\Jamil88\\.conda\\envs\\nlp\\Lib\\site-packages\\sklearn\\linear_model\\_coordinate_descent.py:678: ConvergenceWarning: Objective did not converge. You might want to increase the number of iterations, check the scale of the features or consider increasing regularisation. Duality gap: 2.049e+05, tolerance: 7.973e+04\n",
      "  model = cd_fast.enet_coordinate_descent(\n",
      "C:\\Users\\Jamil88\\.conda\\envs\\nlp\\Lib\\site-packages\\sklearn\\linear_model\\_coordinate_descent.py:678: ConvergenceWarning: Objective did not converge. You might want to increase the number of iterations, check the scale of the features or consider increasing regularisation. Duality gap: 2.046e+05, tolerance: 8.018e+04\n",
      "  model = cd_fast.enet_coordinate_descent(\n",
      "C:\\Users\\Jamil88\\.conda\\envs\\nlp\\Lib\\site-packages\\sklearn\\linear_model\\_coordinate_descent.py:678: ConvergenceWarning: Objective did not converge. You might want to increase the number of iterations, check the scale of the features or consider increasing regularisation. Duality gap: 2.025e+05, tolerance: 7.728e+04\n",
      "  model = cd_fast.enet_coordinate_descent(\n",
      "C:\\Users\\Jamil88\\.conda\\envs\\nlp\\Lib\\site-packages\\sklearn\\linear_model\\_coordinate_descent.py:678: ConvergenceWarning: Objective did not converge. You might want to increase the number of iterations, check the scale of the features or consider increasing regularisation. Duality gap: 2.011e+05, tolerance: 7.882e+04\n",
      "  model = cd_fast.enet_coordinate_descent(\n",
      "C:\\Users\\Jamil88\\.conda\\envs\\nlp\\Lib\\site-packages\\sklearn\\linear_model\\_coordinate_descent.py:678: ConvergenceWarning: Objective did not converge. You might want to increase the number of iterations, check the scale of the features or consider increasing regularisation. Duality gap: 1.898e+05, tolerance: 7.858e+04\n",
      "  model = cd_fast.enet_coordinate_descent(\n",
      "C:\\Users\\Jamil88\\.conda\\envs\\nlp\\Lib\\site-packages\\sklearn\\linear_model\\_coordinate_descent.py:678: ConvergenceWarning: Objective did not converge. You might want to increase the number of iterations, check the scale of the features or consider increasing regularisation. Duality gap: 2.080e+05, tolerance: 7.835e+04\n",
      "  model = cd_fast.enet_coordinate_descent(\n",
      "C:\\Users\\Jamil88\\.conda\\envs\\nlp\\Lib\\site-packages\\sklearn\\linear_model\\_coordinate_descent.py:678: ConvergenceWarning: Objective did not converge. You might want to increase the number of iterations, check the scale of the features or consider increasing regularisation. Duality gap: 2.037e+05, tolerance: 7.802e+04\n",
      "  model = cd_fast.enet_coordinate_descent(\n",
      "C:\\Users\\Jamil88\\.conda\\envs\\nlp\\Lib\\site-packages\\sklearn\\linear_model\\_coordinate_descent.py:678: ConvergenceWarning: Objective did not converge. You might want to increase the number of iterations, check the scale of the features or consider increasing regularisation. Duality gap: 1.964e+05, tolerance: 8.141e+04\n",
      "  model = cd_fast.enet_coordinate_descent(\n",
      "C:\\Users\\Jamil88\\.conda\\envs\\nlp\\Lib\\site-packages\\sklearn\\linear_model\\_coordinate_descent.py:678: ConvergenceWarning: Objective did not converge. You might want to increase the number of iterations, check the scale of the features or consider increasing regularisation. Duality gap: 2.087e+05, tolerance: 8.084e+04\n",
      "  model = cd_fast.enet_coordinate_descent(\n",
      "C:\\Users\\Jamil88\\.conda\\envs\\nlp\\Lib\\site-packages\\sklearn\\linear_model\\_coordinate_descent.py:678: ConvergenceWarning: Objective did not converge. You might want to increase the number of iterations, check the scale of the features or consider increasing regularisation. Duality gap: 2.036e+05, tolerance: 7.749e+04\n",
      "  model = cd_fast.enet_coordinate_descent(\n",
      "C:\\Users\\Jamil88\\.conda\\envs\\nlp\\Lib\\site-packages\\sklearn\\linear_model\\_coordinate_descent.py:678: ConvergenceWarning: Objective did not converge. You might want to increase the number of iterations, check the scale of the features or consider increasing regularisation. Duality gap: 2.141e+05, tolerance: 1.288e+05\n",
      "  model = cd_fast.enet_coordinate_descent(\n",
      "C:\\Users\\Jamil88\\.conda\\envs\\nlp\\Lib\\site-packages\\sklearn\\linear_model\\_coordinate_descent.py:678: ConvergenceWarning: Objective did not converge. You might want to increase the number of iterations, check the scale of the features or consider increasing regularisation. Duality gap: 2.080e+05, tolerance: 1.256e+05\n",
      "  model = cd_fast.enet_coordinate_descent(\n",
      "C:\\Users\\Jamil88\\.conda\\envs\\nlp\\Lib\\site-packages\\sklearn\\linear_model\\_coordinate_descent.py:678: ConvergenceWarning: Objective did not converge. You might want to increase the number of iterations, check the scale of the features or consider increasing regularisation. Duality gap: 2.049e+05, tolerance: 1.329e+05\n",
      "  model = cd_fast.enet_coordinate_descent(\n",
      "C:\\Users\\Jamil88\\.conda\\envs\\nlp\\Lib\\site-packages\\sklearn\\linear_model\\_coordinate_descent.py:678: ConvergenceWarning: Objective did not converge. You might want to increase the number of iterations, check the scale of the features or consider increasing regularisation. Duality gap: 2.046e+05, tolerance: 1.336e+05\n",
      "  model = cd_fast.enet_coordinate_descent(\n",
      "C:\\Users\\Jamil88\\.conda\\envs\\nlp\\Lib\\site-packages\\sklearn\\linear_model\\_coordinate_descent.py:678: ConvergenceWarning: Objective did not converge. You might want to increase the number of iterations, check the scale of the features or consider increasing regularisation. Duality gap: 2.025e+05, tolerance: 1.288e+05\n",
      "  model = cd_fast.enet_coordinate_descent(\n",
      "C:\\Users\\Jamil88\\.conda\\envs\\nlp\\Lib\\site-packages\\sklearn\\linear_model\\_coordinate_descent.py:678: ConvergenceWarning: Objective did not converge. You might want to increase the number of iterations, check the scale of the features or consider increasing regularisation. Duality gap: 2.011e+05, tolerance: 1.314e+05\n",
      "  model = cd_fast.enet_coordinate_descent(\n",
      "C:\\Users\\Jamil88\\.conda\\envs\\nlp\\Lib\\site-packages\\sklearn\\linear_model\\_coordinate_descent.py:678: ConvergenceWarning: Objective did not converge. You might want to increase the number of iterations, check the scale of the features or consider increasing regularisation. Duality gap: 1.898e+05, tolerance: 1.310e+05\n",
      "  model = cd_fast.enet_coordinate_descent(\n",
      "C:\\Users\\Jamil88\\.conda\\envs\\nlp\\Lib\\site-packages\\sklearn\\linear_model\\_coordinate_descent.py:678: ConvergenceWarning: Objective did not converge. You might want to increase the number of iterations, check the scale of the features or consider increasing regularisation. Duality gap: 2.080e+05, tolerance: 1.306e+05\n",
      "  model = cd_fast.enet_coordinate_descent(\n"
     ]
    },
    {
     "name": "stderr",
     "output_type": "stream",
     "text": [
      "C:\\Users\\Jamil88\\.conda\\envs\\nlp\\Lib\\site-packages\\sklearn\\linear_model\\_coordinate_descent.py:678: ConvergenceWarning: Objective did not converge. You might want to increase the number of iterations, check the scale of the features or consider increasing regularisation. Duality gap: 2.037e+05, tolerance: 1.300e+05\n",
      "  model = cd_fast.enet_coordinate_descent(\n",
      "C:\\Users\\Jamil88\\.conda\\envs\\nlp\\Lib\\site-packages\\sklearn\\linear_model\\_coordinate_descent.py:678: ConvergenceWarning: Objective did not converge. You might want to increase the number of iterations, check the scale of the features or consider increasing regularisation. Duality gap: 1.964e+05, tolerance: 1.357e+05\n",
      "  model = cd_fast.enet_coordinate_descent(\n",
      "C:\\Users\\Jamil88\\.conda\\envs\\nlp\\Lib\\site-packages\\sklearn\\linear_model\\_coordinate_descent.py:678: ConvergenceWarning: Objective did not converge. You might want to increase the number of iterations, check the scale of the features or consider increasing regularisation. Duality gap: 2.087e+05, tolerance: 1.347e+05\n",
      "  model = cd_fast.enet_coordinate_descent(\n",
      "C:\\Users\\Jamil88\\.conda\\envs\\nlp\\Lib\\site-packages\\sklearn\\linear_model\\_coordinate_descent.py:678: ConvergenceWarning: Objective did not converge. You might want to increase the number of iterations, check the scale of the features or consider increasing regularisation. Duality gap: 2.036e+05, tolerance: 1.292e+05\n",
      "  model = cd_fast.enet_coordinate_descent(\n",
      "C:\\Users\\Jamil88\\.conda\\envs\\nlp\\Lib\\site-packages\\sklearn\\linear_model\\_coordinate_descent.py:678: ConvergenceWarning: Objective did not converge. You might want to increase the number of iterations, check the scale of the features or consider increasing regularisation. Duality gap: 2.141e+05, tolerance: 1.288e+03\n",
      "  model = cd_fast.enet_coordinate_descent(\n",
      "C:\\Users\\Jamil88\\.conda\\envs\\nlp\\Lib\\site-packages\\sklearn\\linear_model\\_coordinate_descent.py:678: ConvergenceWarning: Objective did not converge. You might want to increase the number of iterations, check the scale of the features or consider increasing regularisation. Duality gap: 2.080e+05, tolerance: 1.256e+03\n",
      "  model = cd_fast.enet_coordinate_descent(\n",
      "C:\\Users\\Jamil88\\.conda\\envs\\nlp\\Lib\\site-packages\\sklearn\\linear_model\\_coordinate_descent.py:678: ConvergenceWarning: Objective did not converge. You might want to increase the number of iterations, check the scale of the features or consider increasing regularisation. Duality gap: 2.049e+05, tolerance: 1.329e+03\n",
      "  model = cd_fast.enet_coordinate_descent(\n",
      "C:\\Users\\Jamil88\\.conda\\envs\\nlp\\Lib\\site-packages\\sklearn\\linear_model\\_coordinate_descent.py:678: ConvergenceWarning: Objective did not converge. You might want to increase the number of iterations, check the scale of the features or consider increasing regularisation. Duality gap: 2.046e+05, tolerance: 1.336e+03\n",
      "  model = cd_fast.enet_coordinate_descent(\n",
      "C:\\Users\\Jamil88\\.conda\\envs\\nlp\\Lib\\site-packages\\sklearn\\linear_model\\_coordinate_descent.py:678: ConvergenceWarning: Objective did not converge. You might want to increase the number of iterations, check the scale of the features or consider increasing regularisation. Duality gap: 2.025e+05, tolerance: 1.288e+03\n",
      "  model = cd_fast.enet_coordinate_descent(\n",
      "C:\\Users\\Jamil88\\.conda\\envs\\nlp\\Lib\\site-packages\\sklearn\\linear_model\\_coordinate_descent.py:678: ConvergenceWarning: Objective did not converge. You might want to increase the number of iterations, check the scale of the features or consider increasing regularisation. Duality gap: 2.011e+05, tolerance: 1.314e+03\n",
      "  model = cd_fast.enet_coordinate_descent(\n",
      "C:\\Users\\Jamil88\\.conda\\envs\\nlp\\Lib\\site-packages\\sklearn\\linear_model\\_coordinate_descent.py:678: ConvergenceWarning: Objective did not converge. You might want to increase the number of iterations, check the scale of the features or consider increasing regularisation. Duality gap: 1.898e+05, tolerance: 1.310e+03\n",
      "  model = cd_fast.enet_coordinate_descent(\n",
      "C:\\Users\\Jamil88\\.conda\\envs\\nlp\\Lib\\site-packages\\sklearn\\linear_model\\_coordinate_descent.py:678: ConvergenceWarning: Objective did not converge. You might want to increase the number of iterations, check the scale of the features or consider increasing regularisation. Duality gap: 2.080e+05, tolerance: 1.306e+03\n",
      "  model = cd_fast.enet_coordinate_descent(\n",
      "C:\\Users\\Jamil88\\.conda\\envs\\nlp\\Lib\\site-packages\\sklearn\\linear_model\\_coordinate_descent.py:678: ConvergenceWarning: Objective did not converge. You might want to increase the number of iterations, check the scale of the features or consider increasing regularisation. Duality gap: 2.037e+05, tolerance: 1.300e+03\n",
      "  model = cd_fast.enet_coordinate_descent(\n",
      "C:\\Users\\Jamil88\\.conda\\envs\\nlp\\Lib\\site-packages\\sklearn\\linear_model\\_coordinate_descent.py:678: ConvergenceWarning: Objective did not converge. You might want to increase the number of iterations, check the scale of the features or consider increasing regularisation. Duality gap: 1.964e+05, tolerance: 1.357e+03\n",
      "  model = cd_fast.enet_coordinate_descent(\n",
      "C:\\Users\\Jamil88\\.conda\\envs\\nlp\\Lib\\site-packages\\sklearn\\linear_model\\_coordinate_descent.py:678: ConvergenceWarning: Objective did not converge. You might want to increase the number of iterations, check the scale of the features or consider increasing regularisation. Duality gap: 2.087e+05, tolerance: 1.347e+03\n",
      "  model = cd_fast.enet_coordinate_descent(\n",
      "C:\\Users\\Jamil88\\.conda\\envs\\nlp\\Lib\\site-packages\\sklearn\\linear_model\\_coordinate_descent.py:678: ConvergenceWarning: Objective did not converge. You might want to increase the number of iterations, check the scale of the features or consider increasing regularisation. Duality gap: 2.036e+05, tolerance: 1.292e+03\n",
      "  model = cd_fast.enet_coordinate_descent(\n",
      "C:\\Users\\Jamil88\\.conda\\envs\\nlp\\Lib\\site-packages\\sklearn\\linear_model\\_coordinate_descent.py:678: ConvergenceWarning: Objective did not converge. You might want to increase the number of iterations, check the scale of the features or consider increasing regularisation. Duality gap: 2.077e+05, tolerance: 2.575e+04\n",
      "  model = cd_fast.enet_coordinate_descent(\n",
      "C:\\Users\\Jamil88\\.conda\\envs\\nlp\\Lib\\site-packages\\sklearn\\linear_model\\_coordinate_descent.py:678: ConvergenceWarning: Objective did not converge. You might want to increase the number of iterations, check the scale of the features or consider increasing regularisation. Duality gap: 2.058e+05, tolerance: 2.513e+04\n",
      "  model = cd_fast.enet_coordinate_descent(\n",
      "C:\\Users\\Jamil88\\.conda\\envs\\nlp\\Lib\\site-packages\\sklearn\\linear_model\\_coordinate_descent.py:678: ConvergenceWarning: Objective did not converge. You might want to increase the number of iterations, check the scale of the features or consider increasing regularisation. Duality gap: 2.043e+05, tolerance: 2.658e+04\n",
      "  model = cd_fast.enet_coordinate_descent(\n",
      "C:\\Users\\Jamil88\\.conda\\envs\\nlp\\Lib\\site-packages\\sklearn\\linear_model\\_coordinate_descent.py:678: ConvergenceWarning: Objective did not converge. You might want to increase the number of iterations, check the scale of the features or consider increasing regularisation. Duality gap: 1.963e+05, tolerance: 2.673e+04\n",
      "  model = cd_fast.enet_coordinate_descent(\n",
      "C:\\Users\\Jamil88\\.conda\\envs\\nlp\\Lib\\site-packages\\sklearn\\linear_model\\_coordinate_descent.py:678: ConvergenceWarning: Objective did not converge. You might want to increase the number of iterations, check the scale of the features or consider increasing regularisation. Duality gap: 1.962e+05, tolerance: 2.576e+04\n",
      "  model = cd_fast.enet_coordinate_descent(\n",
      "C:\\Users\\Jamil88\\.conda\\envs\\nlp\\Lib\\site-packages\\sklearn\\linear_model\\_coordinate_descent.py:678: ConvergenceWarning: Objective did not converge. You might want to increase the number of iterations, check the scale of the features or consider increasing regularisation. Duality gap: 1.859e+05, tolerance: 2.627e+04\n",
      "  model = cd_fast.enet_coordinate_descent(\n",
      "C:\\Users\\Jamil88\\.conda\\envs\\nlp\\Lib\\site-packages\\sklearn\\linear_model\\_coordinate_descent.py:678: ConvergenceWarning: Objective did not converge. You might want to increase the number of iterations, check the scale of the features or consider increasing regularisation. Duality gap: 1.867e+05, tolerance: 2.619e+04\n",
      "  model = cd_fast.enet_coordinate_descent(\n",
      "C:\\Users\\Jamil88\\.conda\\envs\\nlp\\Lib\\site-packages\\sklearn\\linear_model\\_coordinate_descent.py:678: ConvergenceWarning: Objective did not converge. You might want to increase the number of iterations, check the scale of the features or consider increasing regularisation. Duality gap: 2.048e+05, tolerance: 2.612e+04\n",
      "  model = cd_fast.enet_coordinate_descent(\n",
      "C:\\Users\\Jamil88\\.conda\\envs\\nlp\\Lib\\site-packages\\sklearn\\linear_model\\_coordinate_descent.py:678: ConvergenceWarning: Objective did not converge. You might want to increase the number of iterations, check the scale of the features or consider increasing regularisation. Duality gap: 2.004e+05, tolerance: 2.601e+04\n",
      "  model = cd_fast.enet_coordinate_descent(\n"
     ]
    },
    {
     "name": "stderr",
     "output_type": "stream",
     "text": [
      "C:\\Users\\Jamil88\\.conda\\envs\\nlp\\Lib\\site-packages\\sklearn\\linear_model\\_coordinate_descent.py:678: ConvergenceWarning: Objective did not converge. You might want to increase the number of iterations, check the scale of the features or consider increasing regularisation. Duality gap: 1.713e+05, tolerance: 2.714e+04\n",
      "  model = cd_fast.enet_coordinate_descent(\n",
      "C:\\Users\\Jamil88\\.conda\\envs\\nlp\\Lib\\site-packages\\sklearn\\linear_model\\_coordinate_descent.py:678: ConvergenceWarning: Objective did not converge. You might want to increase the number of iterations, check the scale of the features or consider increasing regularisation. Duality gap: 2.011e+05, tolerance: 2.695e+04\n",
      "  model = cd_fast.enet_coordinate_descent(\n",
      "C:\\Users\\Jamil88\\.conda\\envs\\nlp\\Lib\\site-packages\\sklearn\\linear_model\\_coordinate_descent.py:678: ConvergenceWarning: Objective did not converge. You might want to increase the number of iterations, check the scale of the features or consider increasing regularisation. Duality gap: 1.971e+05, tolerance: 2.583e+04\n",
      "  model = cd_fast.enet_coordinate_descent(\n",
      "C:\\Users\\Jamil88\\.conda\\envs\\nlp\\Lib\\site-packages\\sklearn\\linear_model\\_coordinate_descent.py:678: ConvergenceWarning: Objective did not converge. You might want to increase the number of iterations, check the scale of the features or consider increasing regularisation. Duality gap: 2.077e+05, tolerance: 5.151e+04\n",
      "  model = cd_fast.enet_coordinate_descent(\n",
      "C:\\Users\\Jamil88\\.conda\\envs\\nlp\\Lib\\site-packages\\sklearn\\linear_model\\_coordinate_descent.py:678: ConvergenceWarning: Objective did not converge. You might want to increase the number of iterations, check the scale of the features or consider increasing regularisation. Duality gap: 2.058e+05, tolerance: 5.025e+04\n",
      "  model = cd_fast.enet_coordinate_descent(\n",
      "C:\\Users\\Jamil88\\.conda\\envs\\nlp\\Lib\\site-packages\\sklearn\\linear_model\\_coordinate_descent.py:678: ConvergenceWarning: Objective did not converge. You might want to increase the number of iterations, check the scale of the features or consider increasing regularisation. Duality gap: 2.043e+05, tolerance: 5.316e+04\n",
      "  model = cd_fast.enet_coordinate_descent(\n",
      "C:\\Users\\Jamil88\\.conda\\envs\\nlp\\Lib\\site-packages\\sklearn\\linear_model\\_coordinate_descent.py:678: ConvergenceWarning: Objective did not converge. You might want to increase the number of iterations, check the scale of the features or consider increasing regularisation. Duality gap: 1.963e+05, tolerance: 5.345e+04\n",
      "  model = cd_fast.enet_coordinate_descent(\n",
      "C:\\Users\\Jamil88\\.conda\\envs\\nlp\\Lib\\site-packages\\sklearn\\linear_model\\_coordinate_descent.py:678: ConvergenceWarning: Objective did not converge. You might want to increase the number of iterations, check the scale of the features or consider increasing regularisation. Duality gap: 1.962e+05, tolerance: 5.152e+04\n",
      "  model = cd_fast.enet_coordinate_descent(\n",
      "C:\\Users\\Jamil88\\.conda\\envs\\nlp\\Lib\\site-packages\\sklearn\\linear_model\\_coordinate_descent.py:678: ConvergenceWarning: Objective did not converge. You might want to increase the number of iterations, check the scale of the features or consider increasing regularisation. Duality gap: 1.859e+05, tolerance: 5.255e+04\n",
      "  model = cd_fast.enet_coordinate_descent(\n",
      "C:\\Users\\Jamil88\\.conda\\envs\\nlp\\Lib\\site-packages\\sklearn\\linear_model\\_coordinate_descent.py:678: ConvergenceWarning: Objective did not converge. You might want to increase the number of iterations, check the scale of the features or consider increasing regularisation. Duality gap: 1.867e+05, tolerance: 5.238e+04\n",
      "  model = cd_fast.enet_coordinate_descent(\n",
      "C:\\Users\\Jamil88\\.conda\\envs\\nlp\\Lib\\site-packages\\sklearn\\linear_model\\_coordinate_descent.py:678: ConvergenceWarning: Objective did not converge. You might want to increase the number of iterations, check the scale of the features or consider increasing regularisation. Duality gap: 2.048e+05, tolerance: 5.223e+04\n",
      "  model = cd_fast.enet_coordinate_descent(\n",
      "C:\\Users\\Jamil88\\.conda\\envs\\nlp\\Lib\\site-packages\\sklearn\\linear_model\\_coordinate_descent.py:678: ConvergenceWarning: Objective did not converge. You might want to increase the number of iterations, check the scale of the features or consider increasing regularisation. Duality gap: 2.004e+05, tolerance: 5.201e+04\n",
      "  model = cd_fast.enet_coordinate_descent(\n",
      "C:\\Users\\Jamil88\\.conda\\envs\\nlp\\Lib\\site-packages\\sklearn\\linear_model\\_coordinate_descent.py:678: ConvergenceWarning: Objective did not converge. You might want to increase the number of iterations, check the scale of the features or consider increasing regularisation. Duality gap: 1.713e+05, tolerance: 5.427e+04\n",
      "  model = cd_fast.enet_coordinate_descent(\n",
      "C:\\Users\\Jamil88\\.conda\\envs\\nlp\\Lib\\site-packages\\sklearn\\linear_model\\_coordinate_descent.py:678: ConvergenceWarning: Objective did not converge. You might want to increase the number of iterations, check the scale of the features or consider increasing regularisation. Duality gap: 2.011e+05, tolerance: 5.389e+04\n",
      "  model = cd_fast.enet_coordinate_descent(\n",
      "C:\\Users\\Jamil88\\.conda\\envs\\nlp\\Lib\\site-packages\\sklearn\\linear_model\\_coordinate_descent.py:678: ConvergenceWarning: Objective did not converge. You might want to increase the number of iterations, check the scale of the features or consider increasing regularisation. Duality gap: 1.971e+05, tolerance: 5.166e+04\n",
      "  model = cd_fast.enet_coordinate_descent(\n",
      "C:\\Users\\Jamil88\\.conda\\envs\\nlp\\Lib\\site-packages\\sklearn\\linear_model\\_coordinate_descent.py:678: ConvergenceWarning: Objective did not converge. You might want to increase the number of iterations, check the scale of the features or consider increasing regularisation. Duality gap: 2.077e+05, tolerance: 7.726e+04\n",
      "  model = cd_fast.enet_coordinate_descent(\n",
      "C:\\Users\\Jamil88\\.conda\\envs\\nlp\\Lib\\site-packages\\sklearn\\linear_model\\_coordinate_descent.py:678: ConvergenceWarning: Objective did not converge. You might want to increase the number of iterations, check the scale of the features or consider increasing regularisation. Duality gap: 2.058e+05, tolerance: 7.538e+04\n",
      "  model = cd_fast.enet_coordinate_descent(\n",
      "C:\\Users\\Jamil88\\.conda\\envs\\nlp\\Lib\\site-packages\\sklearn\\linear_model\\_coordinate_descent.py:678: ConvergenceWarning: Objective did not converge. You might want to increase the number of iterations, check the scale of the features or consider increasing regularisation. Duality gap: 2.043e+05, tolerance: 7.973e+04\n",
      "  model = cd_fast.enet_coordinate_descent(\n",
      "C:\\Users\\Jamil88\\.conda\\envs\\nlp\\Lib\\site-packages\\sklearn\\linear_model\\_coordinate_descent.py:678: ConvergenceWarning: Objective did not converge. You might want to increase the number of iterations, check the scale of the features or consider increasing regularisation. Duality gap: 1.963e+05, tolerance: 8.018e+04\n",
      "  model = cd_fast.enet_coordinate_descent(\n",
      "C:\\Users\\Jamil88\\.conda\\envs\\nlp\\Lib\\site-packages\\sklearn\\linear_model\\_coordinate_descent.py:678: ConvergenceWarning: Objective did not converge. You might want to increase the number of iterations, check the scale of the features or consider increasing regularisation. Duality gap: 1.962e+05, tolerance: 7.728e+04\n",
      "  model = cd_fast.enet_coordinate_descent(\n",
      "C:\\Users\\Jamil88\\.conda\\envs\\nlp\\Lib\\site-packages\\sklearn\\linear_model\\_coordinate_descent.py:678: ConvergenceWarning: Objective did not converge. You might want to increase the number of iterations, check the scale of the features or consider increasing regularisation. Duality gap: 1.859e+05, tolerance: 7.882e+04\n",
      "  model = cd_fast.enet_coordinate_descent(\n",
      "C:\\Users\\Jamil88\\.conda\\envs\\nlp\\Lib\\site-packages\\sklearn\\linear_model\\_coordinate_descent.py:678: ConvergenceWarning: Objective did not converge. You might want to increase the number of iterations, check the scale of the features or consider increasing regularisation. Duality gap: 1.867e+05, tolerance: 7.858e+04\n",
      "  model = cd_fast.enet_coordinate_descent(\n",
      "C:\\Users\\Jamil88\\.conda\\envs\\nlp\\Lib\\site-packages\\sklearn\\linear_model\\_coordinate_descent.py:678: ConvergenceWarning: Objective did not converge. You might want to increase the number of iterations, check the scale of the features or consider increasing regularisation. Duality gap: 2.048e+05, tolerance: 7.835e+04\n",
      "  model = cd_fast.enet_coordinate_descent(\n",
      "C:\\Users\\Jamil88\\.conda\\envs\\nlp\\Lib\\site-packages\\sklearn\\linear_model\\_coordinate_descent.py:678: ConvergenceWarning: Objective did not converge. You might want to increase the number of iterations, check the scale of the features or consider increasing regularisation. Duality gap: 2.004e+05, tolerance: 7.802e+04\n",
      "  model = cd_fast.enet_coordinate_descent(\n",
      "C:\\Users\\Jamil88\\.conda\\envs\\nlp\\Lib\\site-packages\\sklearn\\linear_model\\_coordinate_descent.py:678: ConvergenceWarning: Objective did not converge. You might want to increase the number of iterations, check the scale of the features or consider increasing regularisation. Duality gap: 1.713e+05, tolerance: 8.141e+04\n",
      "  model = cd_fast.enet_coordinate_descent(\n"
     ]
    },
    {
     "name": "stderr",
     "output_type": "stream",
     "text": [
      "C:\\Users\\Jamil88\\.conda\\envs\\nlp\\Lib\\site-packages\\sklearn\\linear_model\\_coordinate_descent.py:678: ConvergenceWarning: Objective did not converge. You might want to increase the number of iterations, check the scale of the features or consider increasing regularisation. Duality gap: 2.011e+05, tolerance: 8.084e+04\n",
      "  model = cd_fast.enet_coordinate_descent(\n",
      "C:\\Users\\Jamil88\\.conda\\envs\\nlp\\Lib\\site-packages\\sklearn\\linear_model\\_coordinate_descent.py:678: ConvergenceWarning: Objective did not converge. You might want to increase the number of iterations, check the scale of the features or consider increasing regularisation. Duality gap: 1.971e+05, tolerance: 7.749e+04\n",
      "  model = cd_fast.enet_coordinate_descent(\n",
      "C:\\Users\\Jamil88\\.conda\\envs\\nlp\\Lib\\site-packages\\sklearn\\linear_model\\_coordinate_descent.py:678: ConvergenceWarning: Objective did not converge. You might want to increase the number of iterations, check the scale of the features or consider increasing regularisation. Duality gap: 2.077e+05, tolerance: 1.288e+05\n",
      "  model = cd_fast.enet_coordinate_descent(\n",
      "C:\\Users\\Jamil88\\.conda\\envs\\nlp\\Lib\\site-packages\\sklearn\\linear_model\\_coordinate_descent.py:678: ConvergenceWarning: Objective did not converge. You might want to increase the number of iterations, check the scale of the features or consider increasing regularisation. Duality gap: 2.058e+05, tolerance: 1.256e+05\n",
      "  model = cd_fast.enet_coordinate_descent(\n",
      "C:\\Users\\Jamil88\\.conda\\envs\\nlp\\Lib\\site-packages\\sklearn\\linear_model\\_coordinate_descent.py:678: ConvergenceWarning: Objective did not converge. You might want to increase the number of iterations, check the scale of the features or consider increasing regularisation. Duality gap: 2.043e+05, tolerance: 1.329e+05\n",
      "  model = cd_fast.enet_coordinate_descent(\n",
      "C:\\Users\\Jamil88\\.conda\\envs\\nlp\\Lib\\site-packages\\sklearn\\linear_model\\_coordinate_descent.py:678: ConvergenceWarning: Objective did not converge. You might want to increase the number of iterations, check the scale of the features or consider increasing regularisation. Duality gap: 1.963e+05, tolerance: 1.336e+05\n",
      "  model = cd_fast.enet_coordinate_descent(\n",
      "C:\\Users\\Jamil88\\.conda\\envs\\nlp\\Lib\\site-packages\\sklearn\\linear_model\\_coordinate_descent.py:678: ConvergenceWarning: Objective did not converge. You might want to increase the number of iterations, check the scale of the features or consider increasing regularisation. Duality gap: 1.962e+05, tolerance: 1.288e+05\n",
      "  model = cd_fast.enet_coordinate_descent(\n",
      "C:\\Users\\Jamil88\\.conda\\envs\\nlp\\Lib\\site-packages\\sklearn\\linear_model\\_coordinate_descent.py:678: ConvergenceWarning: Objective did not converge. You might want to increase the number of iterations, check the scale of the features or consider increasing regularisation. Duality gap: 1.859e+05, tolerance: 1.314e+05\n",
      "  model = cd_fast.enet_coordinate_descent(\n",
      "C:\\Users\\Jamil88\\.conda\\envs\\nlp\\Lib\\site-packages\\sklearn\\linear_model\\_coordinate_descent.py:678: ConvergenceWarning: Objective did not converge. You might want to increase the number of iterations, check the scale of the features or consider increasing regularisation. Duality gap: 1.867e+05, tolerance: 1.310e+05\n",
      "  model = cd_fast.enet_coordinate_descent(\n",
      "C:\\Users\\Jamil88\\.conda\\envs\\nlp\\Lib\\site-packages\\sklearn\\linear_model\\_coordinate_descent.py:678: ConvergenceWarning: Objective did not converge. You might want to increase the number of iterations, check the scale of the features or consider increasing regularisation. Duality gap: 2.048e+05, tolerance: 1.306e+05\n",
      "  model = cd_fast.enet_coordinate_descent(\n",
      "C:\\Users\\Jamil88\\.conda\\envs\\nlp\\Lib\\site-packages\\sklearn\\linear_model\\_coordinate_descent.py:678: ConvergenceWarning: Objective did not converge. You might want to increase the number of iterations, check the scale of the features or consider increasing regularisation. Duality gap: 2.004e+05, tolerance: 1.300e+05\n",
      "  model = cd_fast.enet_coordinate_descent(\n",
      "C:\\Users\\Jamil88\\.conda\\envs\\nlp\\Lib\\site-packages\\sklearn\\linear_model\\_coordinate_descent.py:678: ConvergenceWarning: Objective did not converge. You might want to increase the number of iterations, check the scale of the features or consider increasing regularisation. Duality gap: 1.713e+05, tolerance: 1.357e+05\n",
      "  model = cd_fast.enet_coordinate_descent(\n",
      "C:\\Users\\Jamil88\\.conda\\envs\\nlp\\Lib\\site-packages\\sklearn\\linear_model\\_coordinate_descent.py:678: ConvergenceWarning: Objective did not converge. You might want to increase the number of iterations, check the scale of the features or consider increasing regularisation. Duality gap: 2.011e+05, tolerance: 1.347e+05\n",
      "  model = cd_fast.enet_coordinate_descent(\n",
      "C:\\Users\\Jamil88\\.conda\\envs\\nlp\\Lib\\site-packages\\sklearn\\linear_model\\_coordinate_descent.py:678: ConvergenceWarning: Objective did not converge. You might want to increase the number of iterations, check the scale of the features or consider increasing regularisation. Duality gap: 1.971e+05, tolerance: 1.292e+05\n",
      "  model = cd_fast.enet_coordinate_descent(\n",
      "C:\\Users\\Jamil88\\.conda\\envs\\nlp\\Lib\\site-packages\\sklearn\\linear_model\\_coordinate_descent.py:678: ConvergenceWarning: Objective did not converge. You might want to increase the number of iterations, check the scale of the features or consider increasing regularisation. Duality gap: 2.077e+05, tolerance: 1.288e+03\n",
      "  model = cd_fast.enet_coordinate_descent(\n",
      "C:\\Users\\Jamil88\\.conda\\envs\\nlp\\Lib\\site-packages\\sklearn\\linear_model\\_coordinate_descent.py:678: ConvergenceWarning: Objective did not converge. You might want to increase the number of iterations, check the scale of the features or consider increasing regularisation. Duality gap: 2.058e+05, tolerance: 1.256e+03\n",
      "  model = cd_fast.enet_coordinate_descent(\n",
      "C:\\Users\\Jamil88\\.conda\\envs\\nlp\\Lib\\site-packages\\sklearn\\linear_model\\_coordinate_descent.py:678: ConvergenceWarning: Objective did not converge. You might want to increase the number of iterations, check the scale of the features or consider increasing regularisation. Duality gap: 2.043e+05, tolerance: 1.329e+03\n",
      "  model = cd_fast.enet_coordinate_descent(\n",
      "C:\\Users\\Jamil88\\.conda\\envs\\nlp\\Lib\\site-packages\\sklearn\\linear_model\\_coordinate_descent.py:678: ConvergenceWarning: Objective did not converge. You might want to increase the number of iterations, check the scale of the features or consider increasing regularisation. Duality gap: 1.963e+05, tolerance: 1.336e+03\n",
      "  model = cd_fast.enet_coordinate_descent(\n",
      "C:\\Users\\Jamil88\\.conda\\envs\\nlp\\Lib\\site-packages\\sklearn\\linear_model\\_coordinate_descent.py:678: ConvergenceWarning: Objective did not converge. You might want to increase the number of iterations, check the scale of the features or consider increasing regularisation. Duality gap: 1.962e+05, tolerance: 1.288e+03\n",
      "  model = cd_fast.enet_coordinate_descent(\n",
      "C:\\Users\\Jamil88\\.conda\\envs\\nlp\\Lib\\site-packages\\sklearn\\linear_model\\_coordinate_descent.py:678: ConvergenceWarning: Objective did not converge. You might want to increase the number of iterations, check the scale of the features or consider increasing regularisation. Duality gap: 1.859e+05, tolerance: 1.314e+03\n",
      "  model = cd_fast.enet_coordinate_descent(\n",
      "C:\\Users\\Jamil88\\.conda\\envs\\nlp\\Lib\\site-packages\\sklearn\\linear_model\\_coordinate_descent.py:678: ConvergenceWarning: Objective did not converge. You might want to increase the number of iterations, check the scale of the features or consider increasing regularisation. Duality gap: 1.867e+05, tolerance: 1.310e+03\n",
      "  model = cd_fast.enet_coordinate_descent(\n",
      "C:\\Users\\Jamil88\\.conda\\envs\\nlp\\Lib\\site-packages\\sklearn\\linear_model\\_coordinate_descent.py:678: ConvergenceWarning: Objective did not converge. You might want to increase the number of iterations, check the scale of the features or consider increasing regularisation. Duality gap: 2.048e+05, tolerance: 1.306e+03\n",
      "  model = cd_fast.enet_coordinate_descent(\n",
      "C:\\Users\\Jamil88\\.conda\\envs\\nlp\\Lib\\site-packages\\sklearn\\linear_model\\_coordinate_descent.py:678: ConvergenceWarning: Objective did not converge. You might want to increase the number of iterations, check the scale of the features or consider increasing regularisation. Duality gap: 2.004e+05, tolerance: 1.300e+03\n",
      "  model = cd_fast.enet_coordinate_descent(\n",
      "C:\\Users\\Jamil88\\.conda\\envs\\nlp\\Lib\\site-packages\\sklearn\\linear_model\\_coordinate_descent.py:678: ConvergenceWarning: Objective did not converge. You might want to increase the number of iterations, check the scale of the features or consider increasing regularisation. Duality gap: 1.713e+05, tolerance: 1.357e+03\n",
      "  model = cd_fast.enet_coordinate_descent(\n"
     ]
    },
    {
     "name": "stderr",
     "output_type": "stream",
     "text": [
      "C:\\Users\\Jamil88\\.conda\\envs\\nlp\\Lib\\site-packages\\sklearn\\linear_model\\_coordinate_descent.py:678: ConvergenceWarning: Objective did not converge. You might want to increase the number of iterations, check the scale of the features or consider increasing regularisation. Duality gap: 2.011e+05, tolerance: 1.347e+03\n",
      "  model = cd_fast.enet_coordinate_descent(\n",
      "C:\\Users\\Jamil88\\.conda\\envs\\nlp\\Lib\\site-packages\\sklearn\\linear_model\\_coordinate_descent.py:678: ConvergenceWarning: Objective did not converge. You might want to increase the number of iterations, check the scale of the features or consider increasing regularisation. Duality gap: 1.971e+05, tolerance: 1.292e+03\n",
      "  model = cd_fast.enet_coordinate_descent(\n",
      "C:\\Users\\Jamil88\\.conda\\envs\\nlp\\Lib\\site-packages\\sklearn\\linear_model\\_coordinate_descent.py:678: ConvergenceWarning: Objective did not converge. You might want to increase the number of iterations, check the scale of the features or consider increasing regularisation. Duality gap: 8.058e+04, tolerance: 2.513e+04\n",
      "  model = cd_fast.enet_coordinate_descent(\n",
      "C:\\Users\\Jamil88\\.conda\\envs\\nlp\\Lib\\site-packages\\sklearn\\linear_model\\_coordinate_descent.py:678: ConvergenceWarning: Objective did not converge. You might want to increase the number of iterations, check the scale of the features or consider increasing regularisation. Duality gap: 1.953e+05, tolerance: 2.658e+04\n",
      "  model = cd_fast.enet_coordinate_descent(\n",
      "C:\\Users\\Jamil88\\.conda\\envs\\nlp\\Lib\\site-packages\\sklearn\\linear_model\\_coordinate_descent.py:678: ConvergenceWarning: Objective did not converge. You might want to increase the number of iterations, check the scale of the features or consider increasing regularisation. Duality gap: 4.218e+04, tolerance: 2.612e+04\n",
      "  model = cd_fast.enet_coordinate_descent(\n",
      "C:\\Users\\Jamil88\\.conda\\envs\\nlp\\Lib\\site-packages\\sklearn\\linear_model\\_coordinate_descent.py:678: ConvergenceWarning: Objective did not converge. You might want to increase the number of iterations, check the scale of the features or consider increasing regularisation. Duality gap: 8.058e+04, tolerance: 5.025e+04\n",
      "  model = cd_fast.enet_coordinate_descent(\n",
      "C:\\Users\\Jamil88\\.conda\\envs\\nlp\\Lib\\site-packages\\sklearn\\linear_model\\_coordinate_descent.py:678: ConvergenceWarning: Objective did not converge. You might want to increase the number of iterations, check the scale of the features or consider increasing regularisation. Duality gap: 1.953e+05, tolerance: 5.316e+04\n",
      "  model = cd_fast.enet_coordinate_descent(\n",
      "C:\\Users\\Jamil88\\.conda\\envs\\nlp\\Lib\\site-packages\\sklearn\\linear_model\\_coordinate_descent.py:678: ConvergenceWarning: Objective did not converge. You might want to increase the number of iterations, check the scale of the features or consider increasing regularisation. Duality gap: 8.058e+04, tolerance: 7.538e+04\n",
      "  model = cd_fast.enet_coordinate_descent(\n",
      "C:\\Users\\Jamil88\\.conda\\envs\\nlp\\Lib\\site-packages\\sklearn\\linear_model\\_coordinate_descent.py:678: ConvergenceWarning: Objective did not converge. You might want to increase the number of iterations, check the scale of the features or consider increasing regularisation. Duality gap: 1.953e+05, tolerance: 7.973e+04\n",
      "  model = cd_fast.enet_coordinate_descent(\n",
      "C:\\Users\\Jamil88\\.conda\\envs\\nlp\\Lib\\site-packages\\sklearn\\linear_model\\_coordinate_descent.py:678: ConvergenceWarning: Objective did not converge. You might want to increase the number of iterations, check the scale of the features or consider increasing regularisation. Duality gap: 1.953e+05, tolerance: 1.329e+05\n",
      "  model = cd_fast.enet_coordinate_descent(\n",
      "C:\\Users\\Jamil88\\.conda\\envs\\nlp\\Lib\\site-packages\\sklearn\\linear_model\\_coordinate_descent.py:678: ConvergenceWarning: Objective did not converge. You might want to increase the number of iterations, check the scale of the features or consider increasing regularisation. Duality gap: 3.852e+03, tolerance: 1.288e+03\n",
      "  model = cd_fast.enet_coordinate_descent(\n",
      "C:\\Users\\Jamil88\\.conda\\envs\\nlp\\Lib\\site-packages\\sklearn\\linear_model\\_coordinate_descent.py:678: ConvergenceWarning: Objective did not converge. You might want to increase the number of iterations, check the scale of the features or consider increasing regularisation. Duality gap: 8.058e+04, tolerance: 1.256e+03\n",
      "  model = cd_fast.enet_coordinate_descent(\n",
      "C:\\Users\\Jamil88\\.conda\\envs\\nlp\\Lib\\site-packages\\sklearn\\linear_model\\_coordinate_descent.py:678: ConvergenceWarning: Objective did not converge. You might want to increase the number of iterations, check the scale of the features or consider increasing regularisation. Duality gap: 1.953e+05, tolerance: 1.329e+03\n",
      "  model = cd_fast.enet_coordinate_descent(\n",
      "C:\\Users\\Jamil88\\.conda\\envs\\nlp\\Lib\\site-packages\\sklearn\\linear_model\\_coordinate_descent.py:678: ConvergenceWarning: Objective did not converge. You might want to increase the number of iterations, check the scale of the features or consider increasing regularisation. Duality gap: 7.163e+03, tolerance: 1.310e+03\n",
      "  model = cd_fast.enet_coordinate_descent(\n",
      "C:\\Users\\Jamil88\\.conda\\envs\\nlp\\Lib\\site-packages\\sklearn\\linear_model\\_coordinate_descent.py:678: ConvergenceWarning: Objective did not converge. You might want to increase the number of iterations, check the scale of the features or consider increasing regularisation. Duality gap: 4.218e+04, tolerance: 1.306e+03\n",
      "  model = cd_fast.enet_coordinate_descent(\n",
      "C:\\Users\\Jamil88\\.conda\\envs\\nlp\\Lib\\site-packages\\sklearn\\linear_model\\_coordinate_descent.py:678: ConvergenceWarning: Objective did not converge. You might want to increase the number of iterations, check the scale of the features or consider increasing regularisation. Duality gap: 1.211e+04, tolerance: 1.300e+03\n",
      "  model = cd_fast.enet_coordinate_descent(\n",
      "C:\\Users\\Jamil88\\.conda\\envs\\nlp\\Lib\\site-packages\\sklearn\\linear_model\\_coordinate_descent.py:678: ConvergenceWarning: Objective did not converge. You might want to increase the number of iterations, check the scale of the features or consider increasing regularisation. Duality gap: 2.531e+03, tolerance: 1.347e+03\n",
      "  model = cd_fast.enet_coordinate_descent(\n",
      "C:\\Users\\Jamil88\\.conda\\envs\\nlp\\Lib\\site-packages\\sklearn\\linear_model\\_coordinate_descent.py:678: ConvergenceWarning: Objective did not converge. You might want to increase the number of iterations, check the scale of the features or consider increasing regularisation. Duality gap: 9.396e+03, tolerance: 1.292e+03\n",
      "  model = cd_fast.enet_coordinate_descent(\n",
      "C:\\Users\\Jamil88\\.conda\\envs\\nlp\\Lib\\site-packages\\sklearn\\linear_model\\_coordinate_descent.py:678: ConvergenceWarning: Objective did not converge. You might want to increase the number of iterations, check the scale of the features or consider increasing regularisation. Duality gap: 8.822e+03, tolerance: 1.310e+03\n",
      "  model = cd_fast.enet_coordinate_descent(\n",
      "C:\\Users\\Jamil88\\.conda\\envs\\nlp\\Lib\\site-packages\\sklearn\\linear_model\\_coordinate_descent.py:678: ConvergenceWarning: Objective did not converge. You might want to increase the number of iterations, check the scale of the features or consider increasing regularisation. Duality gap: 4.783e+03, tolerance: 1.300e+03\n",
      "  model = cd_fast.enet_coordinate_descent(\n"
     ]
    },
    {
     "name": "stdout",
     "output_type": "stream",
     "text": [
      "lasso_regressor best alpha = {'lasso__alpha': 1, 'lasso__max_iter': 500, 'lasso__tol': 0.01}\n",
      "lasso_regressor rmse = 27.531706402729764\n"
     ]
    }
   ],
   "source": [
    "from sklearn.pipeline import Pipeline\n",
    "from sklearn.preprocessing import StandardScaler\n",
    "from sklearn.linear_model import Lasso\n",
    "from sklearn.model_selection import GridSearchCV\n",
    "\n",
    "lasso_regressor = Lasso()\n",
    "params = {'lasso__alpha' : [1e-7, 1e-5, 1e-2, 1, 5, 10, 20, 30, 35, 40], \\\n",
    "          'lasso__max_iter' : [500, 1000, 2500], \\\n",
    "         'lasso__tol' : [0.01, 0.02, 0.03, 0.05, 0.0005]}\n",
    "#          'lasso__tol' : [0.05]}\n",
    "pipeline = Pipeline([\n",
    "    ('scaler', StandardScaler()),\n",
    "    ('lasso', lasso_regressor)\n",
    "])\n",
    "lasso_regressor = GridSearchCV(pipeline, params, scoring = 'neg_mean_squared_error', cv = folds)\n",
    "lasso_regressor.fit(X_train, y_train)\n",
    "\n",
    "# best params\n",
    "a = lasso_regressor.best_params_\n",
    "nmse = lasso_regressor.best_score_\n",
    "rmse = np.sqrt(-nmse)\n",
    "\n",
    "print(f'lasso_regressor best alpha = {a}')\n",
    "print(f'lasso_regressor rmse = {rmse}')"
   ]
  },
  {
   "cell_type": "markdown",
   "metadata": {},
   "source": [
    "### XGBoost\n"
   ]
  },
  {
   "cell_type": "code",
   "execution_count": null,
   "metadata": {},
   "outputs": [],
   "source": [
    "from xgboost import XGBRegressor\n",
    "from sklearn.model_selection import RandomizedSearchCV\n",
    "from scipy.stats import uniform, randint\n",
    "\n",
    "# Create an XGBoost regressor model\n",
    "xgb = XGBRegressor()\n",
    "\n",
    "# Best parameters: {'n_estimators': 250, 'min_child_weight': 3, 'max_depth': 2, 'learning_rate': 0.05, 'lambda': 20, 'booster': 'gbtree'}\n",
    "\n",
    "# pass 2\n",
    "param_dist = {\n",
    "    'learning_rate': [0.01, 0.05, 0.1],\n",
    "    'max_depth': [2, 3, 5, 10],\n",
    "    'booster' : ['gbtree'],\n",
    "    'min_child_weight': [1, 2, 3, 4, 5],\n",
    "    'lambda' : [0.1, 0.5, 1, 5, 10, 20, 30],\n",
    "    'n_estimators': [50, 100, 250, 500, 1000, 1500]\n",
    "}\n",
    "\n",
    "# Perform randomized search with cross-validation\n",
    "random_search = RandomizedSearchCV(xgb, param_distributions=param_dist, n_iter=100, scoring='neg_mean_squared_error', cv=folds)\n",
    "random_search.fit(X_train, y_train)\n",
    "\n",
    "# Get the best parameters and RMSE score\n",
    "best_params = random_search.best_params_\n",
    "best_rmse = np.sqrt(-random_search.best_score_)\n",
    "\n",
    "print(\"Best parameters:\", best_params)\n",
    "print(\"Best RMSE:\", best_rmse)\n"
   ]
  },
  {
   "cell_type": "markdown",
   "metadata": {},
   "source": [
    "### Experimental Model Section\n",
    "\n",
    "To test the model drafts here (The data preprocessing should be done beforehand)"
   ]
  },
  {
   "cell_type": "code",
   "execution_count": 88,
   "metadata": {},
   "outputs": [],
   "source": [
    "X_train_bk, y_train_bk, X_test_bk = X_train, y_train, X_test"
   ]
  },
  {
   "cell_type": "code",
   "execution_count": 123,
   "metadata": {},
   "outputs": [
    {
     "name": "stdout",
     "output_type": "stream",
     "text": [
      "................... Fold : 1 ...............\n",
      "\n"
     ]
    },
    {
     "data": {
      "application/vnd.jupyter.widget-view+json": {
       "model_id": "012f7e4a96d640d6a83d8abb8e973b3e",
       "version_major": 2,
       "version_minor": 0
      },
      "text/plain": [
       "  0%|          | 0/100 [00:00<?, ?it/s]"
      ]
     },
     "metadata": {},
     "output_type": "display_data"
    },
    {
     "name": "stdout",
     "output_type": "stream",
     "text": [
      "\n",
      "val_loss at fold 1 : 35.87628788247974\n",
      "-------------------------------------\n",
      "\n",
      "................... Fold : 2 ...............\n",
      "\n"
     ]
    },
    {
     "data": {
      "application/vnd.jupyter.widget-view+json": {
       "model_id": "0dfa21a5a5e94961b14164b66b22686a",
       "version_major": 2,
       "version_minor": 0
      },
      "text/plain": [
       "  0%|          | 0/100 [00:00<?, ?it/s]"
      ]
     },
     "metadata": {},
     "output_type": "display_data"
    },
    {
     "name": "stdout",
     "output_type": "stream",
     "text": [
      "\n",
      "val_loss at fold 2 : 47.970012198377646\n",
      "-------------------------------------\n",
      "\n",
      "................... Fold : 3 ...............\n",
      "\n"
     ]
    },
    {
     "data": {
      "application/vnd.jupyter.widget-view+json": {
       "model_id": "b1edd197602944878d9f964b5871d45f",
       "version_major": 2,
       "version_minor": 0
      },
      "text/plain": [
       "  0%|          | 0/100 [00:00<?, ?it/s]"
      ]
     },
     "metadata": {},
     "output_type": "display_data"
    },
    {
     "name": "stdout",
     "output_type": "stream",
     "text": [
      "\n",
      "val_loss at fold 3 : 37.84707226333696\n",
      "-------------------------------------\n",
      "\n",
      "................... Fold : 4 ...............\n",
      "\n"
     ]
    },
    {
     "data": {
      "application/vnd.jupyter.widget-view+json": {
       "model_id": "b9291befac1c4a50a16c4667855410b6",
       "version_major": 2,
       "version_minor": 0
      },
      "text/plain": [
       "  0%|          | 0/100 [00:00<?, ?it/s]"
      ]
     },
     "metadata": {},
     "output_type": "display_data"
    },
    {
     "name": "stdout",
     "output_type": "stream",
     "text": [
      "\n",
      "val_loss at fold 4 : 46.80984012803825\n",
      "-------------------------------------\n",
      "\n",
      "................... Fold : 5 ...............\n",
      "\n"
     ]
    },
    {
     "data": {
      "application/vnd.jupyter.widget-view+json": {
       "model_id": "6d035ef616f94c498fed19e0fa3d6eb4",
       "version_major": 2,
       "version_minor": 0
      },
      "text/plain": [
       "  0%|          | 0/100 [00:00<?, ?it/s]"
      ]
     },
     "metadata": {},
     "output_type": "display_data"
    },
    {
     "name": "stdout",
     "output_type": "stream",
     "text": [
      "\n",
      "val_loss at fold 5 : 42.90689297588151\n",
      "-------------------------------------\n",
      "\n",
      "................... Fold : 6 ...............\n",
      "\n"
     ]
    },
    {
     "data": {
      "application/vnd.jupyter.widget-view+json": {
       "model_id": "f4142a89c05f4c3995f7c466ffbbd15a",
       "version_major": 2,
       "version_minor": 0
      },
      "text/plain": [
       "  0%|          | 0/100 [00:00<?, ?it/s]"
      ]
     },
     "metadata": {},
     "output_type": "display_data"
    },
    {
     "name": "stdout",
     "output_type": "stream",
     "text": [
      "\n",
      "val_loss at fold 6 : 47.88314582707443\n",
      "-------------------------------------\n",
      "\n",
      "................... Fold : 7 ...............\n",
      "\n"
     ]
    },
    {
     "data": {
      "application/vnd.jupyter.widget-view+json": {
       "model_id": "422ba4c2c30349f898f5d28e9fa2be59",
       "version_major": 2,
       "version_minor": 0
      },
      "text/plain": [
       "  0%|          | 0/100 [00:00<?, ?it/s]"
      ]
     },
     "metadata": {},
     "output_type": "display_data"
    },
    {
     "name": "stdout",
     "output_type": "stream",
     "text": [
      "\n",
      "val_loss at fold 7 : 40.96834924241441\n",
      "-------------------------------------\n",
      "\n",
      "................... Fold : 8 ...............\n",
      "\n"
     ]
    },
    {
     "data": {
      "application/vnd.jupyter.widget-view+json": {
       "model_id": "a3cde4bc28774cc1885355ea3e09c67b",
       "version_major": 2,
       "version_minor": 0
      },
      "text/plain": [
       "  0%|          | 0/100 [00:00<?, ?it/s]"
      ]
     },
     "metadata": {},
     "output_type": "display_data"
    },
    {
     "name": "stdout",
     "output_type": "stream",
     "text": [
      "\n",
      "val_loss at fold 8 : 50.58455174260221\n",
      "-------------------------------------\n",
      "\n",
      "................... Fold : 9 ...............\n",
      "\n"
     ]
    },
    {
     "data": {
      "application/vnd.jupyter.widget-view+json": {
       "model_id": "3bab23b91f934ffd99b985a7878c7faa",
       "version_major": 2,
       "version_minor": 0
      },
      "text/plain": [
       "  0%|          | 0/100 [00:00<?, ?it/s]"
      ]
     },
     "metadata": {},
     "output_type": "display_data"
    },
    {
     "name": "stdout",
     "output_type": "stream",
     "text": [
      "\n",
      "val_loss at fold 9 : 49.229691244207494\n",
      "-------------------------------------\n",
      "\n",
      "................... Fold : 10 ...............\n",
      "\n"
     ]
    },
    {
     "data": {
      "application/vnd.jupyter.widget-view+json": {
       "model_id": "9d4a8018462d4efd99453d9bd3e60338",
       "version_major": 2,
       "version_minor": 0
      },
      "text/plain": [
       "  0%|          | 0/100 [00:00<?, ?it/s]"
      ]
     },
     "metadata": {},
     "output_type": "display_data"
    },
    {
     "name": "stdout",
     "output_type": "stream",
     "text": [
      "\n",
      "val_loss at fold 10 : 43.21770775587103\n",
      "-------------------------------------\n",
      "\n"
     ]
    },
    {
     "data": {
      "image/png": "[encoded data removed]",
      "text/plain": [
       "<Figure size 640x480 with 1 Axes>"
      ]
     },
     "metadata": {},
     "output_type": "display_data"
    },
    {
     "name": "stdout",
     "output_type": "stream",
     "text": [
      "Average validation loss across 10 folds: 44.5804\n"
     ]
    }
   ],
   "source": [
    "import torch\n",
    "import torch.nn as nn\n",
    "import torch.optim as optim\n",
    "from torch.utils.data import DataLoader, TensorDataset\n",
    "from sklearn.model_selection import KFold\n",
    "from sklearn.preprocessing import StandardScaler, Normalizer\n",
    "from tqdm.notebook import tqdm\n",
    "import matplotlib.pyplot as plt\n",
    "\n",
    "%matplotlib inline\n",
    "\n",
    "class NeuralNet(nn.Module):\n",
    "    def __init__(self, input_size):\n",
    "        super(NeuralNet, self).__init__()\n",
    "        self.fc1 = nn.Linear(input_size, 64)\n",
    "        self.relu = nn.ReLU()\n",
    "        self.dropout1 = nn.Dropout(0.1)  # Add dropout layer with dropout probability of 0.5\n",
    "        self.fc2 = nn.Linear(64, 64)\n",
    "        self.dropout2 = nn.Dropout(0.1)  # Add dropout layer with dropout probability of 0.5\n",
    "        self.fc3 = nn.Linear(64, 32)\n",
    "        self.dropout3 = nn.Dropout(0.1)\n",
    "        self.fc4 = nn.Linear(32, 1)\n",
    "\n",
    "    def forward(self, x):\n",
    "        x = self.relu(self.fc1(x))\n",
    "        x = self.dropout1(x)\n",
    "        x = self.relu(self.fc2(x))\n",
    "        x = self.dropout2(x)\n",
    "        x = self.fc3(x)\n",
    "        x = self.dropout3(x)\n",
    "        x = self.fc4(x)\n",
    "        return x\n",
    "\n",
    "# Function to train and evaluate the model\n",
    "def train_and_evaluate_model(X_train, y_train, train_index, val_index):\n",
    "    # Convert data to PyTorch tensors\n",
    "    X_train_tensor = torch.tensor(X_train[train_index], dtype=torch.float32)\n",
    "    y_train_tensor = torch.tensor(y_train.values[train_index], dtype=torch.float32).view(-1, 1)  # Reshape y to column vector\n",
    "    X_val_tensor = torch.tensor(X_train[val_index], dtype=torch.float32)\n",
    "    y_val_tensor = torch.tensor(y_train.values[val_index], dtype=torch.float32).view(-1, 1)  # Reshape y to column vector\n",
    "\n",
    "    # Instantiate the model\n",
    "    input_size = X_train.shape[1]\n",
    "    model = NeuralNet(input_size)\n",
    "\n",
    "    # Define loss function and optimizer\n",
    "    criterion = nn.MSELoss()\n",
    "    optimizer = optim.Adam(model.parameters(), lr=0.001)\n",
    "\n",
    "    # Convert data to DataLoader\n",
    "    train_dataset = TensorDataset(X_train_tensor, y_train_tensor)\n",
    "    train_loader = DataLoader(train_dataset, batch_size=32, shuffle=True)\n",
    "\n",
    "    # Training the model\n",
    "    num_epochs = 100\n",
    "    losses = [] # collecting all the average losses over epochs\n",
    "    \n",
    "    for epoch in tqdm(range(num_epochs)):\n",
    "        total_loss = 0\n",
    "        total_examples = 0\n",
    "        for inputs, targets in train_loader:\n",
    "            optimizer.zero_grad()\n",
    "            outputs = model(inputs)\n",
    "            loss = criterion(outputs, targets)\n",
    "            total_loss += loss\n",
    "            total_examples += len(targets)\n",
    "            loss.backward()\n",
    "            optimizer.step()\n",
    "#         # the average loss over all the batches\n",
    "#         print(f'epoch : {epoch}, loss : {total_loss / total_examples}')\n",
    "        losses.append(total_loss.detach().numpy() / total_examples)\n",
    "        \n",
    "#     plot_pts = [list(np.arange(num_epochs)), losses]\n",
    "    # plot training losses\n",
    "#     plot_data(plot_pts[0], plot_pts[1])\n",
    "    \n",
    "    # Evaluation\n",
    "    with torch.no_grad():\n",
    "        model.eval()\n",
    "        outputs = model(X_val_tensor)\n",
    "        val_loss = criterion(outputs, y_val_tensor)\n",
    "        return val_loss.item()\n",
    "\n",
    "# Assume your data is X_train and y_train\n",
    "\n",
    "# Normalize the data\n",
    "scaler = StandardScaler()\n",
    "X_scaled = scaler.fit_transform(X_train)\n",
    "# X_scaled = X_train\n",
    "\n",
    "# Define 10-fold cross-validation\n",
    "kf = KFold(n_splits=10, shuffle=False)\n",
    "\n",
    "val_losses = []\n",
    "f = 1\n",
    "# Perform 10-fold cross-validation\n",
    "for train_index, val_index in kf.split(X_scaled):\n",
    "    print(f'................... Fold : {f} ...............\\n')\n",
    "    val_loss = train_and_evaluate_model(X_scaled, y_train, train_index, val_index)\n",
    "    print(f'\\nval_loss at fold {f} : {np.sqrt(val_loss)}')\n",
    "    print(f'-------------------------------------\\n')\n",
    "    val_losses.append(val_loss)\n",
    "    f += 1\n",
    "\n",
    "plot_pts = [range(f - 1), val_losses]\n",
    "plot_data(plot_pts[0], plot_pts[1])\n",
    "    \n",
    "# Compute average validation loss\n",
    "avg_val_loss = np.sqrt(np.mean(val_losses))\n",
    "print(f'Average validation loss across 10 folds: {avg_val_loss:.4f}')\n"
   ]
  },
  {
   "cell_type": "markdown",
   "metadata": {},
   "source": [
    "### Baseline Results\n",
    "\n",
    "| ID | Model | Degree | Epochs | Regularization | Reg Epochs, Tol, Correlation Threshold, Selection | Lambda | N_features | Folds | RMSE |\n",
    "| --- | ---- | -------- | ----- | -------------- | ----- | ------ | ----- | ---- | ---- |\n",
    "| 1 | lr | 1 | None | None | None | 0 | All | 0 | **24.86964904316159** |\n",
    "| 2 | lr | 1 | None | L2 | X | 20 | X | 10 | 28.506133250715063 |\n",
    "| 3 | lr | 1 | None | None | None | 0 | 86 | 10 | **29.18143127944806** |\n",
    "| 4 | lr | 1 | None | L1 | 1000 | 1 | X | 10 | 27.67585141705469 | \n",
    "| 5 | lr | 1 | None | L1 | 10000, 0.01 | 1 | X | 10 | 27.666622998342643 |\n",
    "| 6 | lr | 2 | None | L2 | 2000 | 100 | X | 10 | 44.09927407811474 | \n",
    "| 7 | lr | 1 | None | L2 | 2000 | 20 | 68 (Correlation drop off) | 10 | 28.353964603124588 |\n",
    "| 8 | lr | 1 | None | L1 | 2000 | 1 | 68 | 10 | 27.617890371610304 |\n",
    "| 9 | lr | 1 | None | L1 | 2000, 0.01, 0.9 | 1 | 68 | 12 | 27.531726534989563 |\n",
    "| 10 | lr | 1 | None | L1 | 2000, 0.01, 0.89 | 1 | 68 | 12 | 27.531706402729764 |\n",
    "| 11 | lr | 1 | None | L1 | 2500, 0.03, 0.89, random | 1 | 67 | 12 | **27.369576649451645** |"
   ]
  },
  {
   "cell_type": "markdown",
   "metadata": {},
   "source": [
    "### Build the Best Model\n",
    "\n",
    "Select the best model from the grid_search or random_search's best_params and then create the model before prediction"
   ]
  },
  {
   "cell_type": "code",
   "execution_count": null,
   "metadata": {},
   "outputs": [],
   "source": []
  },
  {
   "cell_type": "markdown",
   "metadata": {},
   "source": [
    "# Prediction"
   ]
  },
  {
   "cell_type": "code",
   "execution_count": null,
   "metadata": {
    "execution": {
     "iopub.execute_input": "2024-02-16T17:15:27.415463Z",
     "iopub.status.busy": "2024-02-16T17:15:27.414997Z",
     "iopub.status.idle": "2024-02-16T17:15:27.436237Z",
     "shell.execute_reply": "2024-02-16T17:15:27.433960Z",
     "shell.execute_reply.started": "2024-02-16T17:15:27.415432Z"
    }
   },
   "outputs": [],
   "source": [
    "print(f'X_test.shape : {X_test.shape}')\n",
    "\n",
    "# predict\n",
    "# y_test = rr.predict(X_test)\n",
    "y_test = lasso_regressor.predict(X_test)\n",
    "\n",
    "test_data_output = pd.DataFrame({'CUST_ID' : test_data['CUST_ID'], 'CREDIT_SCORE' : y_test})\n",
    "\n",
    "print(f'test_data_output.columns : {test_data_output.columns}')\n",
    "print(f'test_data_output.shape : {test_data_output.shape}')"
   ]
  },
  {
   "cell_type": "markdown",
   "metadata": {},
   "source": [
    "### Save Output for Submission"
   ]
  },
  {
   "cell_type": "code",
   "execution_count": null,
   "metadata": {
    "execution": {
     "iopub.execute_input": "2024-02-16T17:15:43.054492Z",
     "iopub.status.busy": "2024-02-16T17:15:43.054003Z",
     "iopub.status.idle": "2024-02-16T17:15:43.064230Z",
     "shell.execute_reply": "2024-02-16T17:15:43.063017Z",
     "shell.execute_reply.started": "2024-02-16T17:15:43.054458Z"
    }
   },
   "outputs": [],
   "source": [
    "test_data_output.to_csv(f'{output_path}/submission_id10.csv', index = False)"
   ]
  },
  {
   "cell_type": "code",
   "execution_count": null,
   "metadata": {},
   "outputs": [],
   "source": []
  }
 ],
 "metadata": {
  "kaggle": {
   "accelerator": "none",
   "dataSources": [
    {
     "databundleVersionId": 7626890,
     "sourceId": 68740,
     "sourceType": "competition"
    }
   ],
   "dockerImageVersionId": 30646,
   "isGpuEnabled": false,
   "isInternetEnabled": false,
   "language": "python",
   "sourceType": "notebook"
  },
  "kernelspec": {
   "display_name": "Python [conda env:.conda-nlp]",
   "language": "python",
   "name": "conda-env-.conda-nlp-py"
  },
  "language_info": {
   "codemirror_mode": {
    "name": "ipython",
    "version": 3
   },
   "file_extension": ".py",
   "mimetype": "text/x-python",
   "name": "python",
   "nbconvert_exporter": "python",
   "pygments_lexer": "ipython3",
   "version": "3.11.5"
  }
 },
 "nbformat": 4,
 "nbformat_minor": 4
}
